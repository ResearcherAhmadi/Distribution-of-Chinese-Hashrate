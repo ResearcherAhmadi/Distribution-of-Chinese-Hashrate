{
 "cells": [
  {
   "cell_type": "markdown",
   "id": "138dec42",
   "metadata": {
    "papermill": {
     "duration": 0.019058,
     "end_time": "2024-09-06T07:23:49.779603",
     "exception": false,
     "start_time": "2024-09-06T07:23:49.760545",
     "status": "completed"
    },
    "tags": []
   },
   "source": [
    "# Distribution of Chinese Hashrate"
   ]
  },
  {
   "cell_type": "markdown",
   "id": "42247da7",
   "metadata": {
    "papermill": {
     "duration": 0.017121,
     "end_time": "2024-09-06T07:23:49.814721",
     "exception": false,
     "start_time": "2024-09-06T07:23:49.797600",
     "status": "completed"
    },
    "tags": []
   },
   "source": [
    "![](http://media.licdn.com/dms/image/v2/D4D22AQEnAEcwXHrvKg/feedshare-shrink_1280/feedshare-shrink_1280/0/1716287548057?e=1728518400&v=beta&t=90oYrsrpoTWJ0B6Ti84_dCcndcu13HeitkhgWGpPSb0)"
   ]
  },
  {
   "cell_type": "code",
   "execution_count": 1,
   "id": "6a88819e",
   "metadata": {
    "execution": {
     "iopub.execute_input": "2024-09-06T07:23:49.853418Z",
     "iopub.status.busy": "2024-09-06T07:23:49.852969Z",
     "iopub.status.idle": "2024-09-06T07:24:06.998981Z",
     "shell.execute_reply": "2024-09-06T07:24:06.997643Z"
    },
    "papermill": {
     "duration": 17.169846,
     "end_time": "2024-09-06T07:24:07.002108",
     "exception": false,
     "start_time": "2024-09-06T07:23:49.832262",
     "status": "completed"
    },
    "tags": []
   },
   "outputs": [
    {
     "name": "stdout",
     "output_type": "stream",
     "text": [
      "Requirement already satisfied: joblib in /opt/conda/lib/python3.10/site-packages (1.4.0)\r\n"
     ]
    }
   ],
   "source": [
    "!pip install joblib"
   ]
  },
  {
   "cell_type": "code",
   "execution_count": 2,
   "id": "d6866c4e",
   "metadata": {
    "_cell_guid": "b1076dfc-b9ad-4769-8c92-a6c4dae69d19",
    "_uuid": "8f2839f25d086af736a60e9eeb907d3b93b6e0e5",
    "execution": {
     "iopub.execute_input": "2024-09-06T07:24:07.039903Z",
     "iopub.status.busy": "2024-09-06T07:24:07.039488Z",
     "iopub.status.idle": "2024-09-06T07:24:11.269244Z",
     "shell.execute_reply": "2024-09-06T07:24:11.268095Z"
    },
    "papermill": {
     "duration": 4.251838,
     "end_time": "2024-09-06T07:24:11.272131",
     "exception": false,
     "start_time": "2024-09-06T07:24:07.020293",
     "status": "completed"
    },
    "tags": []
   },
   "outputs": [],
   "source": [
    "# Import Libraries for Data Preprocessing, Modeling, and Visualization\n",
    "import pandas as pd\n",
    "import numpy as np\n",
    "import plotly.express as px\n",
    "from sklearn.model_selection import train_test_split, GridSearchCV, RandomizedSearchCV, StratifiedKFold, cross_val_score\n",
    "from sklearn.preprocessing import OneHotEncoder\n",
    "from sklearn.metrics import accuracy_score, recall_score, precision_score, f1_score, confusion_matrix, classification_report\n",
    "from sklearn.ensemble import VotingClassifier, RandomForestClassifier, GradientBoostingClassifier, AdaBoostClassifier\n",
    "from sklearn.linear_model import LogisticRegression\n",
    "from sklearn.tree import DecisionTreeClassifier\n",
    "from sklearn.svm import SVC\n",
    "from sklearn.metrics import precision_recall_curve\n",
    "from sklearn.metrics import roc_curve, roc_auc_score\n",
    "from sklearn.neighbors import KNeighborsClassifier\n",
    "from sklearn.naive_bayes import GaussianNB\n",
    "from sklearn.discriminant_analysis import LinearDiscriminantAnalysis\n",
    "from sklearn.metrics import confusion_matrix, ConfusionMatrixDisplay\n",
    "from xgboost import XGBClassifier\n",
    "import plotly.graph_objects as go\n",
    "from plotly.subplots import make_subplots\n",
    "import joblib\n",
    "import seaborn as sns\n",
    "import matplotlib.pyplot as plt"
   ]
  },
  {
   "cell_type": "code",
   "execution_count": 3,
   "id": "71da7692",
   "metadata": {
    "execution": {
     "iopub.execute_input": "2024-09-06T07:24:11.310365Z",
     "iopub.status.busy": "2024-09-06T07:24:11.309341Z",
     "iopub.status.idle": "2024-09-06T07:24:11.333754Z",
     "shell.execute_reply": "2024-09-06T07:24:11.332529Z"
    },
    "papermill": {
     "duration": 0.046873,
     "end_time": "2024-09-06T07:24:11.336902",
     "exception": false,
     "start_time": "2024-09-06T07:24:11.290029",
     "status": "completed"
    },
    "tags": []
   },
   "outputs": [],
   "source": [
    "df= pd.read_csv('/kaggle/input/distribution-of-chinese-hashrate-by-province/export.csv')"
   ]
  },
  {
   "cell_type": "code",
   "execution_count": 4,
   "id": "05da9bc3",
   "metadata": {
    "execution": {
     "iopub.execute_input": "2024-09-06T07:24:11.377040Z",
     "iopub.status.busy": "2024-09-06T07:24:11.376576Z",
     "iopub.status.idle": "2024-09-06T07:24:11.408399Z",
     "shell.execute_reply": "2024-09-06T07:24:11.407256Z"
    },
    "papermill": {
     "duration": 0.056531,
     "end_time": "2024-09-06T07:24:11.410995",
     "exception": false,
     "start_time": "2024-09-06T07:24:11.354464",
     "status": "completed"
    },
    "tags": []
   },
   "outputs": [
    {
     "data": {
      "text/html": [
       "<div>\n",
       "<style scoped>\n",
       "    .dataframe tbody tr th:only-of-type {\n",
       "        vertical-align: middle;\n",
       "    }\n",
       "\n",
       "    .dataframe tbody tr th {\n",
       "        vertical-align: top;\n",
       "    }\n",
       "\n",
       "    .dataframe thead th {\n",
       "        text-align: right;\n",
       "    }\n",
       "</style>\n",
       "<table border=\"1\" class=\"dataframe\">\n",
       "  <thead>\n",
       "    <tr style=\"text-align: right;\">\n",
       "      <th></th>\n",
       "      <th>Date</th>\n",
       "      <th>Province</th>\n",
       "      <th>Share of Chinese hashrate</th>\n",
       "    </tr>\n",
       "  </thead>\n",
       "  <tbody>\n",
       "    <tr>\n",
       "      <th>0</th>\n",
       "      <td>2019-09-01</td>\n",
       "      <td>Sichuan</td>\n",
       "      <td>49.52</td>\n",
       "    </tr>\n",
       "    <tr>\n",
       "      <th>1</th>\n",
       "      <td>2019-09-01</td>\n",
       "      <td>Xinjiang</td>\n",
       "      <td>19.09</td>\n",
       "    </tr>\n",
       "    <tr>\n",
       "      <th>2</th>\n",
       "      <td>2019-09-01</td>\n",
       "      <td>Yunnan</td>\n",
       "      <td>13.55</td>\n",
       "    </tr>\n",
       "    <tr>\n",
       "      <th>3</th>\n",
       "      <td>2019-09-01</td>\n",
       "      <td>Inner Mongolia</td>\n",
       "      <td>8.00</td>\n",
       "    </tr>\n",
       "    <tr>\n",
       "      <th>4</th>\n",
       "      <td>2019-09-01</td>\n",
       "      <td>Other</td>\n",
       "      <td>4.92</td>\n",
       "    </tr>\n",
       "    <tr>\n",
       "      <th>...</th>\n",
       "      <td>...</td>\n",
       "      <td>...</td>\n",
       "      <td>...</td>\n",
       "    </tr>\n",
       "    <tr>\n",
       "      <th>201</th>\n",
       "      <td>2021-07-01</td>\n",
       "      <td>Shanxi</td>\n",
       "      <td>0.00</td>\n",
       "    </tr>\n",
       "    <tr>\n",
       "      <th>202</th>\n",
       "      <td>2021-07-01</td>\n",
       "      <td>Qinghai</td>\n",
       "      <td>0.00</td>\n",
       "    </tr>\n",
       "    <tr>\n",
       "      <th>203</th>\n",
       "      <td>2021-07-01</td>\n",
       "      <td>Inner Mongolia</td>\n",
       "      <td>0.00</td>\n",
       "    </tr>\n",
       "    <tr>\n",
       "      <th>204</th>\n",
       "      <td>2021-07-01</td>\n",
       "      <td>Beijing</td>\n",
       "      <td>0.00</td>\n",
       "    </tr>\n",
       "    <tr>\n",
       "      <th>205</th>\n",
       "      <td>2021-07-01</td>\n",
       "      <td>Gansu</td>\n",
       "      <td>0.00</td>\n",
       "    </tr>\n",
       "  </tbody>\n",
       "</table>\n",
       "<p>206 rows × 3 columns</p>\n",
       "</div>"
      ],
      "text/plain": [
       "           Date        Province  Share of Chinese hashrate\n",
       "0    2019-09-01         Sichuan                      49.52\n",
       "1    2019-09-01        Xinjiang                      19.09\n",
       "2    2019-09-01          Yunnan                      13.55\n",
       "3    2019-09-01  Inner Mongolia                       8.00\n",
       "4    2019-09-01           Other                       4.92\n",
       "..          ...             ...                        ...\n",
       "201  2021-07-01          Shanxi                       0.00\n",
       "202  2021-07-01         Qinghai                       0.00\n",
       "203  2021-07-01  Inner Mongolia                       0.00\n",
       "204  2021-07-01         Beijing                       0.00\n",
       "205  2021-07-01           Gansu                       0.00\n",
       "\n",
       "[206 rows x 3 columns]"
      ]
     },
     "execution_count": 4,
     "metadata": {},
     "output_type": "execute_result"
    }
   ],
   "source": [
    "df"
   ]
  },
  {
   "cell_type": "code",
   "execution_count": 5,
   "id": "87abc9d5",
   "metadata": {
    "execution": {
     "iopub.execute_input": "2024-09-06T07:24:11.448765Z",
     "iopub.status.busy": "2024-09-06T07:24:11.448352Z",
     "iopub.status.idle": "2024-09-06T07:24:11.475962Z",
     "shell.execute_reply": "2024-09-06T07:24:11.474690Z"
    },
    "papermill": {
     "duration": 0.049492,
     "end_time": "2024-09-06T07:24:11.478409",
     "exception": false,
     "start_time": "2024-09-06T07:24:11.428917",
     "status": "completed"
    },
    "tags": []
   },
   "outputs": [],
   "source": [
    "df['Date'] = pd.to_datetime(df['Date'])\n",
    "df_grouped = df.groupby(['Province', df['Date'].dt.year])['Share of Chinese hashrate'].sum().reset_index()"
   ]
  },
  {
   "cell_type": "code",
   "execution_count": 6,
   "id": "ca1950de",
   "metadata": {
    "execution": {
     "iopub.execute_input": "2024-09-06T07:24:11.516489Z",
     "iopub.status.busy": "2024-09-06T07:24:11.515154Z",
     "iopub.status.idle": "2024-09-06T07:24:11.538054Z",
     "shell.execute_reply": "2024-09-06T07:24:11.536831Z"
    },
    "papermill": {
     "duration": 0.045028,
     "end_time": "2024-09-06T07:24:11.541188",
     "exception": false,
     "start_time": "2024-09-06T07:24:11.496160",
     "status": "completed"
    },
    "tags": []
   },
   "outputs": [
    {
     "name": "stdout",
     "output_type": "stream",
     "text": [
      "Data Overview:\n",
      "        Date        Province  Share of Chinese hashrate\n",
      "0 2019-09-01         Sichuan                      49.52\n",
      "1 2019-09-01        Xinjiang                      19.09\n",
      "2 2019-09-01          Yunnan                      13.55\n",
      "3 2019-09-01  Inner Mongolia                       8.00\n",
      "4 2019-09-01           Other                       4.92\n",
      "\n",
      "Unique Provinces: 9\n",
      "\n",
      "Data Summary:\n",
      "                                Date  Share of Chinese hashrate\n",
      "count                            206                 206.000000\n",
      "mean   2020-08-01 03:57:40.194174720                  10.644951\n",
      "min              2019-09-01 00:00:00                   0.000000\n",
      "25%              2020-02-01 00:00:00                   1.120000\n",
      "50%              2020-08-01 00:00:00                   4.475000\n",
      "75%              2021-02-01 00:00:00                  12.450000\n",
      "max              2021-07-01 00:00:00                  61.100000\n",
      "std                              NaN                  14.731473\n"
     ]
    }
   ],
   "source": [
    "# Data overview\n",
    "print(\"Data Overview:\")\n",
    "print(df.head())\n",
    "print(f\"\\nUnique Provinces: {df['Province'].nunique()}\")\n",
    "print(f\"\\nData Summary:\\n{df.describe()}\")"
   ]
  },
  {
   "cell_type": "code",
   "execution_count": 7,
   "id": "0f79f7b0",
   "metadata": {
    "execution": {
     "iopub.execute_input": "2024-09-06T07:24:11.579609Z",
     "iopub.status.busy": "2024-09-06T07:24:11.579203Z",
     "iopub.status.idle": "2024-09-06T07:24:11.590394Z",
     "shell.execute_reply": "2024-09-06T07:24:11.588980Z"
    },
    "papermill": {
     "duration": 0.034229,
     "end_time": "2024-09-06T07:24:11.593920",
     "exception": false,
     "start_time": "2024-09-06T07:24:11.559691",
     "status": "completed"
    },
    "tags": []
   },
   "outputs": [
    {
     "name": "stdout",
     "output_type": "stream",
     "text": [
      "\n",
      "Missing Values Check:\n"
     ]
    },
    {
     "data": {
      "text/plain": [
       "Date                         0\n",
       "Province                     0\n",
       "Share of Chinese hashrate    0\n",
       "dtype: int64"
      ]
     },
     "execution_count": 7,
     "metadata": {},
     "output_type": "execute_result"
    }
   ],
   "source": [
    "# Check for missing values\n",
    "print(\"\\nMissing Values Check:\")\n",
    "df.isnull().sum()"
   ]
  },
  {
   "cell_type": "code",
   "execution_count": 8,
   "id": "0bffc7cf",
   "metadata": {
    "execution": {
     "iopub.execute_input": "2024-09-06T07:24:11.635545Z",
     "iopub.status.busy": "2024-09-06T07:24:11.635147Z",
     "iopub.status.idle": "2024-09-06T07:24:11.643729Z",
     "shell.execute_reply": "2024-09-06T07:24:11.642400Z"
    },
    "papermill": {
     "duration": 0.034389,
     "end_time": "2024-09-06T07:24:11.647339",
     "exception": false,
     "start_time": "2024-09-06T07:24:11.612950",
     "status": "completed"
    },
    "tags": []
   },
   "outputs": [
    {
     "data": {
      "text/plain": [
       "array(['Sichuan', 'Xinjiang', 'Yunnan', 'Inner Mongolia', 'Other',\n",
       "       'Gansu', 'Beijing', 'Shanxi', 'Qinghai'], dtype=object)"
      ]
     },
     "execution_count": 8,
     "metadata": {},
     "output_type": "execute_result"
    }
   ],
   "source": [
    "# Check the data to ensure it includes information for all provinces\n",
    "df['Province'].unique()"
   ]
  },
  {
   "cell_type": "code",
   "execution_count": 9,
   "id": "d18c31aa",
   "metadata": {
    "execution": {
     "iopub.execute_input": "2024-09-06T07:24:11.688444Z",
     "iopub.status.busy": "2024-09-06T07:24:11.687873Z",
     "iopub.status.idle": "2024-09-06T07:24:11.698348Z",
     "shell.execute_reply": "2024-09-06T07:24:11.697154Z"
    },
    "papermill": {
     "duration": 0.035615,
     "end_time": "2024-09-06T07:24:11.701310",
     "exception": false,
     "start_time": "2024-09-06T07:24:11.665695",
     "status": "completed"
    },
    "tags": []
   },
   "outputs": [
    {
     "data": {
      "text/plain": [
       "Date                         datetime64[ns]\n",
       "Province                             object\n",
       "Share of Chinese hashrate           float64\n",
       "dtype: object"
      ]
     },
     "execution_count": 9,
     "metadata": {},
     "output_type": "execute_result"
    }
   ],
   "source": [
    "# Check the data types of the columns\n",
    "df.dtypes"
   ]
  },
  {
   "cell_type": "code",
   "execution_count": 10,
   "id": "4164c2da",
   "metadata": {
    "execution": {
     "iopub.execute_input": "2024-09-06T07:24:11.740936Z",
     "iopub.status.busy": "2024-09-06T07:24:11.740522Z",
     "iopub.status.idle": "2024-09-06T07:24:11.747871Z",
     "shell.execute_reply": "2024-09-06T07:24:11.746522Z"
    },
    "papermill": {
     "duration": 0.032156,
     "end_time": "2024-09-06T07:24:11.752200",
     "exception": false,
     "start_time": "2024-09-06T07:24:11.720044",
     "status": "completed"
    },
    "tags": []
   },
   "outputs": [
    {
     "data": {
      "text/plain": [
       "(206, 3)"
      ]
     },
     "execution_count": 10,
     "metadata": {},
     "output_type": "execute_result"
    }
   ],
   "source": [
    "df.shape"
   ]
  },
  {
   "cell_type": "code",
   "execution_count": 11,
   "id": "dab3a331",
   "metadata": {
    "execution": {
     "iopub.execute_input": "2024-09-06T07:24:11.791759Z",
     "iopub.status.busy": "2024-09-06T07:24:11.791351Z",
     "iopub.status.idle": "2024-09-06T07:24:11.804253Z",
     "shell.execute_reply": "2024-09-06T07:24:11.803025Z"
    },
    "papermill": {
     "duration": 0.035913,
     "end_time": "2024-09-06T07:24:11.806822",
     "exception": false,
     "start_time": "2024-09-06T07:24:11.770909",
     "status": "completed"
    },
    "tags": []
   },
   "outputs": [],
   "source": [
    "# One-Hot Encoding for categorical 'Province' feature\n",
    "onehotencoder = OneHotEncoder()\n",
    "X_encoded = onehotencoder.fit_transform(df_grouped[['Province']]).toarray()\n",
    "X_encoded_df = pd.DataFrame(X_encoded, columns=onehotencoder.get_feature_names_out(['Province']))\n",
    "df_grouped['Year'] = df_grouped['Date']"
   ]
  },
  {
   "cell_type": "code",
   "execution_count": 12,
   "id": "c61b5154",
   "metadata": {
    "execution": {
     "iopub.execute_input": "2024-09-06T07:24:11.845655Z",
     "iopub.status.busy": "2024-09-06T07:24:11.845241Z",
     "iopub.status.idle": "2024-09-06T07:24:11.854068Z",
     "shell.execute_reply": "2024-09-06T07:24:11.852995Z"
    },
    "papermill": {
     "duration": 0.031241,
     "end_time": "2024-09-06T07:24:11.856548",
     "exception": false,
     "start_time": "2024-09-06T07:24:11.825307",
     "status": "completed"
    },
    "tags": []
   },
   "outputs": [],
   "source": [
    "# Prepare features and target\n",
    "X = pd.concat([X_encoded_df, df_grouped['Year']], axis=1)\n",
    "y = df_grouped['Share of Chinese hashrate'].apply(lambda x: 1 if x > df_grouped['Share of Chinese hashrate'].mean() else 0)"
   ]
  },
  {
   "cell_type": "code",
   "execution_count": 13,
   "id": "a855a8da",
   "metadata": {
    "execution": {
     "iopub.execute_input": "2024-09-06T07:24:11.897241Z",
     "iopub.status.busy": "2024-09-06T07:24:11.896825Z",
     "iopub.status.idle": "2024-09-06T07:24:11.906294Z",
     "shell.execute_reply": "2024-09-06T07:24:11.905241Z"
    },
    "papermill": {
     "duration": 0.032534,
     "end_time": "2024-09-06T07:24:11.908966",
     "exception": false,
     "start_time": "2024-09-06T07:24:11.876432",
     "status": "completed"
    },
    "tags": []
   },
   "outputs": [],
   "source": [
    "# Train-test split\n",
    "X_train, X_test, y_train, y_test = train_test_split(X, y, test_size=0.3, random_state=42)"
   ]
  },
  {
   "cell_type": "code",
   "execution_count": 14,
   "id": "1e515be8",
   "metadata": {
    "execution": {
     "iopub.execute_input": "2024-09-06T07:24:11.950038Z",
     "iopub.status.busy": "2024-09-06T07:24:11.949144Z",
     "iopub.status.idle": "2024-09-06T07:24:12.911347Z",
     "shell.execute_reply": "2024-09-06T07:24:12.910098Z"
    },
    "papermill": {
     "duration": 0.986687,
     "end_time": "2024-09-06T07:24:12.914495",
     "exception": false,
     "start_time": "2024-09-06T07:24:11.927808",
     "status": "completed"
    },
    "tags": []
   },
   "outputs": [
    {
     "data": {
      "image/png": "[encoded data removed]",
      "text/plain": [
       "<Figure size 1500x700 with 1 Axes>"
      ]
     },
     "metadata": {},
     "output_type": "display_data"
    },
    {
     "data": {
      "image/png": "[encoded data removed]",
      "text/plain": [
       "<Figure size 1500x700 with 1 Axes>"
      ]
     },
     "metadata": {},
     "output_type": "display_data"
    }
   ],
   "source": [
    "# Check if 'timestamp' column exists in the DataFrame\n",
    "if 'Date' in df.columns:\n",
    "    # Extracting column names from the DataFrame\n",
    "    columns = df.columns.tolist()\n",
    "    # Excluding 'timestamp' column from the list\n",
    "    columns.remove('Date')\n",
    "    # Plotting each column against 'timestamp' using a loop\n",
    "    for col in columns:\n",
    "        plt.figure(figsize=(15, 7))\n",
    "        plt.scatter(df['Date'], df[col])\n",
    "        plt.title(f'Date vs {col}')\n",
    "        plt.xlabel('Date')\n",
    "        plt.ylabel(col)\n",
    "        plt.grid(True)\n",
    "        plt.show()\n",
    "else:\n",
    "    print(\"The 'Date' column does not exist in the DataFrame.\")"
   ]
  },
  {
   "cell_type": "code",
   "execution_count": 15,
   "id": "84358a7d",
   "metadata": {
    "execution": {
     "iopub.execute_input": "2024-09-06T07:24:12.958821Z",
     "iopub.status.busy": "2024-09-06T07:24:12.957932Z",
     "iopub.status.idle": "2024-09-06T07:24:12.967588Z",
     "shell.execute_reply": "2024-09-06T07:24:12.966398Z"
    },
    "papermill": {
     "duration": 0.034945,
     "end_time": "2024-09-06T07:24:12.970268",
     "exception": false,
     "start_time": "2024-09-06T07:24:12.935323",
     "status": "completed"
    },
    "tags": []
   },
   "outputs": [],
   "source": [
    "# Extract the year from the 'Date' column (which is now grouped by year)\n",
    "df_grouped['Year'] = df_grouped['Date']  # 'Date' has been transformed to year already during groupby\n",
    "# Combine the encoded features with other numerical features (Year)\n",
    "X = pd.concat([X_encoded_df, df_grouped['Year']], axis=1)\n",
    "# Target variable (binarizing the hashrate share)\n",
    "y = df_grouped['Share of Chinese hashrate'].apply(lambda x: 1 if x > df_grouped['Share of Chinese hashrate'].mean() else 0)"
   ]
  },
  {
   "cell_type": "code",
   "execution_count": 16,
   "id": "b529704e",
   "metadata": {
    "execution": {
     "iopub.execute_input": "2024-09-06T07:24:13.012942Z",
     "iopub.status.busy": "2024-09-06T07:24:13.012524Z",
     "iopub.status.idle": "2024-09-06T07:24:13.028737Z",
     "shell.execute_reply": "2024-09-06T07:24:13.027240Z"
    },
    "papermill": {
     "duration": 0.040519,
     "end_time": "2024-09-06T07:24:13.031638",
     "exception": false,
     "start_time": "2024-09-06T07:24:12.991119",
     "status": "completed"
    },
    "tags": []
   },
   "outputs": [],
   "source": [
    "df_grouped_pivot = df_grouped.pivot(index='Province', columns='Date', values='Share of Chinese hashrate').fillna(0)"
   ]
  },
  {
   "cell_type": "code",
   "execution_count": 17,
   "id": "fcf73d24",
   "metadata": {
    "execution": {
     "iopub.execute_input": "2024-09-06T07:24:13.074047Z",
     "iopub.status.busy": "2024-09-06T07:24:13.073595Z",
     "iopub.status.idle": "2024-09-06T07:24:13.594509Z",
     "shell.execute_reply": "2024-09-06T07:24:13.593035Z"
    },
    "papermill": {
     "duration": 0.545991,
     "end_time": "2024-09-06T07:24:13.597545",
     "exception": false,
     "start_time": "2024-09-06T07:24:13.051554",
     "status": "completed"
    },
    "tags": []
   },
   "outputs": [
    {
     "data": {
      "image/png": "[encoded data removed]",
      "text/plain": [
       "<Figure size 1200x800 with 2 Axes>"
      ]
     },
     "metadata": {},
     "output_type": "display_data"
    }
   ],
   "source": [
    "# Plot: Heatmap of Hashrate Distribution by Province Over Time\n",
    "plt.figure(figsize=(12, 8))\n",
    "sns.heatmap(df_grouped_pivot, annot=True, cmap='YlGnBu', linewidths=0.5)\n",
    "plt.title('Heatmap of Hashrate Distribution by Province Over Time')\n",
    "plt.xlabel('Year')\n",
    "plt.ylabel('Province')\n",
    "plt.tight_layout()\n",
    "plt.show()"
   ]
  },
  {
   "cell_type": "code",
   "execution_count": 18,
   "id": "4d54c99f",
   "metadata": {
    "execution": {
     "iopub.execute_input": "2024-09-06T07:24:13.644203Z",
     "iopub.status.busy": "2024-09-06T07:24:13.643751Z",
     "iopub.status.idle": "2024-09-06T07:24:16.079913Z",
     "shell.execute_reply": "2024-09-06T07:24:16.078748Z"
    },
    "papermill": {
     "duration": 2.462849,
     "end_time": "2024-09-06T07:24:16.082672",
     "exception": false,
     "start_time": "2024-09-06T07:24:13.619823",
     "status": "completed"
    },
    "tags": []
   },
   "outputs": [
    {
     "name": "stderr",
     "output_type": "stream",
     "text": [
      "/opt/conda/lib/python3.10/site-packages/plotly/express/_core.py:2065: FutureWarning: When grouping with a length-1 list-like, you will need to pass a length-1 tuple to get_group in a future version of pandas. Pass `(name,)` instead of `name` to silence this warning.\n",
      "  sf: grouped.get_group(s if len(s) > 1 else s[0])\n"
     ]
    },
    {
     "data": {
      "text/html": [
       "        <script type=\"text/javascript\">\n",
       "        window.PlotlyConfig = {MathJaxConfig: 'local'};\n",
       "        if (window.MathJax && window.MathJax.Hub && window.MathJax.Hub.Config) {window.MathJax.Hub.Config({SVG: {font: \"STIX-Web\"}});}\n",
       "        if (typeof require !== 'undefined') {\n",
       "        require.undef(\"plotly\");\n",
       "        requirejs.config({\n",
       "            paths: {\n",
       "                'plotly': ['https://cdn.plot.ly/plotly-2.27.0.min']\n",
       "            }\n",
       "        });\n",
       "        require(['plotly'], function(Plotly) {\n",
       "            window._Plotly = Plotly;\n",
       "        });\n",
       "        }\n",
       "        </script>\n",
       "        "
      ]
     },
     "metadata": {},
     "output_type": "display_data"
    },
    {
     "data": {
      "text/html": [
       "<div>                            <div id=\"d64e6754-90f1-4d89-833d-e2c666e2071a\" class=\"plotly-graph-div\" style=\"height:525px; width:100%;\"></div>            <script type=\"text/javascript\">                require([\"plotly\"], function(Plotly) {                    window.PLOTLYENV=window.PLOTLYENV || {};                                    if (document.getElementById(\"d64e6754-90f1-4d89-833d-e2c666e2071a\")) {                    Plotly.newPlot(                        \"d64e6754-90f1-4d89-833d-e2c666e2071a\",                        [{\"hovertemplate\":\"Province=Sichuan\\u003cbr\\u003eDate=%{x}\\u003cbr\\u003eHashrate (%)=%{y}\\u003cextra\\u003e\\u003c\\u002fextra\\u003e\",\"legendgroup\":\"Sichuan\",\"line\":{\"color\":\"#636efa\",\"dash\":\"solid\"},\"marker\":{\"symbol\":\"circle\"},\"mode\":\"markers+lines\",\"name\":\"Sichuan\",\"orientation\":\"v\",\"showlegend\":true,\"x\":[\"2019-09-01T00:00:00\",\"2019-10-01T00:00:00\",\"2019-11-01T00:00:00\",\"2019-12-01T00:00:00\",\"2020-01-01T00:00:00\",\"2020-02-01T00:00:00\",\"2020-03-01T00:00:00\",\"2020-04-01T00:00:00\",\"2020-05-01T00:00:00\",\"2020-06-01T00:00:00\",\"2020-07-01T00:00:00\",\"2020-08-01T00:00:00\",\"2020-09-01T00:00:00\",\"2020-10-01T00:00:00\",\"2020-11-01T00:00:00\",\"2020-12-01T00:00:00\",\"2021-01-01T00:00:00\",\"2021-02-01T00:00:00\",\"2021-03-01T00:00:00\",\"2021-04-01T00:00:00\",\"2021-05-01T00:00:00\",\"2021-06-01T00:00:00\",\"2021-07-01T00:00:00\"],\"xaxis\":\"x\",\"y\":[49.52,43.04,32.0,18.03,16.67,15.39,14.65,14.91,26.4,43.37,52.66,50.49,61.1,51.75,24.14,12.63,8.64,8.86,10.13,16.35,22.2,42.59,0.0],\"yaxis\":\"y\",\"type\":\"scatter\"},{\"hovertemplate\":\"Province=Xinjiang\\u003cbr\\u003eDate=%{x}\\u003cbr\\u003eHashrate (%)=%{y}\\u003cextra\\u003e\\u003c\\u002fextra\\u003e\",\"legendgroup\":\"Xinjiang\",\"line\":{\"color\":\"#EF553B\",\"dash\":\"solid\"},\"marker\":{\"symbol\":\"circle\"},\"mode\":\"markers+lines\",\"name\":\"Xinjiang\",\"orientation\":\"v\",\"showlegend\":true,\"x\":[\"2019-09-01T00:00:00\",\"2019-10-01T00:00:00\",\"2019-11-01T00:00:00\",\"2019-12-01T00:00:00\",\"2020-01-01T00:00:00\",\"2020-02-01T00:00:00\",\"2020-03-01T00:00:00\",\"2020-04-01T00:00:00\",\"2020-05-01T00:00:00\",\"2020-06-01T00:00:00\",\"2020-07-01T00:00:00\",\"2020-08-01T00:00:00\",\"2020-09-01T00:00:00\",\"2020-10-01T00:00:00\",\"2020-11-01T00:00:00\",\"2020-12-01T00:00:00\",\"2021-01-01T00:00:00\",\"2021-02-01T00:00:00\",\"2021-03-01T00:00:00\",\"2021-04-01T00:00:00\",\"2021-05-01T00:00:00\",\"2021-06-01T00:00:00\",\"2021-07-01T00:00:00\"],\"xaxis\":\"x\",\"y\":[19.09,27.35,36.03,46.5,49.54,51.53,55.59,55.18,35.71,27.32,19.83,17.27,9.64,13.03,33.33,46.37,47.27,46.66,59.32,54.37,53.25,32.25,0.0],\"yaxis\":\"y\",\"type\":\"scatter\"},{\"hovertemplate\":\"Province=Yunnan\\u003cbr\\u003eDate=%{x}\\u003cbr\\u003eHashrate (%)=%{y}\\u003cextra\\u003e\\u003c\\u002fextra\\u003e\",\"legendgroup\":\"Yunnan\",\"line\":{\"color\":\"#00cc96\",\"dash\":\"solid\"},\"marker\":{\"symbol\":\"circle\"},\"mode\":\"markers+lines\",\"name\":\"Yunnan\",\"orientation\":\"v\",\"showlegend\":true,\"x\":[\"2019-09-01T00:00:00\",\"2019-10-01T00:00:00\",\"2019-11-01T00:00:00\",\"2019-12-01T00:00:00\",\"2020-01-01T00:00:00\",\"2020-02-01T00:00:00\",\"2020-03-01T00:00:00\",\"2020-04-01T00:00:00\",\"2020-05-01T00:00:00\",\"2020-06-01T00:00:00\",\"2020-07-01T00:00:00\",\"2020-08-01T00:00:00\",\"2020-09-01T00:00:00\",\"2020-10-01T00:00:00\",\"2020-11-01T00:00:00\",\"2020-12-01T00:00:00\",\"2021-01-01T00:00:00\",\"2021-02-01T00:00:00\",\"2021-03-01T00:00:00\",\"2021-04-01T00:00:00\",\"2021-05-01T00:00:00\",\"2021-06-01T00:00:00\",\"2021-07-01T00:00:00\"],\"xaxis\":\"x\",\"y\":[13.55,11.27,11.12,9.05,8.33,8.56,8.32,8.36,11.66,12.35,14.69,16.83,14.9,14.66,17.23,11.36,10.58,10.02,7.69,8.72,7.85,13.03,0.0],\"yaxis\":\"y\",\"type\":\"scatter\"},{\"hovertemplate\":\"Province=Inner Mongolia\\u003cbr\\u003eDate=%{x}\\u003cbr\\u003eHashrate (%)=%{y}\\u003cextra\\u003e\\u003c\\u002fextra\\u003e\",\"legendgroup\":\"Inner Mongolia\",\"line\":{\"color\":\"#ab63fa\",\"dash\":\"solid\"},\"marker\":{\"symbol\":\"circle\"},\"mode\":\"markers+lines\",\"name\":\"Inner Mongolia\",\"orientation\":\"v\",\"showlegend\":true,\"x\":[\"2019-09-01T00:00:00\",\"2019-10-01T00:00:00\",\"2019-11-01T00:00:00\",\"2019-12-01T00:00:00\",\"2020-01-01T00:00:00\",\"2020-02-01T00:00:00\",\"2020-03-01T00:00:00\",\"2020-04-01T00:00:00\",\"2020-05-01T00:00:00\",\"2020-07-01T00:00:00\",\"2020-08-01T00:00:00\",\"2020-09-01T00:00:00\",\"2020-10-01T00:00:00\",\"2020-11-01T00:00:00\",\"2020-12-01T00:00:00\",\"2021-01-01T00:00:00\",\"2021-02-01T00:00:00\",\"2021-03-01T00:00:00\",\"2021-04-01T00:00:00\",\"2021-05-01T00:00:00\",\"2021-06-01T00:00:00\",\"2021-07-01T00:00:00\"],\"xaxis\":\"x\",\"y\":[8.0,8.46,9.68,12.45,11.37,11.78,12.51,12.45,10.75,5.59,6.62,4.09,4.46,11.11,14.26,17.22,17.05,6.36,3.73,1.17,0.13,0.0],\"yaxis\":\"y\",\"type\":\"scatter\"},{\"hovertemplate\":\"Province=Other\\u003cbr\\u003eDate=%{x}\\u003cbr\\u003eHashrate (%)=%{y}\\u003cextra\\u003e\\u003c\\u002fextra\\u003e\",\"legendgroup\":\"Other\",\"line\":{\"color\":\"#FFA15A\",\"dash\":\"solid\"},\"marker\":{\"symbol\":\"circle\"},\"mode\":\"markers+lines\",\"name\":\"Other\",\"orientation\":\"v\",\"showlegend\":true,\"x\":[\"2019-09-01T00:00:00\",\"2019-10-01T00:00:00\",\"2019-11-01T00:00:00\",\"2019-12-01T00:00:00\",\"2020-01-01T00:00:00\",\"2020-02-01T00:00:00\",\"2020-03-01T00:00:00\",\"2020-04-01T00:00:00\",\"2020-05-01T00:00:00\",\"2020-06-01T00:00:00\",\"2020-07-01T00:00:00\",\"2020-08-01T00:00:00\",\"2020-09-01T00:00:00\",\"2020-10-01T00:00:00\",\"2020-11-01T00:00:00\",\"2020-12-01T00:00:00\",\"2021-01-01T00:00:00\",\"2021-02-01T00:00:00\",\"2021-03-01T00:00:00\",\"2021-04-01T00:00:00\",\"2021-05-01T00:00:00\",\"2021-06-01T00:00:00\",\"2021-07-01T00:00:00\"],\"xaxis\":\"x\",\"y\":[4.92,4.09,4.52,5.83,6.65,5.65,4.59,4.21,11.1,6.35,4.17,4.26,5.06,9.63,8.02,8.13,8.96,8.81,7.1,7.33,7.22,6.6,0.0],\"yaxis\":\"y\",\"type\":\"scatter\"},{\"hovertemplate\":\"Province=Gansu\\u003cbr\\u003eDate=%{x}\\u003cbr\\u003eHashrate (%)=%{y}\\u003cextra\\u003e\\u003c\\u002fextra\\u003e\",\"legendgroup\":\"Gansu\",\"line\":{\"color\":\"#19d3f3\",\"dash\":\"solid\"},\"marker\":{\"symbol\":\"circle\"},\"mode\":\"markers+lines\",\"name\":\"Gansu\",\"orientation\":\"v\",\"showlegend\":true,\"x\":[\"2019-09-01T00:00:00\",\"2019-10-01T00:00:00\",\"2019-11-01T00:00:00\",\"2019-12-01T00:00:00\",\"2020-01-01T00:00:00\",\"2020-02-01T00:00:00\",\"2020-03-01T00:00:00\",\"2020-04-01T00:00:00\",\"2020-05-01T00:00:00\",\"2020-06-01T00:00:00\",\"2020-07-01T00:00:00\",\"2020-08-01T00:00:00\",\"2020-09-01T00:00:00\",\"2020-10-01T00:00:00\",\"2020-11-01T00:00:00\",\"2020-12-01T00:00:00\",\"2021-01-01T00:00:00\",\"2021-02-01T00:00:00\",\"2021-03-01T00:00:00\",\"2021-04-01T00:00:00\",\"2021-05-01T00:00:00\",\"2021-06-01T00:00:00\",\"2021-07-01T00:00:00\"],\"xaxis\":\"x\",\"y\":[2.58,3.43,3.87,3.8,3.54,3.31,0.95,0.79,1.37,1.12,1.05,0.91,0.63,0.99,1.52,1.61,1.5,1.5,1.25,1.34,1.22,1.75,0.0],\"yaxis\":\"y\",\"type\":\"scatter\"},{\"hovertemplate\":\"Province=Beijing\\u003cbr\\u003eDate=%{x}\\u003cbr\\u003eHashrate (%)=%{y}\\u003cextra\\u003e\\u003c\\u002fextra\\u003e\",\"legendgroup\":\"Beijing\",\"line\":{\"color\":\"#FF6692\",\"dash\":\"solid\"},\"marker\":{\"symbol\":\"circle\"},\"mode\":\"markers+lines\",\"name\":\"Beijing\",\"orientation\":\"v\",\"showlegend\":true,\"x\":[\"2019-09-01T00:00:00\",\"2019-10-01T00:00:00\",\"2019-11-01T00:00:00\",\"2019-12-01T00:00:00\",\"2020-01-01T00:00:00\",\"2020-02-01T00:00:00\",\"2020-03-01T00:00:00\",\"2020-04-01T00:00:00\",\"2020-05-01T00:00:00\",\"2020-06-01T00:00:00\",\"2020-07-01T00:00:00\",\"2020-08-01T00:00:00\",\"2020-09-01T00:00:00\",\"2020-10-01T00:00:00\",\"2020-11-01T00:00:00\",\"2020-12-01T00:00:00\",\"2021-01-01T00:00:00\",\"2021-02-01T00:00:00\",\"2021-03-01T00:00:00\",\"2021-04-01T00:00:00\",\"2021-05-01T00:00:00\",\"2021-06-01T00:00:00\",\"2021-07-01T00:00:00\"],\"xaxis\":\"x\",\"y\":[0.86,1.13,1.36,2.81,2.43,2.31,1.89,2.67,0.89,0.62,0.84,2.19,3.27,3.6,2.28,2.76,2.78,3.92,4.9,4.84,4.49,1.59,0.0],\"yaxis\":\"y\",\"type\":\"scatter\"},{\"hovertemplate\":\"Province=Shanxi\\u003cbr\\u003eDate=%{x}\\u003cbr\\u003eHashrate (%)=%{y}\\u003cextra\\u003e\\u003c\\u002fextra\\u003e\",\"legendgroup\":\"Shanxi\",\"line\":{\"color\":\"#B6E880\",\"dash\":\"solid\"},\"marker\":{\"symbol\":\"circle\"},\"mode\":\"markers+lines\",\"name\":\"Shanxi\",\"orientation\":\"v\",\"showlegend\":true,\"x\":[\"2019-09-01T00:00:00\",\"2019-10-01T00:00:00\",\"2019-11-01T00:00:00\",\"2019-12-01T00:00:00\",\"2020-01-01T00:00:00\",\"2020-02-01T00:00:00\",\"2020-03-01T00:00:00\",\"2020-04-01T00:00:00\",\"2020-05-01T00:00:00\",\"2020-06-01T00:00:00\",\"2020-07-01T00:00:00\",\"2020-08-01T00:00:00\",\"2020-09-01T00:00:00\",\"2020-10-01T00:00:00\",\"2020-11-01T00:00:00\",\"2020-12-01T00:00:00\",\"2021-01-01T00:00:00\",\"2021-02-01T00:00:00\",\"2021-03-01T00:00:00\",\"2021-04-01T00:00:00\",\"2021-05-01T00:00:00\",\"2021-06-01T00:00:00\",\"2021-07-01T00:00:00\"],\"xaxis\":\"x\",\"y\":[0.81,0.81,0.85,1.03,1.03,1.1,1.12,1.03,1.36,1.11,0.65,0.94,0.86,1.14,1.32,1.32,1.24,0.94,0.74,1.0,0.99,1.4,0.0],\"yaxis\":\"y\",\"type\":\"scatter\"},{\"hovertemplate\":\"Province=Qinghai\\u003cbr\\u003eDate=%{x}\\u003cbr\\u003eHashrate (%)=%{y}\\u003cextra\\u003e\\u003c\\u002fextra\\u003e\",\"legendgroup\":\"Qinghai\",\"line\":{\"color\":\"#FF97FF\",\"dash\":\"solid\"},\"marker\":{\"symbol\":\"circle\"},\"mode\":\"markers+lines\",\"name\":\"Qinghai\",\"orientation\":\"v\",\"showlegend\":true,\"x\":[\"2019-09-01T00:00:00\",\"2019-10-01T00:00:00\",\"2019-11-01T00:00:00\",\"2019-12-01T00:00:00\",\"2020-01-01T00:00:00\",\"2020-02-01T00:00:00\",\"2020-03-01T00:00:00\",\"2020-04-01T00:00:00\",\"2020-05-01T00:00:00\",\"2020-06-01T00:00:00\",\"2020-07-01T00:00:00\",\"2020-08-01T00:00:00\",\"2020-09-01T00:00:00\",\"2020-10-01T00:00:00\",\"2020-11-01T00:00:00\",\"2020-12-01T00:00:00\",\"2021-01-01T00:00:00\",\"2021-02-01T00:00:00\",\"2021-03-01T00:00:00\",\"2021-04-01T00:00:00\",\"2021-05-01T00:00:00\",\"2021-06-01T00:00:00\",\"2021-07-01T00:00:00\"],\"xaxis\":\"x\",\"y\":[0.67,0.42,0.56,0.51,0.43,0.37,0.38,0.4,0.76,0.62,0.52,0.49,0.44,0.75,1.06,1.57,1.81,2.23,2.51,2.31,1.62,0.66,0.0],\"yaxis\":\"y\",\"type\":\"scatter\"}],                        {\"template\":{\"data\":{\"histogram2dcontour\":[{\"type\":\"histogram2dcontour\",\"colorbar\":{\"outlinewidth\":0,\"ticks\":\"\"},\"colorscale\":[[0.0,\"#0d0887\"],[0.1111111111111111,\"#46039f\"],[0.2222222222222222,\"#7201a8\"],[0.3333333333333333,\"#9c179e\"],[0.4444444444444444,\"#bd3786\"],[0.5555555555555556,\"#d8576b\"],[0.6666666666666666,\"#ed7953\"],[0.7777777777777778,\"#fb9f3a\"],[0.8888888888888888,\"#fdca26\"],[1.0,\"#f0f921\"]]}],\"choropleth\":[{\"type\":\"choropleth\",\"colorbar\":{\"outlinewidth\":0,\"ticks\":\"\"}}],\"histogram2d\":[{\"type\":\"histogram2d\",\"colorbar\":{\"outlinewidth\":0,\"ticks\":\"\"},\"colorscale\":[[0.0,\"#0d0887\"],[0.1111111111111111,\"#46039f\"],[0.2222222222222222,\"#7201a8\"],[0.3333333333333333,\"#9c179e\"],[0.4444444444444444,\"#bd3786\"],[0.5555555555555556,\"#d8576b\"],[0.6666666666666666,\"#ed7953\"],[0.7777777777777778,\"#fb9f3a\"],[0.8888888888888888,\"#fdca26\"],[1.0,\"#f0f921\"]]}],\"heatmap\":[{\"type\":\"heatmap\",\"colorbar\":{\"outlinewidth\":0,\"ticks\":\"\"},\"colorscale\":[[0.0,\"#0d0887\"],[0.1111111111111111,\"#46039f\"],[0.2222222222222222,\"#7201a8\"],[0.3333333333333333,\"#9c179e\"],[0.4444444444444444,\"#bd3786\"],[0.5555555555555556,\"#d8576b\"],[0.6666666666666666,\"#ed7953\"],[0.7777777777777778,\"#fb9f3a\"],[0.8888888888888888,\"#fdca26\"],[1.0,\"#f0f921\"]]}],\"heatmapgl\":[{\"type\":\"heatmapgl\",\"colorbar\":{\"outlinewidth\":0,\"ticks\":\"\"},\"colorscale\":[[0.0,\"#0d0887\"],[0.1111111111111111,\"#46039f\"],[0.2222222222222222,\"#7201a8\"],[0.3333333333333333,\"#9c179e\"],[0.4444444444444444,\"#bd3786\"],[0.5555555555555556,\"#d8576b\"],[0.6666666666666666,\"#ed7953\"],[0.7777777777777778,\"#fb9f3a\"],[0.8888888888888888,\"#fdca26\"],[1.0,\"#f0f921\"]]}],\"contourcarpet\":[{\"type\":\"contourcarpet\",\"colorbar\":{\"outlinewidth\":0,\"ticks\":\"\"}}],\"contour\":[{\"type\":\"contour\",\"colorbar\":{\"outlinewidth\":0,\"ticks\":\"\"},\"colorscale\":[[0.0,\"#0d0887\"],[0.1111111111111111,\"#46039f\"],[0.2222222222222222,\"#7201a8\"],[0.3333333333333333,\"#9c179e\"],[0.4444444444444444,\"#bd3786\"],[0.5555555555555556,\"#d8576b\"],[0.6666666666666666,\"#ed7953\"],[0.7777777777777778,\"#fb9f3a\"],[0.8888888888888888,\"#fdca26\"],[1.0,\"#f0f921\"]]}],\"surface\":[{\"type\":\"surface\",\"colorbar\":{\"outlinewidth\":0,\"ticks\":\"\"},\"colorscale\":[[0.0,\"#0d0887\"],[0.1111111111111111,\"#46039f\"],[0.2222222222222222,\"#7201a8\"],[0.3333333333333333,\"#9c179e\"],[0.4444444444444444,\"#bd3786\"],[0.5555555555555556,\"#d8576b\"],[0.6666666666666666,\"#ed7953\"],[0.7777777777777778,\"#fb9f3a\"],[0.8888888888888888,\"#fdca26\"],[1.0,\"#f0f921\"]]}],\"mesh3d\":[{\"type\":\"mesh3d\",\"colorbar\":{\"outlinewidth\":0,\"ticks\":\"\"}}],\"scatter\":[{\"fillpattern\":{\"fillmode\":\"overlay\",\"size\":10,\"solidity\":0.2},\"type\":\"scatter\"}],\"parcoords\":[{\"type\":\"parcoords\",\"line\":{\"colorbar\":{\"outlinewidth\":0,\"ticks\":\"\"}}}],\"scatterpolargl\":[{\"type\":\"scatterpolargl\",\"marker\":{\"colorbar\":{\"outlinewidth\":0,\"ticks\":\"\"}}}],\"bar\":[{\"error_x\":{\"color\":\"#2a3f5f\"},\"error_y\":{\"color\":\"#2a3f5f\"},\"marker\":{\"line\":{\"color\":\"#E5ECF6\",\"width\":0.5},\"pattern\":{\"fillmode\":\"overlay\",\"size\":10,\"solidity\":0.2}},\"type\":\"bar\"}],\"scattergeo\":[{\"type\":\"scattergeo\",\"marker\":{\"colorbar\":{\"outlinewidth\":0,\"ticks\":\"\"}}}],\"scatterpolar\":[{\"type\":\"scatterpolar\",\"marker\":{\"colorbar\":{\"outlinewidth\":0,\"ticks\":\"\"}}}],\"histogram\":[{\"marker\":{\"pattern\":{\"fillmode\":\"overlay\",\"size\":10,\"solidity\":0.2}},\"type\":\"histogram\"}],\"scattergl\":[{\"type\":\"scattergl\",\"marker\":{\"colorbar\":{\"outlinewidth\":0,\"ticks\":\"\"}}}],\"scatter3d\":[{\"type\":\"scatter3d\",\"line\":{\"colorbar\":{\"outlinewidth\":0,\"ticks\":\"\"}},\"marker\":{\"colorbar\":{\"outlinewidth\":0,\"ticks\":\"\"}}}],\"scattermapbox\":[{\"type\":\"scattermapbox\",\"marker\":{\"colorbar\":{\"outlinewidth\":0,\"ticks\":\"\"}}}],\"scatterternary\":[{\"type\":\"scatterternary\",\"marker\":{\"colorbar\":{\"outlinewidth\":0,\"ticks\":\"\"}}}],\"scattercarpet\":[{\"type\":\"scattercarpet\",\"marker\":{\"colorbar\":{\"outlinewidth\":0,\"ticks\":\"\"}}}],\"carpet\":[{\"aaxis\":{\"endlinecolor\":\"#2a3f5f\",\"gridcolor\":\"white\",\"linecolor\":\"white\",\"minorgridcolor\":\"white\",\"startlinecolor\":\"#2a3f5f\"},\"baxis\":{\"endlinecolor\":\"#2a3f5f\",\"gridcolor\":\"white\",\"linecolor\":\"white\",\"minorgridcolor\":\"white\",\"startlinecolor\":\"#2a3f5f\"},\"type\":\"carpet\"}],\"table\":[{\"cells\":{\"fill\":{\"color\":\"#EBF0F8\"},\"line\":{\"color\":\"white\"}},\"header\":{\"fill\":{\"color\":\"#C8D4E3\"},\"line\":{\"color\":\"white\"}},\"type\":\"table\"}],\"barpolar\":[{\"marker\":{\"line\":{\"color\":\"#E5ECF6\",\"width\":0.5},\"pattern\":{\"fillmode\":\"overlay\",\"size\":10,\"solidity\":0.2}},\"type\":\"barpolar\"}],\"pie\":[{\"automargin\":true,\"type\":\"pie\"}]},\"layout\":{\"autotypenumbers\":\"strict\",\"colorway\":[\"#636efa\",\"#EF553B\",\"#00cc96\",\"#ab63fa\",\"#FFA15A\",\"#19d3f3\",\"#FF6692\",\"#B6E880\",\"#FF97FF\",\"#FECB52\"],\"font\":{\"color\":\"#2a3f5f\"},\"hovermode\":\"closest\",\"hoverlabel\":{\"align\":\"left\"},\"paper_bgcolor\":\"white\",\"plot_bgcolor\":\"#E5ECF6\",\"polar\":{\"bgcolor\":\"#E5ECF6\",\"angularaxis\":{\"gridcolor\":\"white\",\"linecolor\":\"white\",\"ticks\":\"\"},\"radialaxis\":{\"gridcolor\":\"white\",\"linecolor\":\"white\",\"ticks\":\"\"}},\"ternary\":{\"bgcolor\":\"#E5ECF6\",\"aaxis\":{\"gridcolor\":\"white\",\"linecolor\":\"white\",\"ticks\":\"\"},\"baxis\":{\"gridcolor\":\"white\",\"linecolor\":\"white\",\"ticks\":\"\"},\"caxis\":{\"gridcolor\":\"white\",\"linecolor\":\"white\",\"ticks\":\"\"}},\"coloraxis\":{\"colorbar\":{\"outlinewidth\":0,\"ticks\":\"\"}},\"colorscale\":{\"sequential\":[[0.0,\"#0d0887\"],[0.1111111111111111,\"#46039f\"],[0.2222222222222222,\"#7201a8\"],[0.3333333333333333,\"#9c179e\"],[0.4444444444444444,\"#bd3786\"],[0.5555555555555556,\"#d8576b\"],[0.6666666666666666,\"#ed7953\"],[0.7777777777777778,\"#fb9f3a\"],[0.8888888888888888,\"#fdca26\"],[1.0,\"#f0f921\"]],\"sequentialminus\":[[0.0,\"#0d0887\"],[0.1111111111111111,\"#46039f\"],[0.2222222222222222,\"#7201a8\"],[0.3333333333333333,\"#9c179e\"],[0.4444444444444444,\"#bd3786\"],[0.5555555555555556,\"#d8576b\"],[0.6666666666666666,\"#ed7953\"],[0.7777777777777778,\"#fb9f3a\"],[0.8888888888888888,\"#fdca26\"],[1.0,\"#f0f921\"]],\"diverging\":[[0,\"#8e0152\"],[0.1,\"#c51b7d\"],[0.2,\"#de77ae\"],[0.3,\"#f1b6da\"],[0.4,\"#fde0ef\"],[0.5,\"#f7f7f7\"],[0.6,\"#e6f5d0\"],[0.7,\"#b8e186\"],[0.8,\"#7fbc41\"],[0.9,\"#4d9221\"],[1,\"#276419\"]]},\"xaxis\":{\"gridcolor\":\"white\",\"linecolor\":\"white\",\"ticks\":\"\",\"title\":{\"standoff\":15},\"zerolinecolor\":\"white\",\"automargin\":true,\"zerolinewidth\":2},\"yaxis\":{\"gridcolor\":\"white\",\"linecolor\":\"white\",\"ticks\":\"\",\"title\":{\"standoff\":15},\"zerolinecolor\":\"white\",\"automargin\":true,\"zerolinewidth\":2},\"scene\":{\"xaxis\":{\"backgroundcolor\":\"#E5ECF6\",\"gridcolor\":\"white\",\"linecolor\":\"white\",\"showbackground\":true,\"ticks\":\"\",\"zerolinecolor\":\"white\",\"gridwidth\":2},\"yaxis\":{\"backgroundcolor\":\"#E5ECF6\",\"gridcolor\":\"white\",\"linecolor\":\"white\",\"showbackground\":true,\"ticks\":\"\",\"zerolinecolor\":\"white\",\"gridwidth\":2},\"zaxis\":{\"backgroundcolor\":\"#E5ECF6\",\"gridcolor\":\"white\",\"linecolor\":\"white\",\"showbackground\":true,\"ticks\":\"\",\"zerolinecolor\":\"white\",\"gridwidth\":2}},\"shapedefaults\":{\"line\":{\"color\":\"#2a3f5f\"}},\"annotationdefaults\":{\"arrowcolor\":\"#2a3f5f\",\"arrowhead\":0,\"arrowwidth\":1},\"geo\":{\"bgcolor\":\"white\",\"landcolor\":\"#E5ECF6\",\"subunitcolor\":\"white\",\"showland\":true,\"showlakes\":true,\"lakecolor\":\"white\"},\"title\":{\"x\":0.05},\"mapbox\":{\"style\":\"light\"}}},\"xaxis\":{\"anchor\":\"y\",\"domain\":[0.0,1.0],\"title\":{\"text\":\"Date\"}},\"yaxis\":{\"anchor\":\"x\",\"domain\":[0.0,1.0],\"title\":{\"text\":\"Share of Chinese hashrate (%)\"}},\"legend\":{\"title\":{\"text\":\"Province\"},\"tracegroupgap\":0},\"title\":{\"text\":\"Hashrate Share over Time by Province\",\"x\":0.5},\"font\":{\"size\":14},\"hovermode\":\"x unified\"},                        {\"responsive\": true}                    ).then(function(){\n",
       "                            \n",
       "var gd = document.getElementById('d64e6754-90f1-4d89-833d-e2c666e2071a');\n",
       "var x = new MutationObserver(function (mutations, observer) {{\n",
       "        var display = window.getComputedStyle(gd).display;\n",
       "        if (!display || display === 'none') {{\n",
       "            console.log([gd, 'removed!']);\n",
       "            Plotly.purge(gd);\n",
       "            observer.disconnect();\n",
       "        }}\n",
       "}});\n",
       "\n",
       "// Listen for the removal of the full notebook cells\n",
       "var notebookContainer = gd.closest('#notebook-container');\n",
       "if (notebookContainer) {{\n",
       "    x.observe(notebookContainer, {childList: true});\n",
       "}}\n",
       "\n",
       "// Listen for the clearing of the current output cell\n",
       "var outputEl = gd.closest('.output');\n",
       "if (outputEl) {{\n",
       "    x.observe(outputEl, {childList: true});\n",
       "}}\n",
       "\n",
       "                        })                };                });            </script>        </div>"
      ]
     },
     "metadata": {},
     "output_type": "display_data"
    }
   ],
   "source": [
    "# Advanced line plot using Plotly\n",
    "def plot_interactive_line_chart(df):\n",
    "    fig = px.line(df, x='Date', y='Share of Chinese hashrate', color='Province',\n",
    "                  title=\"Hashrate Share over Time by Province\",\n",
    "                  labels={'Share of Chinese hashrate': 'Hashrate (%)'},\n",
    "                  markers=True)\n",
    "    \n",
    "    fig.update_layout(\n",
    "        xaxis_title=\"Date\",\n",
    "        yaxis_title=\"Share of Chinese hashrate (%)\",\n",
    "        hovermode='x unified',\n",
    "        title_x=0.5,\n",
    "        #template=\"plotly_dark\",\n",
    "        font=dict(size=14),\n",
    "    )\n",
    "    fig.show()\n",
    "plot_interactive_line_chart(df)"
   ]
  },
  {
   "cell_type": "code",
   "execution_count": 19,
   "id": "045eeed3",
   "metadata": {
    "execution": {
     "iopub.execute_input": "2024-09-06T07:24:16.129475Z",
     "iopub.status.busy": "2024-09-06T07:24:16.129060Z",
     "iopub.status.idle": "2024-09-06T07:24:16.242496Z",
     "shell.execute_reply": "2024-09-06T07:24:16.241328Z"
    },
    "papermill": {
     "duration": 0.139694,
     "end_time": "2024-09-06T07:24:16.245151",
     "exception": false,
     "start_time": "2024-09-06T07:24:16.105457",
     "status": "completed"
    },
    "tags": []
   },
   "outputs": [
    {
     "data": {
      "text/html": [
       "<div>                            <div id=\"01db5c93-2d07-449c-89a4-3b5e983e2437\" class=\"plotly-graph-div\" style=\"height:600px; width:1000px;\"></div>            <script type=\"text/javascript\">                require([\"plotly\"], function(Plotly) {                    window.PLOTLYENV=window.PLOTLYENV || {};                                    if (document.getElementById(\"01db5c93-2d07-449c-89a4-3b5e983e2437\")) {                    Plotly.newPlot(                        \"01db5c93-2d07-449c-89a4-3b5e983e2437\",                        [{\"marker\":{\"color\":[49.52,19.09,13.55,8.0,4.92,2.58,0.86,0.81,0.67,43.04,27.35,11.27,8.46,4.09,3.43,1.13,0.81,0.42,36.03,32.0,11.12,9.68,4.52,3.87,1.36,0.85,0.56,46.5,18.03,12.45,9.05,5.83,3.8,2.81,1.03,0.51],\"colorscale\":[[0.0,\"rgb(255,245,240)\"],[0.125,\"rgb(254,224,210)\"],[0.25,\"rgb(252,187,161)\"],[0.375,\"rgb(252,146,114)\"],[0.5,\"rgb(251,106,74)\"],[0.625,\"rgb(239,59,44)\"],[0.75,\"rgb(203,24,29)\"],[0.875,\"rgb(165,15,21)\"],[1.0,\"rgb(103,0,13)\"]],\"showscale\":true},\"name\":\"2019 Data\",\"visible\":true,\"x\":[\"Sichuan\",\"Xinjiang\",\"Yunnan\",\"Inner Mongolia\",\"Other\",\"Gansu\",\"Beijing\",\"Shanxi\",\"Qinghai\",\"Sichuan\",\"Xinjiang\",\"Yunnan\",\"Inner Mongolia\",\"Other\",\"Gansu\",\"Beijing\",\"Shanxi\",\"Qinghai\",\"Xinjiang\",\"Sichuan\",\"Yunnan\",\"Inner Mongolia\",\"Other\",\"Gansu\",\"Beijing\",\"Shanxi\",\"Qinghai\",\"Xinjiang\",\"Sichuan\",\"Inner Mongolia\",\"Yunnan\",\"Other\",\"Gansu\",\"Beijing\",\"Shanxi\",\"Qinghai\"],\"y\":[49.52,19.09,13.55,8.0,4.92,2.58,0.86,0.81,0.67,43.04,27.35,11.27,8.46,4.09,3.43,1.13,0.81,0.42,36.03,32.0,11.12,9.68,4.52,3.87,1.36,0.85,0.56,46.5,18.03,12.45,9.05,5.83,3.8,2.81,1.03,0.51],\"type\":\"bar\",\"xaxis\":\"x\",\"yaxis\":\"y\"},{\"marker\":{\"color\":[49.54,16.67,11.37,8.33,6.65,3.54,2.43,1.03,0.43,51.53,15.39,11.78,8.56,5.65,3.31,2.31,1.1,0.37,55.59,14.65,12.51,8.32,4.59,1.89,1.12,0.95,0.38,55.18,14.91,12.45,8.36,4.21,2.67,1.03,0.79,0.4,35.71,26.4,11.66,11.1,10.75,1.37,1.36,0.89,0.76,43.37,27.32,12.35,6.35,1.12,1.11,0.62,0.62,52.66,19.83,14.69,5.59,4.17,1.05,0.84,0.65,0.52,50.49,17.27,16.83,6.62,4.26,2.19,0.94,0.91,0.49,61.1,14.9,9.64,5.06,4.09,3.27,0.86,0.63,0.44,51.75,14.66,13.03,9.63,4.46,3.6,1.14,0.99,0.75,33.33,24.14,17.23,11.11,8.02,2.28,1.52,1.32,1.06,46.37,14.26,12.63,11.36,8.13,2.76,1.61,1.57,1.32],\"colorscale\":[[0.0,\"rgb(255,245,240)\"],[0.125,\"rgb(254,224,210)\"],[0.25,\"rgb(252,187,161)\"],[0.375,\"rgb(252,146,114)\"],[0.5,\"rgb(251,106,74)\"],[0.625,\"rgb(239,59,44)\"],[0.75,\"rgb(203,24,29)\"],[0.875,\"rgb(165,15,21)\"],[1.0,\"rgb(103,0,13)\"]],\"showscale\":true},\"name\":\"2020 Data\",\"visible\":false,\"x\":[\"Xinjiang\",\"Sichuan\",\"Inner Mongolia\",\"Yunnan\",\"Other\",\"Gansu\",\"Beijing\",\"Shanxi\",\"Qinghai\",\"Xinjiang\",\"Sichuan\",\"Inner Mongolia\",\"Yunnan\",\"Other\",\"Gansu\",\"Beijing\",\"Shanxi\",\"Qinghai\",\"Xinjiang\",\"Sichuan\",\"Inner Mongolia\",\"Yunnan\",\"Other\",\"Beijing\",\"Shanxi\",\"Gansu\",\"Qinghai\",\"Xinjiang\",\"Sichuan\",\"Inner Mongolia\",\"Yunnan\",\"Other\",\"Beijing\",\"Shanxi\",\"Gansu\",\"Qinghai\",\"Xinjiang\",\"Sichuan\",\"Yunnan\",\"Other\",\"Inner Mongolia\",\"Gansu\",\"Shanxi\",\"Beijing\",\"Qinghai\",\"Sichuan\",\"Xinjiang\",\"Yunnan\",\"Other\",\"Gansu\",\"Shanxi\",\"Beijing\",\"Qinghai\",\"Sichuan\",\"Xinjiang\",\"Yunnan\",\"Inner Mongolia\",\"Other\",\"Gansu\",\"Beijing\",\"Shanxi\",\"Qinghai\",\"Sichuan\",\"Xinjiang\",\"Yunnan\",\"Inner Mongolia\",\"Other\",\"Beijing\",\"Shanxi\",\"Gansu\",\"Qinghai\",\"Sichuan\",\"Yunnan\",\"Xinjiang\",\"Other\",\"Inner Mongolia\",\"Beijing\",\"Shanxi\",\"Gansu\",\"Qinghai\",\"Sichuan\",\"Yunnan\",\"Xinjiang\",\"Other\",\"Inner Mongolia\",\"Beijing\",\"Shanxi\",\"Gansu\",\"Qinghai\",\"Xinjiang\",\"Sichuan\",\"Yunnan\",\"Inner Mongolia\",\"Other\",\"Beijing\",\"Gansu\",\"Shanxi\",\"Qinghai\",\"Xinjiang\",\"Inner Mongolia\",\"Sichuan\",\"Yunnan\",\"Other\",\"Beijing\",\"Gansu\",\"Qinghai\",\"Shanxi\"],\"y\":[49.54,16.67,11.37,8.33,6.65,3.54,2.43,1.03,0.43,51.53,15.39,11.78,8.56,5.65,3.31,2.31,1.1,0.37,55.59,14.65,12.51,8.32,4.59,1.89,1.12,0.95,0.38,55.18,14.91,12.45,8.36,4.21,2.67,1.03,0.79,0.4,35.71,26.4,11.66,11.1,10.75,1.37,1.36,0.89,0.76,43.37,27.32,12.35,6.35,1.12,1.11,0.62,0.62,52.66,19.83,14.69,5.59,4.17,1.05,0.84,0.65,0.52,50.49,17.27,16.83,6.62,4.26,2.19,0.94,0.91,0.49,61.1,14.9,9.64,5.06,4.09,3.27,0.86,0.63,0.44,51.75,14.66,13.03,9.63,4.46,3.6,1.14,0.99,0.75,33.33,24.14,17.23,11.11,8.02,2.28,1.52,1.32,1.06,46.37,14.26,12.63,11.36,8.13,2.76,1.61,1.57,1.32],\"type\":\"bar\",\"xaxis\":\"x\",\"yaxis\":\"y\"},{\"marker\":{\"color\":[47.27,17.22,10.58,8.96,8.64,2.78,1.81,1.5,1.24,46.66,17.05,10.02,8.86,8.81,3.92,2.23,1.5,0.94,59.32,10.13,7.69,7.1,6.36,4.9,2.51,1.25,0.74,54.37,16.35,8.72,7.33,4.84,3.73,2.31,1.34,1.0,53.25,22.2,7.85,7.22,4.49,1.62,1.22,1.17,0.99,42.59,32.25,13.03,6.6,1.75,1.59,1.4,0.66,0.13,0.0,0.0,0.0,0.0,0.0,0.0,0.0,0.0,0.0],\"colorscale\":[[0.0,\"rgb(255,245,240)\"],[0.125,\"rgb(254,224,210)\"],[0.25,\"rgb(252,187,161)\"],[0.375,\"rgb(252,146,114)\"],[0.5,\"rgb(251,106,74)\"],[0.625,\"rgb(239,59,44)\"],[0.75,\"rgb(203,24,29)\"],[0.875,\"rgb(165,15,21)\"],[1.0,\"rgb(103,0,13)\"]],\"showscale\":true},\"name\":\"2021 Data\",\"visible\":false,\"x\":[\"Xinjiang\",\"Inner Mongolia\",\"Yunnan\",\"Other\",\"Sichuan\",\"Beijing\",\"Qinghai\",\"Gansu\",\"Shanxi\",\"Xinjiang\",\"Inner Mongolia\",\"Yunnan\",\"Sichuan\",\"Other\",\"Beijing\",\"Qinghai\",\"Gansu\",\"Shanxi\",\"Xinjiang\",\"Sichuan\",\"Yunnan\",\"Other\",\"Inner Mongolia\",\"Beijing\",\"Qinghai\",\"Gansu\",\"Shanxi\",\"Xinjiang\",\"Sichuan\",\"Yunnan\",\"Other\",\"Beijing\",\"Inner Mongolia\",\"Qinghai\",\"Gansu\",\"Shanxi\",\"Xinjiang\",\"Sichuan\",\"Yunnan\",\"Other\",\"Beijing\",\"Qinghai\",\"Gansu\",\"Inner Mongolia\",\"Shanxi\",\"Sichuan\",\"Xinjiang\",\"Yunnan\",\"Other\",\"Gansu\",\"Beijing\",\"Shanxi\",\"Qinghai\",\"Inner Mongolia\",\"Other\",\"Yunnan\",\"Xinjiang\",\"Sichuan\",\"Shanxi\",\"Qinghai\",\"Inner Mongolia\",\"Beijing\",\"Gansu\"],\"y\":[47.27,17.22,10.58,8.96,8.64,2.78,1.81,1.5,1.24,46.66,17.05,10.02,8.86,8.81,3.92,2.23,1.5,0.94,59.32,10.13,7.69,7.1,6.36,4.9,2.51,1.25,0.74,54.37,16.35,8.72,7.33,4.84,3.73,2.31,1.34,1.0,53.25,22.2,7.85,7.22,4.49,1.62,1.22,1.17,0.99,42.59,32.25,13.03,6.6,1.75,1.59,1.4,0.66,0.13,0.0,0.0,0.0,0.0,0.0,0.0,0.0,0.0,0.0],\"type\":\"bar\",\"xaxis\":\"x\",\"yaxis\":\"y\"}],                        {\"template\":{\"data\":{\"histogram2dcontour\":[{\"type\":\"histogram2dcontour\",\"colorbar\":{\"outlinewidth\":0,\"ticks\":\"\"},\"colorscale\":[[0.0,\"#0d0887\"],[0.1111111111111111,\"#46039f\"],[0.2222222222222222,\"#7201a8\"],[0.3333333333333333,\"#9c179e\"],[0.4444444444444444,\"#bd3786\"],[0.5555555555555556,\"#d8576b\"],[0.6666666666666666,\"#ed7953\"],[0.7777777777777778,\"#fb9f3a\"],[0.8888888888888888,\"#fdca26\"],[1.0,\"#f0f921\"]]}],\"choropleth\":[{\"type\":\"choropleth\",\"colorbar\":{\"outlinewidth\":0,\"ticks\":\"\"}}],\"histogram2d\":[{\"type\":\"histogram2d\",\"colorbar\":{\"outlinewidth\":0,\"ticks\":\"\"},\"colorscale\":[[0.0,\"#0d0887\"],[0.1111111111111111,\"#46039f\"],[0.2222222222222222,\"#7201a8\"],[0.3333333333333333,\"#9c179e\"],[0.4444444444444444,\"#bd3786\"],[0.5555555555555556,\"#d8576b\"],[0.6666666666666666,\"#ed7953\"],[0.7777777777777778,\"#fb9f3a\"],[0.8888888888888888,\"#fdca26\"],[1.0,\"#f0f921\"]]}],\"heatmap\":[{\"type\":\"heatmap\",\"colorbar\":{\"outlinewidth\":0,\"ticks\":\"\"},\"colorscale\":[[0.0,\"#0d0887\"],[0.1111111111111111,\"#46039f\"],[0.2222222222222222,\"#7201a8\"],[0.3333333333333333,\"#9c179e\"],[0.4444444444444444,\"#bd3786\"],[0.5555555555555556,\"#d8576b\"],[0.6666666666666666,\"#ed7953\"],[0.7777777777777778,\"#fb9f3a\"],[0.8888888888888888,\"#fdca26\"],[1.0,\"#f0f921\"]]}],\"heatmapgl\":[{\"type\":\"heatmapgl\",\"colorbar\":{\"outlinewidth\":0,\"ticks\":\"\"},\"colorscale\":[[0.0,\"#0d0887\"],[0.1111111111111111,\"#46039f\"],[0.2222222222222222,\"#7201a8\"],[0.3333333333333333,\"#9c179e\"],[0.4444444444444444,\"#bd3786\"],[0.5555555555555556,\"#d8576b\"],[0.6666666666666666,\"#ed7953\"],[0.7777777777777778,\"#fb9f3a\"],[0.8888888888888888,\"#fdca26\"],[1.0,\"#f0f921\"]]}],\"contourcarpet\":[{\"type\":\"contourcarpet\",\"colorbar\":{\"outlinewidth\":0,\"ticks\":\"\"}}],\"contour\":[{\"type\":\"contour\",\"colorbar\":{\"outlinewidth\":0,\"ticks\":\"\"},\"colorscale\":[[0.0,\"#0d0887\"],[0.1111111111111111,\"#46039f\"],[0.2222222222222222,\"#7201a8\"],[0.3333333333333333,\"#9c179e\"],[0.4444444444444444,\"#bd3786\"],[0.5555555555555556,\"#d8576b\"],[0.6666666666666666,\"#ed7953\"],[0.7777777777777778,\"#fb9f3a\"],[0.8888888888888888,\"#fdca26\"],[1.0,\"#f0f921\"]]}],\"surface\":[{\"type\":\"surface\",\"colorbar\":{\"outlinewidth\":0,\"ticks\":\"\"},\"colorscale\":[[0.0,\"#0d0887\"],[0.1111111111111111,\"#46039f\"],[0.2222222222222222,\"#7201a8\"],[0.3333333333333333,\"#9c179e\"],[0.4444444444444444,\"#bd3786\"],[0.5555555555555556,\"#d8576b\"],[0.6666666666666666,\"#ed7953\"],[0.7777777777777778,\"#fb9f3a\"],[0.8888888888888888,\"#fdca26\"],[1.0,\"#f0f921\"]]}],\"mesh3d\":[{\"type\":\"mesh3d\",\"colorbar\":{\"outlinewidth\":0,\"ticks\":\"\"}}],\"scatter\":[{\"fillpattern\":{\"fillmode\":\"overlay\",\"size\":10,\"solidity\":0.2},\"type\":\"scatter\"}],\"parcoords\":[{\"type\":\"parcoords\",\"line\":{\"colorbar\":{\"outlinewidth\":0,\"ticks\":\"\"}}}],\"scatterpolargl\":[{\"type\":\"scatterpolargl\",\"marker\":{\"colorbar\":{\"outlinewidth\":0,\"ticks\":\"\"}}}],\"bar\":[{\"error_x\":{\"color\":\"#2a3f5f\"},\"error_y\":{\"color\":\"#2a3f5f\"},\"marker\":{\"line\":{\"color\":\"#E5ECF6\",\"width\":0.5},\"pattern\":{\"fillmode\":\"overlay\",\"size\":10,\"solidity\":0.2}},\"type\":\"bar\"}],\"scattergeo\":[{\"type\":\"scattergeo\",\"marker\":{\"colorbar\":{\"outlinewidth\":0,\"ticks\":\"\"}}}],\"scatterpolar\":[{\"type\":\"scatterpolar\",\"marker\":{\"colorbar\":{\"outlinewidth\":0,\"ticks\":\"\"}}}],\"histogram\":[{\"marker\":{\"pattern\":{\"fillmode\":\"overlay\",\"size\":10,\"solidity\":0.2}},\"type\":\"histogram\"}],\"scattergl\":[{\"type\":\"scattergl\",\"marker\":{\"colorbar\":{\"outlinewidth\":0,\"ticks\":\"\"}}}],\"scatter3d\":[{\"type\":\"scatter3d\",\"line\":{\"colorbar\":{\"outlinewidth\":0,\"ticks\":\"\"}},\"marker\":{\"colorbar\":{\"outlinewidth\":0,\"ticks\":\"\"}}}],\"scattermapbox\":[{\"type\":\"scattermapbox\",\"marker\":{\"colorbar\":{\"outlinewidth\":0,\"ticks\":\"\"}}}],\"scatterternary\":[{\"type\":\"scatterternary\",\"marker\":{\"colorbar\":{\"outlinewidth\":0,\"ticks\":\"\"}}}],\"scattercarpet\":[{\"type\":\"scattercarpet\",\"marker\":{\"colorbar\":{\"outlinewidth\":0,\"ticks\":\"\"}}}],\"carpet\":[{\"aaxis\":{\"endlinecolor\":\"#2a3f5f\",\"gridcolor\":\"white\",\"linecolor\":\"white\",\"minorgridcolor\":\"white\",\"startlinecolor\":\"#2a3f5f\"},\"baxis\":{\"endlinecolor\":\"#2a3f5f\",\"gridcolor\":\"white\",\"linecolor\":\"white\",\"minorgridcolor\":\"white\",\"startlinecolor\":\"#2a3f5f\"},\"type\":\"carpet\"}],\"table\":[{\"cells\":{\"fill\":{\"color\":\"#EBF0F8\"},\"line\":{\"color\":\"white\"}},\"header\":{\"fill\":{\"color\":\"#C8D4E3\"},\"line\":{\"color\":\"white\"}},\"type\":\"table\"}],\"barpolar\":[{\"marker\":{\"line\":{\"color\":\"#E5ECF6\",\"width\":0.5},\"pattern\":{\"fillmode\":\"overlay\",\"size\":10,\"solidity\":0.2}},\"type\":\"barpolar\"}],\"pie\":[{\"automargin\":true,\"type\":\"pie\"}]},\"layout\":{\"autotypenumbers\":\"strict\",\"colorway\":[\"#636efa\",\"#EF553B\",\"#00cc96\",\"#ab63fa\",\"#FFA15A\",\"#19d3f3\",\"#FF6692\",\"#B6E880\",\"#FF97FF\",\"#FECB52\"],\"font\":{\"color\":\"#2a3f5f\"},\"hovermode\":\"closest\",\"hoverlabel\":{\"align\":\"left\"},\"paper_bgcolor\":\"white\",\"plot_bgcolor\":\"#E5ECF6\",\"polar\":{\"bgcolor\":\"#E5ECF6\",\"angularaxis\":{\"gridcolor\":\"white\",\"linecolor\":\"white\",\"ticks\":\"\"},\"radialaxis\":{\"gridcolor\":\"white\",\"linecolor\":\"white\",\"ticks\":\"\"}},\"ternary\":{\"bgcolor\":\"#E5ECF6\",\"aaxis\":{\"gridcolor\":\"white\",\"linecolor\":\"white\",\"ticks\":\"\"},\"baxis\":{\"gridcolor\":\"white\",\"linecolor\":\"white\",\"ticks\":\"\"},\"caxis\":{\"gridcolor\":\"white\",\"linecolor\":\"white\",\"ticks\":\"\"}},\"coloraxis\":{\"colorbar\":{\"outlinewidth\":0,\"ticks\":\"\"}},\"colorscale\":{\"sequential\":[[0.0,\"#0d0887\"],[0.1111111111111111,\"#46039f\"],[0.2222222222222222,\"#7201a8\"],[0.3333333333333333,\"#9c179e\"],[0.4444444444444444,\"#bd3786\"],[0.5555555555555556,\"#d8576b\"],[0.6666666666666666,\"#ed7953\"],[0.7777777777777778,\"#fb9f3a\"],[0.8888888888888888,\"#fdca26\"],[1.0,\"#f0f921\"]],\"sequentialminus\":[[0.0,\"#0d0887\"],[0.1111111111111111,\"#46039f\"],[0.2222222222222222,\"#7201a8\"],[0.3333333333333333,\"#9c179e\"],[0.4444444444444444,\"#bd3786\"],[0.5555555555555556,\"#d8576b\"],[0.6666666666666666,\"#ed7953\"],[0.7777777777777778,\"#fb9f3a\"],[0.8888888888888888,\"#fdca26\"],[1.0,\"#f0f921\"]],\"diverging\":[[0,\"#8e0152\"],[0.1,\"#c51b7d\"],[0.2,\"#de77ae\"],[0.3,\"#f1b6da\"],[0.4,\"#fde0ef\"],[0.5,\"#f7f7f7\"],[0.6,\"#e6f5d0\"],[0.7,\"#b8e186\"],[0.8,\"#7fbc41\"],[0.9,\"#4d9221\"],[1,\"#276419\"]]},\"xaxis\":{\"gridcolor\":\"white\",\"linecolor\":\"white\",\"ticks\":\"\",\"title\":{\"standoff\":15},\"zerolinecolor\":\"white\",\"automargin\":true,\"zerolinewidth\":2},\"yaxis\":{\"gridcolor\":\"white\",\"linecolor\":\"white\",\"ticks\":\"\",\"title\":{\"standoff\":15},\"zerolinecolor\":\"white\",\"automargin\":true,\"zerolinewidth\":2},\"scene\":{\"xaxis\":{\"backgroundcolor\":\"#E5ECF6\",\"gridcolor\":\"white\",\"linecolor\":\"white\",\"showbackground\":true,\"ticks\":\"\",\"zerolinecolor\":\"white\",\"gridwidth\":2},\"yaxis\":{\"backgroundcolor\":\"#E5ECF6\",\"gridcolor\":\"white\",\"linecolor\":\"white\",\"showbackground\":true,\"ticks\":\"\",\"zerolinecolor\":\"white\",\"gridwidth\":2},\"zaxis\":{\"backgroundcolor\":\"#E5ECF6\",\"gridcolor\":\"white\",\"linecolor\":\"white\",\"showbackground\":true,\"ticks\":\"\",\"zerolinecolor\":\"white\",\"gridwidth\":2}},\"shapedefaults\":{\"line\":{\"color\":\"#2a3f5f\"}},\"annotationdefaults\":{\"arrowcolor\":\"#2a3f5f\",\"arrowhead\":0,\"arrowwidth\":1},\"geo\":{\"bgcolor\":\"white\",\"landcolor\":\"#E5ECF6\",\"subunitcolor\":\"white\",\"showland\":true,\"showlakes\":true,\"lakecolor\":\"white\"},\"title\":{\"x\":0.05},\"mapbox\":{\"style\":\"light\"}}},\"xaxis\":{\"anchor\":\"y\",\"domain\":[0.0,1.0],\"title\":{\"text\":\"Province\"}},\"yaxis\":{\"anchor\":\"x\",\"domain\":[0.0,1.0],\"title\":{\"text\":\"Share of Chinese hashrate (%)\"}},\"annotations\":[{\"font\":{\"size\":16},\"showarrow\":false,\"text\":\"B\",\"x\":0.5,\"xanchor\":\"center\",\"xref\":\"paper\",\"y\":1.0,\"yanchor\":\"bottom\",\"yref\":\"paper\"}],\"title\":{\"text\":\"Share of Chinese hashrate Distribution by Province\",\"x\":0.5},\"sliders\":[{\"active\":0,\"currentvalue\":{\"prefix\":\"Year: \"},\"pad\":{\"t\":50},\"steps\":[{\"args\":[{\"visible\":[true,false,false]},{\"title\":\"Share of Chinese hashrate by Province - 2019\"}],\"method\":\"update\"},{\"args\":[{\"visible\":[false,true,false]},{\"title\":\"Share of Chinese hashrate by Province - 2020\"}],\"method\":\"update\"},{\"args\":[{\"visible\":[false,false,true]},{\"title\":\"Share of Chinese hashrate by Province - 2021\"}],\"method\":\"update\"}]}],\"height\":600,\"width\":1000,\"showlegend\":false},                        {\"responsive\": true}                    ).then(function(){\n",
       "                            \n",
       "var gd = document.getElementById('01db5c93-2d07-449c-89a4-3b5e983e2437');\n",
       "var x = new MutationObserver(function (mutations, observer) {{\n",
       "        var display = window.getComputedStyle(gd).display;\n",
       "        if (!display || display === 'none') {{\n",
       "            console.log([gd, 'removed!']);\n",
       "            Plotly.purge(gd);\n",
       "            observer.disconnect();\n",
       "        }}\n",
       "}});\n",
       "\n",
       "// Listen for the removal of the full notebook cells\n",
       "var notebookContainer = gd.closest('#notebook-container');\n",
       "if (notebookContainer) {{\n",
       "    x.observe(notebookContainer, {childList: true});\n",
       "}}\n",
       "\n",
       "// Listen for the clearing of the current output cell\n",
       "var outputEl = gd.closest('.output');\n",
       "if (outputEl) {{\n",
       "    x.observe(outputEl, {childList: true});\n",
       "}}\n",
       "\n",
       "                        })                };                });            </script>        </div>"
      ]
     },
     "metadata": {},
     "output_type": "display_data"
    }
   ],
   "source": [
    "# Dynamic bar chart with slider (instead of Choropleth)\n",
    "def plot_province_share_with_slider(data, column_name):\n",
    "    fig = make_subplots(rows=1, cols=1, subplot_titles=(f\"Bar Chart of {column_name} by Province\"), specs=[[{\"type\": \"bar\"}]])\n",
    "\n",
    "    years = sorted(data['Date'].dt.year.unique())\n",
    "    \n",
    "    # Loop through each year and create a bar chart for each\n",
    "    for year in years:\n",
    "        filtered_data = data[data['Date'].dt.year == year]\n",
    "        \n",
    "        # Bar chart for the same year\n",
    "        bar_chart = go.Bar(\n",
    "            x=filtered_data['Province'],\n",
    "            y=filtered_data[column_name],\n",
    "            marker=dict(color=filtered_data[column_name], colorscale='Reds', showscale=True),\n",
    "            visible=False,\n",
    "            name=f'{year} Data'\n",
    "        )\n",
    "        \n",
    "        # Add bar chart to the figure\n",
    "        fig.add_trace(bar_chart, row=1, col=1)\n",
    "\n",
    "    # Show first year data by default\n",
    "    fig.data[0].visible = True\n",
    "    \n",
    "    # Create steps for the slider\n",
    "    steps = []\n",
    "    for i in range(0, len(years)):\n",
    "        step = dict(\n",
    "            method='update',\n",
    "            args=[{\"visible\": [False] * len(fig.data)},\n",
    "                  {\"title\": f\"{column_name} by Province - {years[i]}\"}],\n",
    "        )\n",
    "        step[\"args\"][0][\"visible\"][i] = True\n",
    "        steps.append(step)\n",
    "\n",
    "    # Add slider\n",
    "    sliders = [dict(\n",
    "        active=0,\n",
    "        currentvalue={\"prefix\": \"Year: \"},\n",
    "        pad={\"t\": 50},\n",
    "        steps=steps\n",
    "    )]\n",
    "\n",
    "    # Update layout\n",
    "    fig.update_layout(\n",
    "        title=f'{column_name} Distribution by Province',\n",
    "        title_x=0.5,\n",
    "        sliders=sliders,\n",
    "        height=600,\n",
    "        width=1000,\n",
    "        showlegend=False,\n",
    "        xaxis_title=\"Province\",\n",
    "        yaxis_title=f'{column_name} (%)',\n",
    "    )\n",
    "\n",
    "    # Show figure\n",
    "    fig.show()\n",
    "\n",
    "# Dynamic bar chart\n",
    "plot_province_share_with_slider(df, 'Share of Chinese hashrate')"
   ]
  },
  {
   "cell_type": "code",
   "execution_count": 20,
   "id": "ad6912f5",
   "metadata": {
    "execution": {
     "iopub.execute_input": "2024-09-06T07:24:16.354642Z",
     "iopub.status.busy": "2024-09-06T07:24:16.354186Z",
     "iopub.status.idle": "2024-09-06T07:24:16.473502Z",
     "shell.execute_reply": "2024-09-06T07:24:16.472495Z"
    },
    "papermill": {
     "duration": 0.145976,
     "end_time": "2024-09-06T07:24:16.476221",
     "exception": false,
     "start_time": "2024-09-06T07:24:16.330245",
     "status": "completed"
    },
    "tags": []
   },
   "outputs": [
    {
     "data": {
      "text/html": [
       "<div>                            <div id=\"309964e6-3ed3-4996-88d3-26e3fdbaa227\" class=\"plotly-graph-div\" style=\"height:700px; width:1200px;\"></div>            <script type=\"text/javascript\">                require([\"plotly\"], function(Plotly) {                    window.PLOTLYENV=window.PLOTLYENV || {};                                    if (document.getElementById(\"309964e6-3ed3-4996-88d3-26e3fdbaa227\")) {                    Plotly.newPlot(                        \"309964e6-3ed3-4996-88d3-26e3fdbaa227\",                        [{\"lat\":[30.663,43.792,25.046,40.817,35.0,36.061,39.904,37.869,36.623,30.663,43.792,25.046,40.817,35.0,36.061,39.904,37.869,36.623,43.792,30.663,25.046,40.817,35.0,36.061,39.904,37.869,36.623,43.792,30.663,40.817,25.046,35.0,36.061,39.904,37.869,36.623],\"locationmode\":\"ISO-3\",\"lon\":[104.072,87.617,102.718,111.765,100.0,103.834,116.407,112.558,101.778,104.072,87.617,102.718,111.765,100.0,103.834,116.407,112.558,101.778,87.617,104.072,102.718,111.765,100.0,103.834,116.407,112.558,101.778,87.617,104.072,111.765,102.718,100.0,103.834,116.407,112.558,101.778],\"marker\":{\"cmax\":61.1,\"cmin\":0.0,\"color\":[49.52,19.09,13.55,8.0,4.92,2.58,0.86,0.81,0.67,43.04,27.35,11.27,8.46,4.09,3.43,1.13,0.81,0.42,36.03,32.0,11.12,9.68,4.52,3.87,1.36,0.85,0.56,46.5,18.03,12.45,9.05,5.83,3.8,2.81,1.03,0.51],\"colorbar\":{\"title\":{\"text\":\"Share of Chinese hashrate\"}},\"colorscale\":[[0.0,\"rgb(255,245,240)\"],[0.125,\"rgb(254,224,210)\"],[0.25,\"rgb(252,187,161)\"],[0.375,\"rgb(252,146,114)\"],[0.5,\"rgb(251,106,74)\"],[0.625,\"rgb(239,59,44)\"],[0.75,\"rgb(203,24,29)\"],[0.875,\"rgb(165,15,21)\"],[1.0,\"rgb(103,0,13)\"]],\"line\":{\"color\":\"black\"},\"size\":[49.52,19.09,13.55,8.0,4.92,2.58,0.86,0.81,0.67,43.04,27.35,11.27,8.46,4.09,3.43,1.13,0.81,0.42,36.03,32.0,11.12,9.68,4.52,3.87,1.36,0.85,0.56,46.5,18.03,12.45,9.05,5.83,3.8,2.81,1.03,0.51],\"sizemode\":\"area\"},\"name\":\"2019 Data\",\"text\":[\"Sichuan: 49.52%\",\"Xinjiang: 19.09%\",\"Yunnan: 13.55%\",\"Inner Mongolia: 8.0%\",\"Other: 4.92%\",\"Gansu: 2.58%\",\"Beijing: 0.86%\",\"Shanxi: 0.81%\",\"Qinghai: 0.67%\",\"Sichuan: 43.04%\",\"Xinjiang: 27.35%\",\"Yunnan: 11.27%\",\"Inner Mongolia: 8.46%\",\"Other: 4.09%\",\"Gansu: 3.43%\",\"Beijing: 1.13%\",\"Shanxi: 0.81%\",\"Qinghai: 0.42%\",\"Xinjiang: 36.03%\",\"Sichuan: 32.0%\",\"Yunnan: 11.12%\",\"Inner Mongolia: 9.68%\",\"Other: 4.52%\",\"Gansu: 3.87%\",\"Beijing: 1.36%\",\"Shanxi: 0.85%\",\"Qinghai: 0.56%\",\"Xinjiang: 46.5%\",\"Sichuan: 18.03%\",\"Inner Mongolia: 12.45%\",\"Yunnan: 9.05%\",\"Other: 5.83%\",\"Gansu: 3.8%\",\"Beijing: 2.81%\",\"Shanxi: 1.03%\",\"Qinghai: 0.51%\"],\"visible\":true,\"type\":\"scattergeo\"},{\"lat\":[43.792,30.663,40.817,25.046,35.0,36.061,39.904,37.869,36.623,43.792,30.663,40.817,25.046,35.0,36.061,39.904,37.869,36.623,43.792,30.663,40.817,25.046,35.0,39.904,37.869,36.061,36.623,43.792,30.663,40.817,25.046,35.0,39.904,37.869,36.061,36.623,43.792,30.663,25.046,35.0,40.817,36.061,37.869,39.904,36.623,30.663,43.792,25.046,35.0,36.061,37.869,39.904,36.623,30.663,43.792,25.046,40.817,35.0,36.061,39.904,37.869,36.623,30.663,43.792,25.046,40.817,35.0,39.904,37.869,36.061,36.623,30.663,25.046,43.792,35.0,40.817,39.904,37.869,36.061,36.623,30.663,25.046,43.792,35.0,40.817,39.904,37.869,36.061,36.623,43.792,30.663,25.046,40.817,35.0,39.904,36.061,37.869,36.623,43.792,40.817,30.663,25.046,35.0,39.904,36.061,36.623,37.869],\"locationmode\":\"ISO-3\",\"lon\":[87.617,104.072,111.765,102.718,100.0,103.834,116.407,112.558,101.778,87.617,104.072,111.765,102.718,100.0,103.834,116.407,112.558,101.778,87.617,104.072,111.765,102.718,100.0,116.407,112.558,103.834,101.778,87.617,104.072,111.765,102.718,100.0,116.407,112.558,103.834,101.778,87.617,104.072,102.718,100.0,111.765,103.834,112.558,116.407,101.778,104.072,87.617,102.718,100.0,103.834,112.558,116.407,101.778,104.072,87.617,102.718,111.765,100.0,103.834,116.407,112.558,101.778,104.072,87.617,102.718,111.765,100.0,116.407,112.558,103.834,101.778,104.072,102.718,87.617,100.0,111.765,116.407,112.558,103.834,101.778,104.072,102.718,87.617,100.0,111.765,116.407,112.558,103.834,101.778,87.617,104.072,102.718,111.765,100.0,116.407,103.834,112.558,101.778,87.617,111.765,104.072,102.718,100.0,116.407,103.834,101.778,112.558],\"marker\":{\"cmax\":61.1,\"cmin\":0.0,\"color\":[49.54,16.67,11.37,8.33,6.65,3.54,2.43,1.03,0.43,51.53,15.39,11.78,8.56,5.65,3.31,2.31,1.1,0.37,55.59,14.65,12.51,8.32,4.59,1.89,1.12,0.95,0.38,55.18,14.91,12.45,8.36,4.21,2.67,1.03,0.79,0.4,35.71,26.4,11.66,11.1,10.75,1.37,1.36,0.89,0.76,43.37,27.32,12.35,6.35,1.12,1.11,0.62,0.62,52.66,19.83,14.69,5.59,4.17,1.05,0.84,0.65,0.52,50.49,17.27,16.83,6.62,4.26,2.19,0.94,0.91,0.49,61.1,14.9,9.64,5.06,4.09,3.27,0.86,0.63,0.44,51.75,14.66,13.03,9.63,4.46,3.6,1.14,0.99,0.75,33.33,24.14,17.23,11.11,8.02,2.28,1.52,1.32,1.06,46.37,14.26,12.63,11.36,8.13,2.76,1.61,1.57,1.32],\"colorbar\":{\"title\":{\"text\":\"Share of Chinese hashrate\"}},\"colorscale\":[[0.0,\"rgb(255,245,240)\"],[0.125,\"rgb(254,224,210)\"],[0.25,\"rgb(252,187,161)\"],[0.375,\"rgb(252,146,114)\"],[0.5,\"rgb(251,106,74)\"],[0.625,\"rgb(239,59,44)\"],[0.75,\"rgb(203,24,29)\"],[0.875,\"rgb(165,15,21)\"],[1.0,\"rgb(103,0,13)\"]],\"line\":{\"color\":\"black\"},\"size\":[49.54,16.67,11.37,8.33,6.65,3.54,2.43,1.03,0.43,51.53,15.39,11.78,8.56,5.65,3.31,2.31,1.1,0.37,55.59,14.65,12.51,8.32,4.59,1.89,1.12,0.95,0.38,55.18,14.91,12.45,8.36,4.21,2.67,1.03,0.79,0.4,35.71,26.4,11.66,11.1,10.75,1.37,1.36,0.89,0.76,43.37,27.32,12.35,6.35,1.12,1.11,0.62,0.62,52.66,19.83,14.69,5.59,4.17,1.05,0.84,0.65,0.52,50.49,17.27,16.83,6.62,4.26,2.19,0.94,0.91,0.49,61.1,14.9,9.64,5.06,4.09,3.27,0.86,0.63,0.44,51.75,14.66,13.03,9.63,4.46,3.6,1.14,0.99,0.75,33.33,24.14,17.23,11.11,8.02,2.28,1.52,1.32,1.06,46.37,14.26,12.63,11.36,8.13,2.76,1.61,1.57,1.32],\"sizemode\":\"area\"},\"name\":\"2020 Data\",\"text\":[\"Xinjiang: 49.54%\",\"Sichuan: 16.67%\",\"Inner Mongolia: 11.37%\",\"Yunnan: 8.33%\",\"Other: 6.65%\",\"Gansu: 3.54%\",\"Beijing: 2.43%\",\"Shanxi: 1.03%\",\"Qinghai: 0.43%\",\"Xinjiang: 51.53%\",\"Sichuan: 15.39%\",\"Inner Mongolia: 11.78%\",\"Yunnan: 8.56%\",\"Other: 5.65%\",\"Gansu: 3.31%\",\"Beijing: 2.31%\",\"Shanxi: 1.1%\",\"Qinghai: 0.37%\",\"Xinjiang: 55.59%\",\"Sichuan: 14.65%\",\"Inner Mongolia: 12.51%\",\"Yunnan: 8.32%\",\"Other: 4.59%\",\"Beijing: 1.89%\",\"Shanxi: 1.12%\",\"Gansu: 0.95%\",\"Qinghai: 0.38%\",\"Xinjiang: 55.18%\",\"Sichuan: 14.91%\",\"Inner Mongolia: 12.45%\",\"Yunnan: 8.36%\",\"Other: 4.21%\",\"Beijing: 2.67%\",\"Shanxi: 1.03%\",\"Gansu: 0.79%\",\"Qinghai: 0.4%\",\"Xinjiang: 35.71%\",\"Sichuan: 26.4%\",\"Yunnan: 11.66%\",\"Other: 11.1%\",\"Inner Mongolia: 10.75%\",\"Gansu: 1.37%\",\"Shanxi: 1.36%\",\"Beijing: 0.89%\",\"Qinghai: 0.76%\",\"Sichuan: 43.37%\",\"Xinjiang: 27.32%\",\"Yunnan: 12.35%\",\"Other: 6.35%\",\"Gansu: 1.12%\",\"Shanxi: 1.11%\",\"Beijing: 0.62%\",\"Qinghai: 0.62%\",\"Sichuan: 52.66%\",\"Xinjiang: 19.83%\",\"Yunnan: 14.69%\",\"Inner Mongolia: 5.59%\",\"Other: 4.17%\",\"Gansu: 1.05%\",\"Beijing: 0.84%\",\"Shanxi: 0.65%\",\"Qinghai: 0.52%\",\"Sichuan: 50.49%\",\"Xinjiang: 17.27%\",\"Yunnan: 16.83%\",\"Inner Mongolia: 6.62%\",\"Other: 4.26%\",\"Beijing: 2.19%\",\"Shanxi: 0.94%\",\"Gansu: 0.91%\",\"Qinghai: 0.49%\",\"Sichuan: 61.1%\",\"Yunnan: 14.9%\",\"Xinjiang: 9.64%\",\"Other: 5.06%\",\"Inner Mongolia: 4.09%\",\"Beijing: 3.27%\",\"Shanxi: 0.86%\",\"Gansu: 0.63%\",\"Qinghai: 0.44%\",\"Sichuan: 51.75%\",\"Yunnan: 14.66%\",\"Xinjiang: 13.03%\",\"Other: 9.63%\",\"Inner Mongolia: 4.46%\",\"Beijing: 3.6%\",\"Shanxi: 1.14%\",\"Gansu: 0.99%\",\"Qinghai: 0.75%\",\"Xinjiang: 33.33%\",\"Sichuan: 24.14%\",\"Yunnan: 17.23%\",\"Inner Mongolia: 11.11%\",\"Other: 8.02%\",\"Beijing: 2.28%\",\"Gansu: 1.52%\",\"Shanxi: 1.32%\",\"Qinghai: 1.06%\",\"Xinjiang: 46.37%\",\"Inner Mongolia: 14.26%\",\"Sichuan: 12.63%\",\"Yunnan: 11.36%\",\"Other: 8.13%\",\"Beijing: 2.76%\",\"Gansu: 1.61%\",\"Qinghai: 1.57%\",\"Shanxi: 1.32%\"],\"visible\":false,\"type\":\"scattergeo\"},{\"lat\":[43.792,40.817,25.046,35.0,30.663,39.904,36.623,36.061,37.869,43.792,40.817,25.046,30.663,35.0,39.904,36.623,36.061,37.869,43.792,30.663,25.046,35.0,40.817,39.904,36.623,36.061,37.869,43.792,30.663,25.046,35.0,39.904,40.817,36.623,36.061,37.869,43.792,30.663,25.046,35.0,39.904,36.623,36.061,40.817,37.869,30.663,43.792,25.046,35.0,36.061,39.904,37.869,36.623,40.817,35.0,25.046,43.792,30.663,37.869,36.623,40.817,39.904,36.061],\"locationmode\":\"ISO-3\",\"lon\":[87.617,111.765,102.718,100.0,104.072,116.407,101.778,103.834,112.558,87.617,111.765,102.718,104.072,100.0,116.407,101.778,103.834,112.558,87.617,104.072,102.718,100.0,111.765,116.407,101.778,103.834,112.558,87.617,104.072,102.718,100.0,116.407,111.765,101.778,103.834,112.558,87.617,104.072,102.718,100.0,116.407,101.778,103.834,111.765,112.558,104.072,87.617,102.718,100.0,103.834,116.407,112.558,101.778,111.765,100.0,102.718,87.617,104.072,112.558,101.778,111.765,116.407,103.834],\"marker\":{\"cmax\":61.1,\"cmin\":0.0,\"color\":[47.27,17.22,10.58,8.96,8.64,2.78,1.81,1.5,1.24,46.66,17.05,10.02,8.86,8.81,3.92,2.23,1.5,0.94,59.32,10.13,7.69,7.1,6.36,4.9,2.51,1.25,0.74,54.37,16.35,8.72,7.33,4.84,3.73,2.31,1.34,1.0,53.25,22.2,7.85,7.22,4.49,1.62,1.22,1.17,0.99,42.59,32.25,13.03,6.6,1.75,1.59,1.4,0.66,0.13,0.0,0.0,0.0,0.0,0.0,0.0,0.0,0.0,0.0],\"colorbar\":{\"title\":{\"text\":\"Share of Chinese hashrate\"}},\"colorscale\":[[0.0,\"rgb(255,245,240)\"],[0.125,\"rgb(254,224,210)\"],[0.25,\"rgb(252,187,161)\"],[0.375,\"rgb(252,146,114)\"],[0.5,\"rgb(251,106,74)\"],[0.625,\"rgb(239,59,44)\"],[0.75,\"rgb(203,24,29)\"],[0.875,\"rgb(165,15,21)\"],[1.0,\"rgb(103,0,13)\"]],\"line\":{\"color\":\"black\"},\"size\":[47.27,17.22,10.58,8.96,8.64,2.78,1.81,1.5,1.24,46.66,17.05,10.02,8.86,8.81,3.92,2.23,1.5,0.94,59.32,10.13,7.69,7.1,6.36,4.9,2.51,1.25,0.74,54.37,16.35,8.72,7.33,4.84,3.73,2.31,1.34,1.0,53.25,22.2,7.85,7.22,4.49,1.62,1.22,1.17,0.99,42.59,32.25,13.03,6.6,1.75,1.59,1.4,0.66,0.13,0.0,0.0,0.0,0.0,0.0,0.0,0.0,0.0,0.0],\"sizemode\":\"area\"},\"name\":\"2021 Data\",\"text\":[\"Xinjiang: 47.27%\",\"Inner Mongolia: 17.22%\",\"Yunnan: 10.58%\",\"Other: 8.96%\",\"Sichuan: 8.64%\",\"Beijing: 2.78%\",\"Qinghai: 1.81%\",\"Gansu: 1.5%\",\"Shanxi: 1.24%\",\"Xinjiang: 46.66%\",\"Inner Mongolia: 17.05%\",\"Yunnan: 10.02%\",\"Sichuan: 8.86%\",\"Other: 8.81%\",\"Beijing: 3.92%\",\"Qinghai: 2.23%\",\"Gansu: 1.5%\",\"Shanxi: 0.94%\",\"Xinjiang: 59.32%\",\"Sichuan: 10.13%\",\"Yunnan: 7.69%\",\"Other: 7.1%\",\"Inner Mongolia: 6.36%\",\"Beijing: 4.9%\",\"Qinghai: 2.51%\",\"Gansu: 1.25%\",\"Shanxi: 0.74%\",\"Xinjiang: 54.37%\",\"Sichuan: 16.35%\",\"Yunnan: 8.72%\",\"Other: 7.33%\",\"Beijing: 4.84%\",\"Inner Mongolia: 3.73%\",\"Qinghai: 2.31%\",\"Gansu: 1.34%\",\"Shanxi: 1.0%\",\"Xinjiang: 53.25%\",\"Sichuan: 22.2%\",\"Yunnan: 7.85%\",\"Other: 7.22%\",\"Beijing: 4.49%\",\"Qinghai: 1.62%\",\"Gansu: 1.22%\",\"Inner Mongolia: 1.17%\",\"Shanxi: 0.99%\",\"Sichuan: 42.59%\",\"Xinjiang: 32.25%\",\"Yunnan: 13.03%\",\"Other: 6.6%\",\"Gansu: 1.75%\",\"Beijing: 1.59%\",\"Shanxi: 1.4%\",\"Qinghai: 0.66%\",\"Inner Mongolia: 0.13%\",\"Other: 0.0%\",\"Yunnan: 0.0%\",\"Xinjiang: 0.0%\",\"Sichuan: 0.0%\",\"Shanxi: 0.0%\",\"Qinghai: 0.0%\",\"Inner Mongolia: 0.0%\",\"Beijing: 0.0%\",\"Gansu: 0.0%\"],\"visible\":false,\"type\":\"scattergeo\"}],                        {\"template\":{\"data\":{\"histogram2dcontour\":[{\"type\":\"histogram2dcontour\",\"colorbar\":{\"outlinewidth\":0,\"ticks\":\"\"},\"colorscale\":[[0.0,\"#0d0887\"],[0.1111111111111111,\"#46039f\"],[0.2222222222222222,\"#7201a8\"],[0.3333333333333333,\"#9c179e\"],[0.4444444444444444,\"#bd3786\"],[0.5555555555555556,\"#d8576b\"],[0.6666666666666666,\"#ed7953\"],[0.7777777777777778,\"#fb9f3a\"],[0.8888888888888888,\"#fdca26\"],[1.0,\"#f0f921\"]]}],\"choropleth\":[{\"type\":\"choropleth\",\"colorbar\":{\"outlinewidth\":0,\"ticks\":\"\"}}],\"histogram2d\":[{\"type\":\"histogram2d\",\"colorbar\":{\"outlinewidth\":0,\"ticks\":\"\"},\"colorscale\":[[0.0,\"#0d0887\"],[0.1111111111111111,\"#46039f\"],[0.2222222222222222,\"#7201a8\"],[0.3333333333333333,\"#9c179e\"],[0.4444444444444444,\"#bd3786\"],[0.5555555555555556,\"#d8576b\"],[0.6666666666666666,\"#ed7953\"],[0.7777777777777778,\"#fb9f3a\"],[0.8888888888888888,\"#fdca26\"],[1.0,\"#f0f921\"]]}],\"heatmap\":[{\"type\":\"heatmap\",\"colorbar\":{\"outlinewidth\":0,\"ticks\":\"\"},\"colorscale\":[[0.0,\"#0d0887\"],[0.1111111111111111,\"#46039f\"],[0.2222222222222222,\"#7201a8\"],[0.3333333333333333,\"#9c179e\"],[0.4444444444444444,\"#bd3786\"],[0.5555555555555556,\"#d8576b\"],[0.6666666666666666,\"#ed7953\"],[0.7777777777777778,\"#fb9f3a\"],[0.8888888888888888,\"#fdca26\"],[1.0,\"#f0f921\"]]}],\"heatmapgl\":[{\"type\":\"heatmapgl\",\"colorbar\":{\"outlinewidth\":0,\"ticks\":\"\"},\"colorscale\":[[0.0,\"#0d0887\"],[0.1111111111111111,\"#46039f\"],[0.2222222222222222,\"#7201a8\"],[0.3333333333333333,\"#9c179e\"],[0.4444444444444444,\"#bd3786\"],[0.5555555555555556,\"#d8576b\"],[0.6666666666666666,\"#ed7953\"],[0.7777777777777778,\"#fb9f3a\"],[0.8888888888888888,\"#fdca26\"],[1.0,\"#f0f921\"]]}],\"contourcarpet\":[{\"type\":\"contourcarpet\",\"colorbar\":{\"outlinewidth\":0,\"ticks\":\"\"}}],\"contour\":[{\"type\":\"contour\",\"colorbar\":{\"outlinewidth\":0,\"ticks\":\"\"},\"colorscale\":[[0.0,\"#0d0887\"],[0.1111111111111111,\"#46039f\"],[0.2222222222222222,\"#7201a8\"],[0.3333333333333333,\"#9c179e\"],[0.4444444444444444,\"#bd3786\"],[0.5555555555555556,\"#d8576b\"],[0.6666666666666666,\"#ed7953\"],[0.7777777777777778,\"#fb9f3a\"],[0.8888888888888888,\"#fdca26\"],[1.0,\"#f0f921\"]]}],\"surface\":[{\"type\":\"surface\",\"colorbar\":{\"outlinewidth\":0,\"ticks\":\"\"},\"colorscale\":[[0.0,\"#0d0887\"],[0.1111111111111111,\"#46039f\"],[0.2222222222222222,\"#7201a8\"],[0.3333333333333333,\"#9c179e\"],[0.4444444444444444,\"#bd3786\"],[0.5555555555555556,\"#d8576b\"],[0.6666666666666666,\"#ed7953\"],[0.7777777777777778,\"#fb9f3a\"],[0.8888888888888888,\"#fdca26\"],[1.0,\"#f0f921\"]]}],\"mesh3d\":[{\"type\":\"mesh3d\",\"colorbar\":{\"outlinewidth\":0,\"ticks\":\"\"}}],\"scatter\":[{\"fillpattern\":{\"fillmode\":\"overlay\",\"size\":10,\"solidity\":0.2},\"type\":\"scatter\"}],\"parcoords\":[{\"type\":\"parcoords\",\"line\":{\"colorbar\":{\"outlinewidth\":0,\"ticks\":\"\"}}}],\"scatterpolargl\":[{\"type\":\"scatterpolargl\",\"marker\":{\"colorbar\":{\"outlinewidth\":0,\"ticks\":\"\"}}}],\"bar\":[{\"error_x\":{\"color\":\"#2a3f5f\"},\"error_y\":{\"color\":\"#2a3f5f\"},\"marker\":{\"line\":{\"color\":\"#E5ECF6\",\"width\":0.5},\"pattern\":{\"fillmode\":\"overlay\",\"size\":10,\"solidity\":0.2}},\"type\":\"bar\"}],\"scattergeo\":[{\"type\":\"scattergeo\",\"marker\":{\"colorbar\":{\"outlinewidth\":0,\"ticks\":\"\"}}}],\"scatterpolar\":[{\"type\":\"scatterpolar\",\"marker\":{\"colorbar\":{\"outlinewidth\":0,\"ticks\":\"\"}}}],\"histogram\":[{\"marker\":{\"pattern\":{\"fillmode\":\"overlay\",\"size\":10,\"solidity\":0.2}},\"type\":\"histogram\"}],\"scattergl\":[{\"type\":\"scattergl\",\"marker\":{\"colorbar\":{\"outlinewidth\":0,\"ticks\":\"\"}}}],\"scatter3d\":[{\"type\":\"scatter3d\",\"line\":{\"colorbar\":{\"outlinewidth\":0,\"ticks\":\"\"}},\"marker\":{\"colorbar\":{\"outlinewidth\":0,\"ticks\":\"\"}}}],\"scattermapbox\":[{\"type\":\"scattermapbox\",\"marker\":{\"colorbar\":{\"outlinewidth\":0,\"ticks\":\"\"}}}],\"scatterternary\":[{\"type\":\"scatterternary\",\"marker\":{\"colorbar\":{\"outlinewidth\":0,\"ticks\":\"\"}}}],\"scattercarpet\":[{\"type\":\"scattercarpet\",\"marker\":{\"colorbar\":{\"outlinewidth\":0,\"ticks\":\"\"}}}],\"carpet\":[{\"aaxis\":{\"endlinecolor\":\"#2a3f5f\",\"gridcolor\":\"white\",\"linecolor\":\"white\",\"minorgridcolor\":\"white\",\"startlinecolor\":\"#2a3f5f\"},\"baxis\":{\"endlinecolor\":\"#2a3f5f\",\"gridcolor\":\"white\",\"linecolor\":\"white\",\"minorgridcolor\":\"white\",\"startlinecolor\":\"#2a3f5f\"},\"type\":\"carpet\"}],\"table\":[{\"cells\":{\"fill\":{\"color\":\"#EBF0F8\"},\"line\":{\"color\":\"white\"}},\"header\":{\"fill\":{\"color\":\"#C8D4E3\"},\"line\":{\"color\":\"white\"}},\"type\":\"table\"}],\"barpolar\":[{\"marker\":{\"line\":{\"color\":\"#E5ECF6\",\"width\":0.5},\"pattern\":{\"fillmode\":\"overlay\",\"size\":10,\"solidity\":0.2}},\"type\":\"barpolar\"}],\"pie\":[{\"automargin\":true,\"type\":\"pie\"}]},\"layout\":{\"autotypenumbers\":\"strict\",\"colorway\":[\"#636efa\",\"#EF553B\",\"#00cc96\",\"#ab63fa\",\"#FFA15A\",\"#19d3f3\",\"#FF6692\",\"#B6E880\",\"#FF97FF\",\"#FECB52\"],\"font\":{\"color\":\"#2a3f5f\"},\"hovermode\":\"closest\",\"hoverlabel\":{\"align\":\"left\"},\"paper_bgcolor\":\"white\",\"plot_bgcolor\":\"#E5ECF6\",\"polar\":{\"bgcolor\":\"#E5ECF6\",\"angularaxis\":{\"gridcolor\":\"white\",\"linecolor\":\"white\",\"ticks\":\"\"},\"radialaxis\":{\"gridcolor\":\"white\",\"linecolor\":\"white\",\"ticks\":\"\"}},\"ternary\":{\"bgcolor\":\"#E5ECF6\",\"aaxis\":{\"gridcolor\":\"white\",\"linecolor\":\"white\",\"ticks\":\"\"},\"baxis\":{\"gridcolor\":\"white\",\"linecolor\":\"white\",\"ticks\":\"\"},\"caxis\":{\"gridcolor\":\"white\",\"linecolor\":\"white\",\"ticks\":\"\"}},\"coloraxis\":{\"colorbar\":{\"outlinewidth\":0,\"ticks\":\"\"}},\"colorscale\":{\"sequential\":[[0.0,\"#0d0887\"],[0.1111111111111111,\"#46039f\"],[0.2222222222222222,\"#7201a8\"],[0.3333333333333333,\"#9c179e\"],[0.4444444444444444,\"#bd3786\"],[0.5555555555555556,\"#d8576b\"],[0.6666666666666666,\"#ed7953\"],[0.7777777777777778,\"#fb9f3a\"],[0.8888888888888888,\"#fdca26\"],[1.0,\"#f0f921\"]],\"sequentialminus\":[[0.0,\"#0d0887\"],[0.1111111111111111,\"#46039f\"],[0.2222222222222222,\"#7201a8\"],[0.3333333333333333,\"#9c179e\"],[0.4444444444444444,\"#bd3786\"],[0.5555555555555556,\"#d8576b\"],[0.6666666666666666,\"#ed7953\"],[0.7777777777777778,\"#fb9f3a\"],[0.8888888888888888,\"#fdca26\"],[1.0,\"#f0f921\"]],\"diverging\":[[0,\"#8e0152\"],[0.1,\"#c51b7d\"],[0.2,\"#de77ae\"],[0.3,\"#f1b6da\"],[0.4,\"#fde0ef\"],[0.5,\"#f7f7f7\"],[0.6,\"#e6f5d0\"],[0.7,\"#b8e186\"],[0.8,\"#7fbc41\"],[0.9,\"#4d9221\"],[1,\"#276419\"]]},\"xaxis\":{\"gridcolor\":\"white\",\"linecolor\":\"white\",\"ticks\":\"\",\"title\":{\"standoff\":15},\"zerolinecolor\":\"white\",\"automargin\":true,\"zerolinewidth\":2},\"yaxis\":{\"gridcolor\":\"white\",\"linecolor\":\"white\",\"ticks\":\"\",\"title\":{\"standoff\":15},\"zerolinecolor\":\"white\",\"automargin\":true,\"zerolinewidth\":2},\"scene\":{\"xaxis\":{\"backgroundcolor\":\"#E5ECF6\",\"gridcolor\":\"white\",\"linecolor\":\"white\",\"showbackground\":true,\"ticks\":\"\",\"zerolinecolor\":\"white\",\"gridwidth\":2},\"yaxis\":{\"backgroundcolor\":\"#E5ECF6\",\"gridcolor\":\"white\",\"linecolor\":\"white\",\"showbackground\":true,\"ticks\":\"\",\"zerolinecolor\":\"white\",\"gridwidth\":2},\"zaxis\":{\"backgroundcolor\":\"#E5ECF6\",\"gridcolor\":\"white\",\"linecolor\":\"white\",\"showbackground\":true,\"ticks\":\"\",\"zerolinecolor\":\"white\",\"gridwidth\":2}},\"shapedefaults\":{\"line\":{\"color\":\"#2a3f5f\"}},\"annotationdefaults\":{\"arrowcolor\":\"#2a3f5f\",\"arrowhead\":0,\"arrowwidth\":1},\"geo\":{\"bgcolor\":\"white\",\"landcolor\":\"#E5ECF6\",\"subunitcolor\":\"white\",\"showland\":true,\"showlakes\":true,\"lakecolor\":\"white\"},\"title\":{\"x\":0.05},\"mapbox\":{\"style\":\"light\"}}},\"title\":{\"text\":\"Share of Chinese hashrate Distribution by Province\",\"x\":0.5},\"geo\":{\"projection\":{\"type\":\"mercator\"},\"scope\":\"asia\",\"showframe\":false,\"showcoastlines\":true},\"sliders\":[{\"active\":0,\"currentvalue\":{\"prefix\":\"Year: \"},\"pad\":{\"t\":50},\"steps\":[{\"args\":[{\"visible\":[true,false,false]},{\"title\":\"Hashrate Share Map and Bar Chart - 2019\"}],\"method\":\"update\"},{\"args\":[{\"visible\":[false,true,false]},{\"title\":\"Hashrate Share Map and Bar Chart - 2020\"}],\"method\":\"update\"},{\"args\":[{\"visible\":[false,false,true]},{\"title\":\"Hashrate Share Map and Bar Chart - 2021\"}],\"method\":\"update\"}]}],\"height\":700,\"width\":1200,\"showlegend\":false},                        {\"responsive\": true}                    ).then(function(){\n",
       "                            \n",
       "var gd = document.getElementById('309964e6-3ed3-4996-88d3-26e3fdbaa227');\n",
       "var x = new MutationObserver(function (mutations, observer) {{\n",
       "        var display = window.getComputedStyle(gd).display;\n",
       "        if (!display || display === 'none') {{\n",
       "            console.log([gd, 'removed!']);\n",
       "            Plotly.purge(gd);\n",
       "            observer.disconnect();\n",
       "        }}\n",
       "}});\n",
       "\n",
       "// Listen for the removal of the full notebook cells\n",
       "var notebookContainer = gd.closest('#notebook-container');\n",
       "if (notebookContainer) {{\n",
       "    x.observe(notebookContainer, {childList: true});\n",
       "}}\n",
       "\n",
       "// Listen for the clearing of the current output cell\n",
       "var outputEl = gd.closest('.output');\n",
       "if (outputEl) {{\n",
       "    x.observe(outputEl, {childList: true});\n",
       "}}\n",
       "\n",
       "                        })                };                });            </script>        </div>"
      ]
     },
     "metadata": {},
     "output_type": "display_data"
    }
   ],
   "source": [
    "# Adjusted to use text-based plotting since Choropleth for provinces isn't supported without GeoJSON\n",
    "def plot_choropleth_map(data, column_name):\n",
    "    # Mapping province names to approximate central latitudes and longitudes\n",
    "    province_locations = {\n",
    "        'Sichuan': {'lat': 30.663, 'lon': 104.072},\n",
    "        'Xinjiang': {'lat': 43.792, 'lon': 87.617},\n",
    "        'Yunnan': {'lat': 25.046, 'lon': 102.718},\n",
    "        'Inner Mongolia': {'lat': 40.817, 'lon': 111.765},\n",
    "        'Other': {'lat': 35.000, 'lon': 100.000},\n",
    "        'Gansu': {'lat': 36.061, 'lon': 103.834},\n",
    "        'Beijing': {'lat': 39.904, 'lon': 116.407},\n",
    "        'Shanxi': {'lat': 37.869, 'lon': 112.558},\n",
    "        'Qinghai': {'lat': 36.623, 'lon': 101.778},\n",
    "    }\n",
    "    \n",
    "    fig = go.Figure()\n",
    "    years = sorted(data['Date'].dt.year.unique())\n",
    "    \n",
    "    for year in years:\n",
    "        filtered_data = data[data['Date'].dt.year == year]\n",
    "        \n",
    "        # Prepare data for the map\n",
    "        latitudes = [province_locations[prov]['lat'] for prov in filtered_data['Province']]\n",
    "        longitudes = [province_locations[prov]['lon'] for prov in filtered_data['Province']]\n",
    "        \n",
    "        # Create scatter geo plot to simulate a choropleth map with marker size proportional to hashrate share\n",
    "        fig.add_trace(go.Scattergeo(\n",
    "            locationmode='ISO-3',\n",
    "            lat=latitudes,\n",
    "            lon=longitudes,\n",
    "            text=filtered_data['Province'] + ': ' + filtered_data[column_name].astype(str) + '%',\n",
    "            marker=dict(\n",
    "                size=filtered_data[column_name],\n",
    "                color=filtered_data[column_name],\n",
    "                colorscale='Reds',\n",
    "                cmin=data[column_name].min(),\n",
    "                cmax=data[column_name].max(),\n",
    "                colorbar=dict(title=column_name),\n",
    "                line_color='black',\n",
    "                sizemode='area'\n",
    "            ),\n",
    "            name=f'{year} Data',\n",
    "            visible=False\n",
    "        ))\n",
    "    \n",
    "    # Show first year data by default\n",
    "    fig.data[0].visible = True\n",
    "    \n",
    "    # Create steps for the slider\n",
    "    steps = []\n",
    "    for i in range(len(years)):\n",
    "        step = dict(\n",
    "            method='update',\n",
    "            args=[{\"visible\": [False] * len(fig.data)},\n",
    "                  {\"title\": f\"Hashrate Share Map and Bar Chart - {years[i]}\"}],\n",
    "        )\n",
    "        step[\"args\"][0][\"visible\"][i] = True\n",
    "        steps.append(step)\n",
    "    \n",
    "    # Add slider\n",
    "    sliders = [dict(\n",
    "        active=0,\n",
    "        currentvalue={\"prefix\": \"Year: \"},\n",
    "        pad={\"t\": 50},\n",
    "        steps=steps\n",
    "    )]\n",
    "    \n",
    "    # Update layout\n",
    "    fig.update_layout(\n",
    "        title=f'{column_name} Distribution by Province',\n",
    "        title_x=0.5,\n",
    "        geo=dict(\n",
    "            scope='asia',\n",
    "            showframe=False,\n",
    "            showcoastlines=True,\n",
    "            projection_type='mercator'\n",
    "        ),\n",
    "        sliders=sliders,\n",
    "        height=700,\n",
    "        width=1200,\n",
    "        showlegend=False\n",
    "    )\n",
    "\n",
    "    # Show the figure\n",
    "    fig.show()\n",
    "\n",
    "plot_choropleth_map(df, 'Share of Chinese hashrate')"
   ]
  },
  {
   "cell_type": "code",
   "execution_count": 21,
   "id": "3d7f6877",
   "metadata": {
    "execution": {
     "iopub.execute_input": "2024-09-06T07:24:16.524694Z",
     "iopub.status.busy": "2024-09-06T07:24:16.524279Z",
     "iopub.status.idle": "2024-09-06T07:24:16.621571Z",
     "shell.execute_reply": "2024-09-06T07:24:16.620313Z"
    },
    "papermill": {
     "duration": 0.124774,
     "end_time": "2024-09-06T07:24:16.624201",
     "exception": false,
     "start_time": "2024-09-06T07:24:16.499427",
     "status": "completed"
    },
    "tags": []
   },
   "outputs": [
    {
     "data": {
      "text/html": [
       "<div>                            <div id=\"2e1486e8-9103-44ac-93bc-5d20a56fdaac\" class=\"plotly-graph-div\" style=\"height:700px; width:1200px;\"></div>            <script type=\"text/javascript\">                require([\"plotly\"], function(Plotly) {                    window.PLOTLYENV=window.PLOTLYENV || {};                                    if (document.getElementById(\"2e1486e8-9103-44ac-93bc-5d20a56fdaac\")) {                    Plotly.newPlot(                        \"2e1486e8-9103-44ac-93bc-5d20a56fdaac\",                        [{\"lat\":[30.663,43.792,25.046,40.817,35.0,36.061,39.904,37.869,36.623,30.663,43.792,25.046,40.817,35.0,36.061,39.904,37.869,36.623,43.792,30.663,25.046,40.817,35.0,36.061,39.904,37.869,36.623,43.792,30.663,40.817,25.046,35.0,36.061,39.904,37.869,36.623],\"lon\":[104.072,87.617,102.718,111.765,100.0,103.834,116.407,112.558,101.778,104.072,87.617,102.718,111.765,100.0,103.834,116.407,112.558,101.778,87.617,104.072,102.718,111.765,100.0,103.834,116.407,112.558,101.778,87.617,104.072,111.765,102.718,100.0,103.834,116.407,112.558,101.778],\"marker\":{\"cmax\":61.1,\"cmin\":0.0,\"color\":[49.52,19.09,13.55,8.0,4.92,2.58,0.86,0.81,0.67,43.04,27.35,11.27,8.46,4.09,3.43,1.13,0.81,0.42,36.03,32.0,11.12,9.68,4.52,3.87,1.36,0.85,0.56,46.5,18.03,12.45,9.05,5.83,3.8,2.81,1.03,0.51],\"colorbar\":{\"title\":{\"text\":\"Share of Chinese hashrate\"}},\"colorscale\":[[0.0,\"rgb(255,245,240)\"],[0.125,\"rgb(254,224,210)\"],[0.25,\"rgb(252,187,161)\"],[0.375,\"rgb(252,146,114)\"],[0.5,\"rgb(251,106,74)\"],[0.625,\"rgb(239,59,44)\"],[0.75,\"rgb(203,24,29)\"],[0.875,\"rgb(165,15,21)\"],[1.0,\"rgb(103,0,13)\"]],\"line\":{\"color\":\"darkgray\"},\"size\":[99.04,38.18,27.1,16.0,9.84,5.16,1.72,1.62,1.34,86.08,54.7,22.54,16.92,8.18,6.86,2.26,1.62,0.84,72.06,64.0,22.24,19.36,9.04,7.74,2.72,1.7,1.12,93.0,36.06,24.9,18.1,11.66,7.6,5.62,2.06,1.02],\"sizemode\":\"area\"},\"name\":\"2019 Data\",\"text\":[\"Sichuan: 49.52%\",\"Xinjiang: 19.09%\",\"Yunnan: 13.55%\",\"Inner Mongolia: 8.0%\",\"Other: 4.92%\",\"Gansu: 2.58%\",\"Beijing: 0.86%\",\"Shanxi: 0.81%\",\"Qinghai: 0.67%\",\"Sichuan: 43.04%\",\"Xinjiang: 27.35%\",\"Yunnan: 11.27%\",\"Inner Mongolia: 8.46%\",\"Other: 4.09%\",\"Gansu: 3.43%\",\"Beijing: 1.13%\",\"Shanxi: 0.81%\",\"Qinghai: 0.42%\",\"Xinjiang: 36.03%\",\"Sichuan: 32.0%\",\"Yunnan: 11.12%\",\"Inner Mongolia: 9.68%\",\"Other: 4.52%\",\"Gansu: 3.87%\",\"Beijing: 1.36%\",\"Shanxi: 0.85%\",\"Qinghai: 0.56%\",\"Xinjiang: 46.5%\",\"Sichuan: 18.03%\",\"Inner Mongolia: 12.45%\",\"Yunnan: 9.05%\",\"Other: 5.83%\",\"Gansu: 3.8%\",\"Beijing: 2.81%\",\"Shanxi: 1.03%\",\"Qinghai: 0.51%\"],\"visible\":true,\"type\":\"scattergeo\",\"geo\":\"geo\"},{\"marker\":{\"color\":[49.52,19.09,13.55,8.0,4.92,2.58,0.86,0.81,0.67,43.04,27.35,11.27,8.46,4.09,3.43,1.13,0.81,0.42,36.03,32.0,11.12,9.68,4.52,3.87,1.36,0.85,0.56,46.5,18.03,12.45,9.05,5.83,3.8,2.81,1.03,0.51],\"colorscale\":[[0.0,\"rgb(255,245,240)\"],[0.125,\"rgb(254,224,210)\"],[0.25,\"rgb(252,187,161)\"],[0.375,\"rgb(252,146,114)\"],[0.5,\"rgb(251,106,74)\"],[0.625,\"rgb(239,59,44)\"],[0.75,\"rgb(203,24,29)\"],[0.875,\"rgb(165,15,21)\"],[1.0,\"rgb(103,0,13)\"]],\"showscale\":true},\"name\":\"2019 Data\",\"visible\":true,\"x\":[\"Sichuan\",\"Xinjiang\",\"Yunnan\",\"Inner Mongolia\",\"Other\",\"Gansu\",\"Beijing\",\"Shanxi\",\"Qinghai\",\"Sichuan\",\"Xinjiang\",\"Yunnan\",\"Inner Mongolia\",\"Other\",\"Gansu\",\"Beijing\",\"Shanxi\",\"Qinghai\",\"Xinjiang\",\"Sichuan\",\"Yunnan\",\"Inner Mongolia\",\"Other\",\"Gansu\",\"Beijing\",\"Shanxi\",\"Qinghai\",\"Xinjiang\",\"Sichuan\",\"Inner Mongolia\",\"Yunnan\",\"Other\",\"Gansu\",\"Beijing\",\"Shanxi\",\"Qinghai\"],\"y\":[49.52,19.09,13.55,8.0,4.92,2.58,0.86,0.81,0.67,43.04,27.35,11.27,8.46,4.09,3.43,1.13,0.81,0.42,36.03,32.0,11.12,9.68,4.52,3.87,1.36,0.85,0.56,46.5,18.03,12.45,9.05,5.83,3.8,2.81,1.03,0.51],\"type\":\"bar\",\"xaxis\":\"x\",\"yaxis\":\"y\"},{\"lat\":[43.792,30.663,40.817,25.046,35.0,36.061,39.904,37.869,36.623,43.792,30.663,40.817,25.046,35.0,36.061,39.904,37.869,36.623,43.792,30.663,40.817,25.046,35.0,39.904,37.869,36.061,36.623,43.792,30.663,40.817,25.046,35.0,39.904,37.869,36.061,36.623,43.792,30.663,25.046,35.0,40.817,36.061,37.869,39.904,36.623,30.663,43.792,25.046,35.0,36.061,37.869,39.904,36.623,30.663,43.792,25.046,40.817,35.0,36.061,39.904,37.869,36.623,30.663,43.792,25.046,40.817,35.0,39.904,37.869,36.061,36.623,30.663,25.046,43.792,35.0,40.817,39.904,37.869,36.061,36.623,30.663,25.046,43.792,35.0,40.817,39.904,37.869,36.061,36.623,43.792,30.663,25.046,40.817,35.0,39.904,36.061,37.869,36.623,43.792,40.817,30.663,25.046,35.0,39.904,36.061,36.623,37.869],\"lon\":[87.617,104.072,111.765,102.718,100.0,103.834,116.407,112.558,101.778,87.617,104.072,111.765,102.718,100.0,103.834,116.407,112.558,101.778,87.617,104.072,111.765,102.718,100.0,116.407,112.558,103.834,101.778,87.617,104.072,111.765,102.718,100.0,116.407,112.558,103.834,101.778,87.617,104.072,102.718,100.0,111.765,103.834,112.558,116.407,101.778,104.072,87.617,102.718,100.0,103.834,112.558,116.407,101.778,104.072,87.617,102.718,111.765,100.0,103.834,116.407,112.558,101.778,104.072,87.617,102.718,111.765,100.0,116.407,112.558,103.834,101.778,104.072,102.718,87.617,100.0,111.765,116.407,112.558,103.834,101.778,104.072,102.718,87.617,100.0,111.765,116.407,112.558,103.834,101.778,87.617,104.072,102.718,111.765,100.0,116.407,103.834,112.558,101.778,87.617,111.765,104.072,102.718,100.0,116.407,103.834,101.778,112.558],\"marker\":{\"cmax\":61.1,\"cmin\":0.0,\"color\":[49.54,16.67,11.37,8.33,6.65,3.54,2.43,1.03,0.43,51.53,15.39,11.78,8.56,5.65,3.31,2.31,1.1,0.37,55.59,14.65,12.51,8.32,4.59,1.89,1.12,0.95,0.38,55.18,14.91,12.45,8.36,4.21,2.67,1.03,0.79,0.4,35.71,26.4,11.66,11.1,10.75,1.37,1.36,0.89,0.76,43.37,27.32,12.35,6.35,1.12,1.11,0.62,0.62,52.66,19.83,14.69,5.59,4.17,1.05,0.84,0.65,0.52,50.49,17.27,16.83,6.62,4.26,2.19,0.94,0.91,0.49,61.1,14.9,9.64,5.06,4.09,3.27,0.86,0.63,0.44,51.75,14.66,13.03,9.63,4.46,3.6,1.14,0.99,0.75,33.33,24.14,17.23,11.11,8.02,2.28,1.52,1.32,1.06,46.37,14.26,12.63,11.36,8.13,2.76,1.61,1.57,1.32],\"colorbar\":{\"title\":{\"text\":\"Share of Chinese hashrate\"}},\"colorscale\":[[0.0,\"rgb(255,245,240)\"],[0.125,\"rgb(254,224,210)\"],[0.25,\"rgb(252,187,161)\"],[0.375,\"rgb(252,146,114)\"],[0.5,\"rgb(251,106,74)\"],[0.625,\"rgb(239,59,44)\"],[0.75,\"rgb(203,24,29)\"],[0.875,\"rgb(165,15,21)\"],[1.0,\"rgb(103,0,13)\"]],\"line\":{\"color\":\"darkgray\"},\"size\":[99.08,33.34,22.74,16.66,13.3,7.08,4.86,2.06,0.86,103.06,30.78,23.56,17.12,11.3,6.62,4.62,2.2,0.74,111.18,29.3,25.02,16.64,9.18,3.78,2.24,1.9,0.76,110.36,29.82,24.9,16.72,8.42,5.34,2.06,1.58,0.8,71.42,52.8,23.32,22.2,21.5,2.74,2.72,1.78,1.52,86.74,54.64,24.7,12.7,2.24,2.22,1.24,1.24,105.32,39.66,29.38,11.18,8.34,2.1,1.68,1.3,1.04,100.98,34.54,33.66,13.24,8.52,4.38,1.88,1.82,0.98,122.2,29.8,19.28,10.12,8.18,6.54,1.72,1.26,0.88,103.5,29.32,26.06,19.26,8.92,7.2,2.28,1.98,1.5,66.66,48.28,34.46,22.22,16.04,4.56,3.04,2.64,2.12,92.74,28.52,25.26,22.72,16.26,5.52,3.22,3.14,2.64],\"sizemode\":\"area\"},\"name\":\"2020 Data\",\"text\":[\"Xinjiang: 49.54%\",\"Sichuan: 16.67%\",\"Inner Mongolia: 11.37%\",\"Yunnan: 8.33%\",\"Other: 6.65%\",\"Gansu: 3.54%\",\"Beijing: 2.43%\",\"Shanxi: 1.03%\",\"Qinghai: 0.43%\",\"Xinjiang: 51.53%\",\"Sichuan: 15.39%\",\"Inner Mongolia: 11.78%\",\"Yunnan: 8.56%\",\"Other: 5.65%\",\"Gansu: 3.31%\",\"Beijing: 2.31%\",\"Shanxi: 1.1%\",\"Qinghai: 0.37%\",\"Xinjiang: 55.59%\",\"Sichuan: 14.65%\",\"Inner Mongolia: 12.51%\",\"Yunnan: 8.32%\",\"Other: 4.59%\",\"Beijing: 1.89%\",\"Shanxi: 1.12%\",\"Gansu: 0.95%\",\"Qinghai: 0.38%\",\"Xinjiang: 55.18%\",\"Sichuan: 14.91%\",\"Inner Mongolia: 12.45%\",\"Yunnan: 8.36%\",\"Other: 4.21%\",\"Beijing: 2.67%\",\"Shanxi: 1.03%\",\"Gansu: 0.79%\",\"Qinghai: 0.4%\",\"Xinjiang: 35.71%\",\"Sichuan: 26.4%\",\"Yunnan: 11.66%\",\"Other: 11.1%\",\"Inner Mongolia: 10.75%\",\"Gansu: 1.37%\",\"Shanxi: 1.36%\",\"Beijing: 0.89%\",\"Qinghai: 0.76%\",\"Sichuan: 43.37%\",\"Xinjiang: 27.32%\",\"Yunnan: 12.35%\",\"Other: 6.35%\",\"Gansu: 1.12%\",\"Shanxi: 1.11%\",\"Beijing: 0.62%\",\"Qinghai: 0.62%\",\"Sichuan: 52.66%\",\"Xinjiang: 19.83%\",\"Yunnan: 14.69%\",\"Inner Mongolia: 5.59%\",\"Other: 4.17%\",\"Gansu: 1.05%\",\"Beijing: 0.84%\",\"Shanxi: 0.65%\",\"Qinghai: 0.52%\",\"Sichuan: 50.49%\",\"Xinjiang: 17.27%\",\"Yunnan: 16.83%\",\"Inner Mongolia: 6.62%\",\"Other: 4.26%\",\"Beijing: 2.19%\",\"Shanxi: 0.94%\",\"Gansu: 0.91%\",\"Qinghai: 0.49%\",\"Sichuan: 61.1%\",\"Yunnan: 14.9%\",\"Xinjiang: 9.64%\",\"Other: 5.06%\",\"Inner Mongolia: 4.09%\",\"Beijing: 3.27%\",\"Shanxi: 0.86%\",\"Gansu: 0.63%\",\"Qinghai: 0.44%\",\"Sichuan: 51.75%\",\"Yunnan: 14.66%\",\"Xinjiang: 13.03%\",\"Other: 9.63%\",\"Inner Mongolia: 4.46%\",\"Beijing: 3.6%\",\"Shanxi: 1.14%\",\"Gansu: 0.99%\",\"Qinghai: 0.75%\",\"Xinjiang: 33.33%\",\"Sichuan: 24.14%\",\"Yunnan: 17.23%\",\"Inner Mongolia: 11.11%\",\"Other: 8.02%\",\"Beijing: 2.28%\",\"Gansu: 1.52%\",\"Shanxi: 1.32%\",\"Qinghai: 1.06%\",\"Xinjiang: 46.37%\",\"Inner Mongolia: 14.26%\",\"Sichuan: 12.63%\",\"Yunnan: 11.36%\",\"Other: 8.13%\",\"Beijing: 2.76%\",\"Gansu: 1.61%\",\"Qinghai: 1.57%\",\"Shanxi: 1.32%\"],\"visible\":false,\"type\":\"scattergeo\",\"geo\":\"geo\"},{\"marker\":{\"color\":[49.54,16.67,11.37,8.33,6.65,3.54,2.43,1.03,0.43,51.53,15.39,11.78,8.56,5.65,3.31,2.31,1.1,0.37,55.59,14.65,12.51,8.32,4.59,1.89,1.12,0.95,0.38,55.18,14.91,12.45,8.36,4.21,2.67,1.03,0.79,0.4,35.71,26.4,11.66,11.1,10.75,1.37,1.36,0.89,0.76,43.37,27.32,12.35,6.35,1.12,1.11,0.62,0.62,52.66,19.83,14.69,5.59,4.17,1.05,0.84,0.65,0.52,50.49,17.27,16.83,6.62,4.26,2.19,0.94,0.91,0.49,61.1,14.9,9.64,5.06,4.09,3.27,0.86,0.63,0.44,51.75,14.66,13.03,9.63,4.46,3.6,1.14,0.99,0.75,33.33,24.14,17.23,11.11,8.02,2.28,1.52,1.32,1.06,46.37,14.26,12.63,11.36,8.13,2.76,1.61,1.57,1.32],\"colorscale\":[[0.0,\"rgb(255,245,240)\"],[0.125,\"rgb(254,224,210)\"],[0.25,\"rgb(252,187,161)\"],[0.375,\"rgb(252,146,114)\"],[0.5,\"rgb(251,106,74)\"],[0.625,\"rgb(239,59,44)\"],[0.75,\"rgb(203,24,29)\"],[0.875,\"rgb(165,15,21)\"],[1.0,\"rgb(103,0,13)\"]],\"showscale\":true},\"name\":\"2020 Data\",\"visible\":false,\"x\":[\"Xinjiang\",\"Sichuan\",\"Inner Mongolia\",\"Yunnan\",\"Other\",\"Gansu\",\"Beijing\",\"Shanxi\",\"Qinghai\",\"Xinjiang\",\"Sichuan\",\"Inner Mongolia\",\"Yunnan\",\"Other\",\"Gansu\",\"Beijing\",\"Shanxi\",\"Qinghai\",\"Xinjiang\",\"Sichuan\",\"Inner Mongolia\",\"Yunnan\",\"Other\",\"Beijing\",\"Shanxi\",\"Gansu\",\"Qinghai\",\"Xinjiang\",\"Sichuan\",\"Inner Mongolia\",\"Yunnan\",\"Other\",\"Beijing\",\"Shanxi\",\"Gansu\",\"Qinghai\",\"Xinjiang\",\"Sichuan\",\"Yunnan\",\"Other\",\"Inner Mongolia\",\"Gansu\",\"Shanxi\",\"Beijing\",\"Qinghai\",\"Sichuan\",\"Xinjiang\",\"Yunnan\",\"Other\",\"Gansu\",\"Shanxi\",\"Beijing\",\"Qinghai\",\"Sichuan\",\"Xinjiang\",\"Yunnan\",\"Inner Mongolia\",\"Other\",\"Gansu\",\"Beijing\",\"Shanxi\",\"Qinghai\",\"Sichuan\",\"Xinjiang\",\"Yunnan\",\"Inner Mongolia\",\"Other\",\"Beijing\",\"Shanxi\",\"Gansu\",\"Qinghai\",\"Sichuan\",\"Yunnan\",\"Xinjiang\",\"Other\",\"Inner Mongolia\",\"Beijing\",\"Shanxi\",\"Gansu\",\"Qinghai\",\"Sichuan\",\"Yunnan\",\"Xinjiang\",\"Other\",\"Inner Mongolia\",\"Beijing\",\"Shanxi\",\"Gansu\",\"Qinghai\",\"Xinjiang\",\"Sichuan\",\"Yunnan\",\"Inner Mongolia\",\"Other\",\"Beijing\",\"Gansu\",\"Shanxi\",\"Qinghai\",\"Xinjiang\",\"Inner Mongolia\",\"Sichuan\",\"Yunnan\",\"Other\",\"Beijing\",\"Gansu\",\"Qinghai\",\"Shanxi\"],\"y\":[49.54,16.67,11.37,8.33,6.65,3.54,2.43,1.03,0.43,51.53,15.39,11.78,8.56,5.65,3.31,2.31,1.1,0.37,55.59,14.65,12.51,8.32,4.59,1.89,1.12,0.95,0.38,55.18,14.91,12.45,8.36,4.21,2.67,1.03,0.79,0.4,35.71,26.4,11.66,11.1,10.75,1.37,1.36,0.89,0.76,43.37,27.32,12.35,6.35,1.12,1.11,0.62,0.62,52.66,19.83,14.69,5.59,4.17,1.05,0.84,0.65,0.52,50.49,17.27,16.83,6.62,4.26,2.19,0.94,0.91,0.49,61.1,14.9,9.64,5.06,4.09,3.27,0.86,0.63,0.44,51.75,14.66,13.03,9.63,4.46,3.6,1.14,0.99,0.75,33.33,24.14,17.23,11.11,8.02,2.28,1.52,1.32,1.06,46.37,14.26,12.63,11.36,8.13,2.76,1.61,1.57,1.32],\"type\":\"bar\",\"xaxis\":\"x\",\"yaxis\":\"y\"},{\"lat\":[43.792,40.817,25.046,35.0,30.663,39.904,36.623,36.061,37.869,43.792,40.817,25.046,30.663,35.0,39.904,36.623,36.061,37.869,43.792,30.663,25.046,35.0,40.817,39.904,36.623,36.061,37.869,43.792,30.663,25.046,35.0,39.904,40.817,36.623,36.061,37.869,43.792,30.663,25.046,35.0,39.904,36.623,36.061,40.817,37.869,30.663,43.792,25.046,35.0,36.061,39.904,37.869,36.623,40.817,35.0,25.046,43.792,30.663,37.869,36.623,40.817,39.904,36.061],\"lon\":[87.617,111.765,102.718,100.0,104.072,116.407,101.778,103.834,112.558,87.617,111.765,102.718,104.072,100.0,116.407,101.778,103.834,112.558,87.617,104.072,102.718,100.0,111.765,116.407,101.778,103.834,112.558,87.617,104.072,102.718,100.0,116.407,111.765,101.778,103.834,112.558,87.617,104.072,102.718,100.0,116.407,101.778,103.834,111.765,112.558,104.072,87.617,102.718,100.0,103.834,116.407,112.558,101.778,111.765,100.0,102.718,87.617,104.072,112.558,101.778,111.765,116.407,103.834],\"marker\":{\"cmax\":61.1,\"cmin\":0.0,\"color\":[47.27,17.22,10.58,8.96,8.64,2.78,1.81,1.5,1.24,46.66,17.05,10.02,8.86,8.81,3.92,2.23,1.5,0.94,59.32,10.13,7.69,7.1,6.36,4.9,2.51,1.25,0.74,54.37,16.35,8.72,7.33,4.84,3.73,2.31,1.34,1.0,53.25,22.2,7.85,7.22,4.49,1.62,1.22,1.17,0.99,42.59,32.25,13.03,6.6,1.75,1.59,1.4,0.66,0.13,0.0,0.0,0.0,0.0,0.0,0.0,0.0,0.0,0.0],\"colorbar\":{\"title\":{\"text\":\"Share of Chinese hashrate\"}},\"colorscale\":[[0.0,\"rgb(255,245,240)\"],[0.125,\"rgb(254,224,210)\"],[0.25,\"rgb(252,187,161)\"],[0.375,\"rgb(252,146,114)\"],[0.5,\"rgb(251,106,74)\"],[0.625,\"rgb(239,59,44)\"],[0.75,\"rgb(203,24,29)\"],[0.875,\"rgb(165,15,21)\"],[1.0,\"rgb(103,0,13)\"]],\"line\":{\"color\":\"darkgray\"},\"size\":[94.54,34.44,21.16,17.92,17.28,5.56,3.62,3.0,2.48,93.32,34.1,20.04,17.72,17.62,7.84,4.46,3.0,1.88,118.64,20.26,15.38,14.2,12.72,9.8,5.02,2.5,1.48,108.74,32.7,17.44,14.66,9.68,7.46,4.62,2.68,2.0,106.5,44.4,15.7,14.44,8.98,3.24,2.44,2.34,1.98,85.18,64.5,26.06,13.2,3.5,3.18,2.8,1.32,0.26,0.0,0.0,0.0,0.0,0.0,0.0,0.0,0.0,0.0],\"sizemode\":\"area\"},\"name\":\"2021 Data\",\"text\":[\"Xinjiang: 47.27%\",\"Inner Mongolia: 17.22%\",\"Yunnan: 10.58%\",\"Other: 8.96%\",\"Sichuan: 8.64%\",\"Beijing: 2.78%\",\"Qinghai: 1.81%\",\"Gansu: 1.5%\",\"Shanxi: 1.24%\",\"Xinjiang: 46.66%\",\"Inner Mongolia: 17.05%\",\"Yunnan: 10.02%\",\"Sichuan: 8.86%\",\"Other: 8.81%\",\"Beijing: 3.92%\",\"Qinghai: 2.23%\",\"Gansu: 1.5%\",\"Shanxi: 0.94%\",\"Xinjiang: 59.32%\",\"Sichuan: 10.13%\",\"Yunnan: 7.69%\",\"Other: 7.1%\",\"Inner Mongolia: 6.36%\",\"Beijing: 4.9%\",\"Qinghai: 2.51%\",\"Gansu: 1.25%\",\"Shanxi: 0.74%\",\"Xinjiang: 54.37%\",\"Sichuan: 16.35%\",\"Yunnan: 8.72%\",\"Other: 7.33%\",\"Beijing: 4.84%\",\"Inner Mongolia: 3.73%\",\"Qinghai: 2.31%\",\"Gansu: 1.34%\",\"Shanxi: 1.0%\",\"Xinjiang: 53.25%\",\"Sichuan: 22.2%\",\"Yunnan: 7.85%\",\"Other: 7.22%\",\"Beijing: 4.49%\",\"Qinghai: 1.62%\",\"Gansu: 1.22%\",\"Inner Mongolia: 1.17%\",\"Shanxi: 0.99%\",\"Sichuan: 42.59%\",\"Xinjiang: 32.25%\",\"Yunnan: 13.03%\",\"Other: 6.6%\",\"Gansu: 1.75%\",\"Beijing: 1.59%\",\"Shanxi: 1.4%\",\"Qinghai: 0.66%\",\"Inner Mongolia: 0.13%\",\"Other: 0.0%\",\"Yunnan: 0.0%\",\"Xinjiang: 0.0%\",\"Sichuan: 0.0%\",\"Shanxi: 0.0%\",\"Qinghai: 0.0%\",\"Inner Mongolia: 0.0%\",\"Beijing: 0.0%\",\"Gansu: 0.0%\"],\"visible\":false,\"type\":\"scattergeo\",\"geo\":\"geo\"},{\"marker\":{\"color\":[47.27,17.22,10.58,8.96,8.64,2.78,1.81,1.5,1.24,46.66,17.05,10.02,8.86,8.81,3.92,2.23,1.5,0.94,59.32,10.13,7.69,7.1,6.36,4.9,2.51,1.25,0.74,54.37,16.35,8.72,7.33,4.84,3.73,2.31,1.34,1.0,53.25,22.2,7.85,7.22,4.49,1.62,1.22,1.17,0.99,42.59,32.25,13.03,6.6,1.75,1.59,1.4,0.66,0.13,0.0,0.0,0.0,0.0,0.0,0.0,0.0,0.0,0.0],\"colorscale\":[[0.0,\"rgb(255,245,240)\"],[0.125,\"rgb(254,224,210)\"],[0.25,\"rgb(252,187,161)\"],[0.375,\"rgb(252,146,114)\"],[0.5,\"rgb(251,106,74)\"],[0.625,\"rgb(239,59,44)\"],[0.75,\"rgb(203,24,29)\"],[0.875,\"rgb(165,15,21)\"],[1.0,\"rgb(103,0,13)\"]],\"showscale\":true},\"name\":\"2021 Data\",\"visible\":false,\"x\":[\"Xinjiang\",\"Inner Mongolia\",\"Yunnan\",\"Other\",\"Sichuan\",\"Beijing\",\"Qinghai\",\"Gansu\",\"Shanxi\",\"Xinjiang\",\"Inner Mongolia\",\"Yunnan\",\"Sichuan\",\"Other\",\"Beijing\",\"Qinghai\",\"Gansu\",\"Shanxi\",\"Xinjiang\",\"Sichuan\",\"Yunnan\",\"Other\",\"Inner Mongolia\",\"Beijing\",\"Qinghai\",\"Gansu\",\"Shanxi\",\"Xinjiang\",\"Sichuan\",\"Yunnan\",\"Other\",\"Beijing\",\"Inner Mongolia\",\"Qinghai\",\"Gansu\",\"Shanxi\",\"Xinjiang\",\"Sichuan\",\"Yunnan\",\"Other\",\"Beijing\",\"Qinghai\",\"Gansu\",\"Inner Mongolia\",\"Shanxi\",\"Sichuan\",\"Xinjiang\",\"Yunnan\",\"Other\",\"Gansu\",\"Beijing\",\"Shanxi\",\"Qinghai\",\"Inner Mongolia\",\"Other\",\"Yunnan\",\"Xinjiang\",\"Sichuan\",\"Shanxi\",\"Qinghai\",\"Inner Mongolia\",\"Beijing\",\"Gansu\"],\"y\":[47.27,17.22,10.58,8.96,8.64,2.78,1.81,1.5,1.24,46.66,17.05,10.02,8.86,8.81,3.92,2.23,1.5,0.94,59.32,10.13,7.69,7.1,6.36,4.9,2.51,1.25,0.74,54.37,16.35,8.72,7.33,4.84,3.73,2.31,1.34,1.0,53.25,22.2,7.85,7.22,4.49,1.62,1.22,1.17,0.99,42.59,32.25,13.03,6.6,1.75,1.59,1.4,0.66,0.13,0.0,0.0,0.0,0.0,0.0,0.0,0.0,0.0,0.0],\"type\":\"bar\",\"xaxis\":\"x\",\"yaxis\":\"y\"}],                        {\"template\":{\"data\":{\"histogram2dcontour\":[{\"type\":\"histogram2dcontour\",\"colorbar\":{\"outlinewidth\":0,\"ticks\":\"\"},\"colorscale\":[[0.0,\"#0d0887\"],[0.1111111111111111,\"#46039f\"],[0.2222222222222222,\"#7201a8\"],[0.3333333333333333,\"#9c179e\"],[0.4444444444444444,\"#bd3786\"],[0.5555555555555556,\"#d8576b\"],[0.6666666666666666,\"#ed7953\"],[0.7777777777777778,\"#fb9f3a\"],[0.8888888888888888,\"#fdca26\"],[1.0,\"#f0f921\"]]}],\"choropleth\":[{\"type\":\"choropleth\",\"colorbar\":{\"outlinewidth\":0,\"ticks\":\"\"}}],\"histogram2d\":[{\"type\":\"histogram2d\",\"colorbar\":{\"outlinewidth\":0,\"ticks\":\"\"},\"colorscale\":[[0.0,\"#0d0887\"],[0.1111111111111111,\"#46039f\"],[0.2222222222222222,\"#7201a8\"],[0.3333333333333333,\"#9c179e\"],[0.4444444444444444,\"#bd3786\"],[0.5555555555555556,\"#d8576b\"],[0.6666666666666666,\"#ed7953\"],[0.7777777777777778,\"#fb9f3a\"],[0.8888888888888888,\"#fdca26\"],[1.0,\"#f0f921\"]]}],\"heatmap\":[{\"type\":\"heatmap\",\"colorbar\":{\"outlinewidth\":0,\"ticks\":\"\"},\"colorscale\":[[0.0,\"#0d0887\"],[0.1111111111111111,\"#46039f\"],[0.2222222222222222,\"#7201a8\"],[0.3333333333333333,\"#9c179e\"],[0.4444444444444444,\"#bd3786\"],[0.5555555555555556,\"#d8576b\"],[0.6666666666666666,\"#ed7953\"],[0.7777777777777778,\"#fb9f3a\"],[0.8888888888888888,\"#fdca26\"],[1.0,\"#f0f921\"]]}],\"heatmapgl\":[{\"type\":\"heatmapgl\",\"colorbar\":{\"outlinewidth\":0,\"ticks\":\"\"},\"colorscale\":[[0.0,\"#0d0887\"],[0.1111111111111111,\"#46039f\"],[0.2222222222222222,\"#7201a8\"],[0.3333333333333333,\"#9c179e\"],[0.4444444444444444,\"#bd3786\"],[0.5555555555555556,\"#d8576b\"],[0.6666666666666666,\"#ed7953\"],[0.7777777777777778,\"#fb9f3a\"],[0.8888888888888888,\"#fdca26\"],[1.0,\"#f0f921\"]]}],\"contourcarpet\":[{\"type\":\"contourcarpet\",\"colorbar\":{\"outlinewidth\":0,\"ticks\":\"\"}}],\"contour\":[{\"type\":\"contour\",\"colorbar\":{\"outlinewidth\":0,\"ticks\":\"\"},\"colorscale\":[[0.0,\"#0d0887\"],[0.1111111111111111,\"#46039f\"],[0.2222222222222222,\"#7201a8\"],[0.3333333333333333,\"#9c179e\"],[0.4444444444444444,\"#bd3786\"],[0.5555555555555556,\"#d8576b\"],[0.6666666666666666,\"#ed7953\"],[0.7777777777777778,\"#fb9f3a\"],[0.8888888888888888,\"#fdca26\"],[1.0,\"#f0f921\"]]}],\"surface\":[{\"type\":\"surface\",\"colorbar\":{\"outlinewidth\":0,\"ticks\":\"\"},\"colorscale\":[[0.0,\"#0d0887\"],[0.1111111111111111,\"#46039f\"],[0.2222222222222222,\"#7201a8\"],[0.3333333333333333,\"#9c179e\"],[0.4444444444444444,\"#bd3786\"],[0.5555555555555556,\"#d8576b\"],[0.6666666666666666,\"#ed7953\"],[0.7777777777777778,\"#fb9f3a\"],[0.8888888888888888,\"#fdca26\"],[1.0,\"#f0f921\"]]}],\"mesh3d\":[{\"type\":\"mesh3d\",\"colorbar\":{\"outlinewidth\":0,\"ticks\":\"\"}}],\"scatter\":[{\"fillpattern\":{\"fillmode\":\"overlay\",\"size\":10,\"solidity\":0.2},\"type\":\"scatter\"}],\"parcoords\":[{\"type\":\"parcoords\",\"line\":{\"colorbar\":{\"outlinewidth\":0,\"ticks\":\"\"}}}],\"scatterpolargl\":[{\"type\":\"scatterpolargl\",\"marker\":{\"colorbar\":{\"outlinewidth\":0,\"ticks\":\"\"}}}],\"bar\":[{\"error_x\":{\"color\":\"#2a3f5f\"},\"error_y\":{\"color\":\"#2a3f5f\"},\"marker\":{\"line\":{\"color\":\"#E5ECF6\",\"width\":0.5},\"pattern\":{\"fillmode\":\"overlay\",\"size\":10,\"solidity\":0.2}},\"type\":\"bar\"}],\"scattergeo\":[{\"type\":\"scattergeo\",\"marker\":{\"colorbar\":{\"outlinewidth\":0,\"ticks\":\"\"}}}],\"scatterpolar\":[{\"type\":\"scatterpolar\",\"marker\":{\"colorbar\":{\"outlinewidth\":0,\"ticks\":\"\"}}}],\"histogram\":[{\"marker\":{\"pattern\":{\"fillmode\":\"overlay\",\"size\":10,\"solidity\":0.2}},\"type\":\"histogram\"}],\"scattergl\":[{\"type\":\"scattergl\",\"marker\":{\"colorbar\":{\"outlinewidth\":0,\"ticks\":\"\"}}}],\"scatter3d\":[{\"type\":\"scatter3d\",\"line\":{\"colorbar\":{\"outlinewidth\":0,\"ticks\":\"\"}},\"marker\":{\"colorbar\":{\"outlinewidth\":0,\"ticks\":\"\"}}}],\"scattermapbox\":[{\"type\":\"scattermapbox\",\"marker\":{\"colorbar\":{\"outlinewidth\":0,\"ticks\":\"\"}}}],\"scatterternary\":[{\"type\":\"scatterternary\",\"marker\":{\"colorbar\":{\"outlinewidth\":0,\"ticks\":\"\"}}}],\"scattercarpet\":[{\"type\":\"scattercarpet\",\"marker\":{\"colorbar\":{\"outlinewidth\":0,\"ticks\":\"\"}}}],\"carpet\":[{\"aaxis\":{\"endlinecolor\":\"#2a3f5f\",\"gridcolor\":\"white\",\"linecolor\":\"white\",\"minorgridcolor\":\"white\",\"startlinecolor\":\"#2a3f5f\"},\"baxis\":{\"endlinecolor\":\"#2a3f5f\",\"gridcolor\":\"white\",\"linecolor\":\"white\",\"minorgridcolor\":\"white\",\"startlinecolor\":\"#2a3f5f\"},\"type\":\"carpet\"}],\"table\":[{\"cells\":{\"fill\":{\"color\":\"#EBF0F8\"},\"line\":{\"color\":\"white\"}},\"header\":{\"fill\":{\"color\":\"#C8D4E3\"},\"line\":{\"color\":\"white\"}},\"type\":\"table\"}],\"barpolar\":[{\"marker\":{\"line\":{\"color\":\"#E5ECF6\",\"width\":0.5},\"pattern\":{\"fillmode\":\"overlay\",\"size\":10,\"solidity\":0.2}},\"type\":\"barpolar\"}],\"pie\":[{\"automargin\":true,\"type\":\"pie\"}]},\"layout\":{\"autotypenumbers\":\"strict\",\"colorway\":[\"#636efa\",\"#EF553B\",\"#00cc96\",\"#ab63fa\",\"#FFA15A\",\"#19d3f3\",\"#FF6692\",\"#B6E880\",\"#FF97FF\",\"#FECB52\"],\"font\":{\"color\":\"#2a3f5f\"},\"hovermode\":\"closest\",\"hoverlabel\":{\"align\":\"left\"},\"paper_bgcolor\":\"white\",\"plot_bgcolor\":\"#E5ECF6\",\"polar\":{\"bgcolor\":\"#E5ECF6\",\"angularaxis\":{\"gridcolor\":\"white\",\"linecolor\":\"white\",\"ticks\":\"\"},\"radialaxis\":{\"gridcolor\":\"white\",\"linecolor\":\"white\",\"ticks\":\"\"}},\"ternary\":{\"bgcolor\":\"#E5ECF6\",\"aaxis\":{\"gridcolor\":\"white\",\"linecolor\":\"white\",\"ticks\":\"\"},\"baxis\":{\"gridcolor\":\"white\",\"linecolor\":\"white\",\"ticks\":\"\"},\"caxis\":{\"gridcolor\":\"white\",\"linecolor\":\"white\",\"ticks\":\"\"}},\"coloraxis\":{\"colorbar\":{\"outlinewidth\":0,\"ticks\":\"\"}},\"colorscale\":{\"sequential\":[[0.0,\"#0d0887\"],[0.1111111111111111,\"#46039f\"],[0.2222222222222222,\"#7201a8\"],[0.3333333333333333,\"#9c179e\"],[0.4444444444444444,\"#bd3786\"],[0.5555555555555556,\"#d8576b\"],[0.6666666666666666,\"#ed7953\"],[0.7777777777777778,\"#fb9f3a\"],[0.8888888888888888,\"#fdca26\"],[1.0,\"#f0f921\"]],\"sequentialminus\":[[0.0,\"#0d0887\"],[0.1111111111111111,\"#46039f\"],[0.2222222222222222,\"#7201a8\"],[0.3333333333333333,\"#9c179e\"],[0.4444444444444444,\"#bd3786\"],[0.5555555555555556,\"#d8576b\"],[0.6666666666666666,\"#ed7953\"],[0.7777777777777778,\"#fb9f3a\"],[0.8888888888888888,\"#fdca26\"],[1.0,\"#f0f921\"]],\"diverging\":[[0,\"#8e0152\"],[0.1,\"#c51b7d\"],[0.2,\"#de77ae\"],[0.3,\"#f1b6da\"],[0.4,\"#fde0ef\"],[0.5,\"#f7f7f7\"],[0.6,\"#e6f5d0\"],[0.7,\"#b8e186\"],[0.8,\"#7fbc41\"],[0.9,\"#4d9221\"],[1,\"#276419\"]]},\"xaxis\":{\"gridcolor\":\"white\",\"linecolor\":\"white\",\"ticks\":\"\",\"title\":{\"standoff\":15},\"zerolinecolor\":\"white\",\"automargin\":true,\"zerolinewidth\":2},\"yaxis\":{\"gridcolor\":\"white\",\"linecolor\":\"white\",\"ticks\":\"\",\"title\":{\"standoff\":15},\"zerolinecolor\":\"white\",\"automargin\":true,\"zerolinewidth\":2},\"scene\":{\"xaxis\":{\"backgroundcolor\":\"#E5ECF6\",\"gridcolor\":\"white\",\"linecolor\":\"white\",\"showbackground\":true,\"ticks\":\"\",\"zerolinecolor\":\"white\",\"gridwidth\":2},\"yaxis\":{\"backgroundcolor\":\"#E5ECF6\",\"gridcolor\":\"white\",\"linecolor\":\"white\",\"showbackground\":true,\"ticks\":\"\",\"zerolinecolor\":\"white\",\"gridwidth\":2},\"zaxis\":{\"backgroundcolor\":\"#E5ECF6\",\"gridcolor\":\"white\",\"linecolor\":\"white\",\"showbackground\":true,\"ticks\":\"\",\"zerolinecolor\":\"white\",\"gridwidth\":2}},\"shapedefaults\":{\"line\":{\"color\":\"#2a3f5f\"}},\"annotationdefaults\":{\"arrowcolor\":\"#2a3f5f\",\"arrowhead\":0,\"arrowwidth\":1},\"geo\":{\"bgcolor\":\"white\",\"landcolor\":\"#E5ECF6\",\"subunitcolor\":\"white\",\"showland\":true,\"showlakes\":true,\"lakecolor\":\"white\"},\"title\":{\"x\":0.05},\"mapbox\":{\"style\":\"light\"}}},\"geo\":{\"domain\":{\"x\":[0.0,0.54],\"y\":[0.0,1.0]},\"projection\":{\"type\":\"mercator\"},\"scope\":\"asia\",\"showframe\":false,\"showcoastlines\":true},\"xaxis\":{\"anchor\":\"y\",\"domain\":[0.64,1.0]},\"yaxis\":{\"anchor\":\"x\",\"domain\":[0.0,1.0]},\"annotations\":[{\"font\":{\"size\":16},\"showarrow\":false,\"text\":\"Choropleth Scatter Map\",\"x\":0.27,\"xanchor\":\"center\",\"xref\":\"paper\",\"y\":1.0,\"yanchor\":\"bottom\",\"yref\":\"paper\"},{\"font\":{\"size\":16},\"showarrow\":false,\"text\":\"Bar Chart\",\"x\":0.8200000000000001,\"xanchor\":\"center\",\"xref\":\"paper\",\"y\":1.0,\"yanchor\":\"bottom\",\"yref\":\"paper\"}],\"title\":{\"text\":\"Share of Chinese hashrate Distribution by Province\",\"x\":0.5},\"sliders\":[{\"active\":0,\"currentvalue\":{\"prefix\":\"Year: \"},\"pad\":{\"t\":50},\"steps\":[{\"args\":[{\"visible\":[true,true,false,false,false,false]},{\"title\":\"Hashrate Share Map and Bar Chart - 2019\"}],\"method\":\"update\"},{\"args\":[{\"visible\":[false,false,true,true,false,false]},{\"title\":\"Hashrate Share Map and Bar Chart - 2020\"}],\"method\":\"update\"},{\"args\":[{\"visible\":[false,false,false,false,true,true]},{\"title\":\"Hashrate Share Map and Bar Chart - 2021\"}],\"method\":\"update\"}]}],\"height\":700,\"width\":1200,\"showlegend\":false},                        {\"responsive\": true}                    ).then(function(){\n",
       "                            \n",
       "var gd = document.getElementById('2e1486e8-9103-44ac-93bc-5d20a56fdaac');\n",
       "var x = new MutationObserver(function (mutations, observer) {{\n",
       "        var display = window.getComputedStyle(gd).display;\n",
       "        if (!display || display === 'none') {{\n",
       "            console.log([gd, 'removed!']);\n",
       "            Plotly.purge(gd);\n",
       "            observer.disconnect();\n",
       "        }}\n",
       "}});\n",
       "\n",
       "// Listen for the removal of the full notebook cells\n",
       "var notebookContainer = gd.closest('#notebook-container');\n",
       "if (notebookContainer) {{\n",
       "    x.observe(notebookContainer, {childList: true});\n",
       "}}\n",
       "\n",
       "// Listen for the clearing of the current output cell\n",
       "var outputEl = gd.closest('.output');\n",
       "if (outputEl) {{\n",
       "    x.observe(outputEl, {childList: true});\n",
       "}}\n",
       "\n",
       "                        })                };                });            </script>        </div>"
      ]
     },
     "metadata": {},
     "output_type": "display_data"
    }
   ],
   "source": [
    "# Mapping province names to approximate central latitudes and longitudes\n",
    "province_locations = {\n",
    "    'Sichuan': {'lat': 30.663, 'lon': 104.072},\n",
    "    'Xinjiang': {'lat': 43.792, 'lon': 87.617},\n",
    "    'Yunnan': {'lat': 25.046, 'lon': 102.718},\n",
    "    'Inner Mongolia': {'lat': 40.817, 'lon': 111.765},\n",
    "    'Other': {'lat': 35.000, 'lon': 100.000},\n",
    "    'Gansu': {'lat': 36.061, 'lon': 103.834},\n",
    "    'Beijing': {'lat': 39.904, 'lon': 116.407},\n",
    "    'Shanxi': {'lat': 37.869, 'lon': 112.558},\n",
    "    'Qinghai': {'lat': 36.623, 'lon': 101.778},\n",
    "}\n",
    "\n",
    "# Dynamic choropleth map with slider using scatter points for provinces\n",
    "def plot_choropleth_map_with_scatter(data, column_name):\n",
    "    # Create a subplot layout for the map and bar chart\n",
    "    fig = make_subplots(rows=1, cols=2, subplot_titles=(\"Choropleth Scatter Map\", \"Bar Chart\"),\n",
    "                        specs=[[{\"type\": \"scattergeo\"}, {\"type\": \"bar\"}]],\n",
    "                        column_widths=[0.6, 0.4])\n",
    "\n",
    "    years = sorted(data['Date'].dt.year.unique())\n",
    "    \n",
    "    for year in years:\n",
    "        filtered_data = data[data['Date'].dt.year == year]\n",
    "        \n",
    "        # Prepare data for scattergeo\n",
    "        latitudes = [province_locations[prov]['lat'] for prov in filtered_data['Province']]\n",
    "        longitudes = [province_locations[prov]['lon'] for prov in filtered_data['Province']]\n",
    "        \n",
    "        # Scattergeo map for each year\n",
    "        scattergeo = go.Scattergeo(\n",
    "            lat=latitudes,\n",
    "            lon=longitudes,\n",
    "            text=filtered_data['Province'] + ': ' + filtered_data[column_name].astype(str) + '%',\n",
    "            marker=dict(\n",
    "                size=filtered_data[column_name] * 2,  # Adjust size to scale with value\n",
    "                color=filtered_data[column_name],\n",
    "                colorscale='Reds',\n",
    "                cmin=data[column_name].min(),\n",
    "                cmax=data[column_name].max(),\n",
    "                colorbar=dict(title=column_name),\n",
    "                line_color='darkgray',\n",
    "                sizemode='area'\n",
    "            ),\n",
    "            name=f'{year} Data',\n",
    "            visible=False\n",
    "        )\n",
    "        \n",
    "        # Add scattergeo to the figure\n",
    "        fig.add_trace(scattergeo, row=1, col=1)\n",
    "\n",
    "        # Bar chart for the same year\n",
    "        bar_chart = go.Bar(\n",
    "            x=filtered_data['Province'],\n",
    "            y=filtered_data[column_name],\n",
    "            marker=dict(color=filtered_data[column_name], colorscale='Reds', showscale=True),\n",
    "            visible=False,\n",
    "            name=f'{year} Data'\n",
    "        )\n",
    "        \n",
    "        # Add bar chart\n",
    "        fig.add_trace(bar_chart, row=1, col=2)\n",
    "\n",
    "    # Show first year data by default\n",
    "    fig.data[0].visible = True\n",
    "    fig.data[1].visible = True\n",
    "    \n",
    "    # Create steps for the slider\n",
    "    steps = []\n",
    "    for i in range(len(years)):\n",
    "        step = dict(\n",
    "            method='update',\n",
    "            args=[{\"visible\": [False] * len(fig.data)},\n",
    "                  {\"title\": f\"Hashrate Share Map and Bar Chart - {years[i]}\"}],\n",
    "        )\n",
    "        step[\"args\"][0][\"visible\"][i * 2] = True\n",
    "        step[\"args\"][0][\"visible\"][(i * 2) + 1] = True\n",
    "        steps.append(step)\n",
    "\n",
    "    # Add slider\n",
    "    sliders = [dict(\n",
    "        active=0,\n",
    "        currentvalue={\"prefix\": \"Year: \"},\n",
    "        pad={\"t\": 50},\n",
    "        steps=steps\n",
    "    )]\n",
    "\n",
    "    # Update layout\n",
    "    fig.update_layout(\n",
    "        title=f'{column_name} Distribution by Province',\n",
    "        title_x=0.5,\n",
    "        geo=dict(\n",
    "            scope='asia',\n",
    "            showframe=False,\n",
    "            showcoastlines=True,\n",
    "            projection_type='mercator'\n",
    "        ),\n",
    "        sliders=sliders,\n",
    "        height=700,\n",
    "        width=1200,\n",
    "        showlegend=False\n",
    "    )\n",
    "\n",
    "    fig.show()\n",
    "\n",
    "plot_choropleth_map_with_scatter(df, 'Share of Chinese hashrate')"
   ]
  },
  {
   "cell_type": "code",
   "execution_count": 22,
   "id": "df245651",
   "metadata": {
    "execution": {
     "iopub.execute_input": "2024-09-06T07:24:16.673144Z",
     "iopub.status.busy": "2024-09-06T07:24:16.672716Z",
     "iopub.status.idle": "2024-09-06T07:24:16.679957Z",
     "shell.execute_reply": "2024-09-06T07:24:16.678836Z"
    },
    "papermill": {
     "duration": 0.034895,
     "end_time": "2024-09-06T07:24:16.682479",
     "exception": false,
     "start_time": "2024-09-06T07:24:16.647584",
     "status": "completed"
    },
    "tags": []
   },
   "outputs": [],
   "source": [
    "# Model Definitions\n",
    "models = [\n",
    "    ('LogReg', LogisticRegression()), ('SVC', SVC(probability=True)),\n",
    "    ('KNN', KNeighborsClassifier()), ('DecisionTree', DecisionTreeClassifier()),\n",
    "    ('RandomForest', RandomForestClassifier()), ('AdaBoost', AdaBoostClassifier()),\n",
    "    ('GradientBoosting', GradientBoostingClassifier()), ('XGB', XGBClassifier()),\n",
    "    ('LDA', LinearDiscriminantAnalysis()), ('GaussianNB', GaussianNB())\n",
    "]"
   ]
  },
  {
   "cell_type": "code",
   "execution_count": 23,
   "id": "095b3448",
   "metadata": {
    "execution": {
     "iopub.execute_input": "2024-09-06T07:24:16.734038Z",
     "iopub.status.busy": "2024-09-06T07:24:16.733622Z",
     "iopub.status.idle": "2024-09-06T07:24:16.740284Z",
     "shell.execute_reply": "2024-09-06T07:24:16.739198Z"
    },
    "papermill": {
     "duration": 0.03531,
     "end_time": "2024-09-06T07:24:16.742721",
     "exception": false,
     "start_time": "2024-09-06T07:24:16.707411",
     "status": "completed"
    },
    "tags": []
   },
   "outputs": [],
   "source": [
    "# Hyperparameter grids for selected models\n",
    "param_grids = {\n",
    "    'RandomForest': {'n_estimators': [50, 100, 200], 'max_depth': [None, 10, 20]},\n",
    "    'SVC': {'C': [0.1, 1, 10], 'kernel': ['linear', 'rbf']},\n",
    "    'GradientBoosting': {'n_estimators': [50, 100, 200], 'learning_rate': [0.01, 0.1, 0.2], 'max_depth': [3, 5, 7]}\n",
    "}"
   ]
  },
  {
   "cell_type": "code",
   "execution_count": 24,
   "id": "48499196",
   "metadata": {
    "execution": {
     "iopub.execute_input": "2024-09-06T07:24:16.792913Z",
     "iopub.status.busy": "2024-09-06T07:24:16.791899Z",
     "iopub.status.idle": "2024-09-06T07:24:16.797117Z",
     "shell.execute_reply": "2024-09-06T07:24:16.796039Z"
    },
    "papermill": {
     "duration": 0.031957,
     "end_time": "2024-09-06T07:24:16.799429",
     "exception": false,
     "start_time": "2024-09-06T07:24:16.767472",
     "status": "completed"
    },
    "tags": []
   },
   "outputs": [],
   "source": [
    "# Cross-validation strategy\n",
    "cv_strategy = StratifiedKFold(n_splits=5, shuffle=True, random_state=42)"
   ]
  },
  {
   "cell_type": "code",
   "execution_count": 25,
   "id": "5c798905",
   "metadata": {
    "execution": {
     "iopub.execute_input": "2024-09-06T07:24:16.850245Z",
     "iopub.status.busy": "2024-09-06T07:24:16.848873Z",
     "iopub.status.idle": "2024-09-06T07:24:28.758856Z",
     "shell.execute_reply": "2024-09-06T07:24:28.756921Z"
    },
    "papermill": {
     "duration": 11.938571,
     "end_time": "2024-09-06T07:24:28.761860",
     "exception": false,
     "start_time": "2024-09-06T07:24:16.823289",
     "status": "completed"
    },
    "tags": []
   },
   "outputs": [
    {
     "name": "stdout",
     "output_type": "stream",
     "text": [
      "Classification Report for LogReg:\n",
      "               precision    recall  f1-score   support\n",
      "\n",
      "           0       1.00      1.00      1.00         8\n",
      "           1       1.00      1.00      1.00         1\n",
      "\n",
      "    accuracy                           1.00         9\n",
      "   macro avg       1.00      1.00      1.00         9\n",
      "weighted avg       1.00      1.00      1.00         9\n",
      "\n",
      "Confusion Matrix for LogReg:\n",
      " [[8 0]\n",
      " [0 1]]\n"
     ]
    },
    {
     "name": "stderr",
     "output_type": "stream",
     "text": [
      "/opt/conda/lib/python3.10/site-packages/sklearn/model_selection/_search.py:305: UserWarning:\n",
      "\n",
      "The total space of parameters 6 is smaller than n_iter=10. Running 6 iterations. For exhaustive searches, use GridSearchCV.\n",
      "\n"
     ]
    },
    {
     "name": "stdout",
     "output_type": "stream",
     "text": [
      "Classification Report for SVC:\n",
      "               precision    recall  f1-score   support\n",
      "\n",
      "           0       1.00      1.00      1.00         8\n",
      "           1       1.00      1.00      1.00         1\n",
      "\n",
      "    accuracy                           1.00         9\n",
      "   macro avg       1.00      1.00      1.00         9\n",
      "weighted avg       1.00      1.00      1.00         9\n",
      "\n",
      "Confusion Matrix for SVC:\n",
      " [[8 0]\n",
      " [0 1]]\n",
      "Classification Report for KNN:\n",
      "               precision    recall  f1-score   support\n",
      "\n",
      "           0       0.89      1.00      0.94         8\n",
      "           1       0.00      0.00      0.00         1\n",
      "\n",
      "    accuracy                           0.89         9\n",
      "   macro avg       0.44      0.50      0.47         9\n",
      "weighted avg       0.79      0.89      0.84         9\n",
      "\n",
      "Confusion Matrix for KNN:\n",
      " [[8 0]\n",
      " [1 0]]\n",
      "Classification Report for DecisionTree:\n",
      "               precision    recall  f1-score   support\n",
      "\n",
      "           0       1.00      0.88      0.93         8\n",
      "           1       0.50      1.00      0.67         1\n",
      "\n",
      "    accuracy                           0.89         9\n",
      "   macro avg       0.75      0.94      0.80         9\n",
      "weighted avg       0.94      0.89      0.90         9\n",
      "\n",
      "Confusion Matrix for DecisionTree:\n",
      " [[7 1]\n",
      " [0 1]]\n"
     ]
    },
    {
     "name": "stderr",
     "output_type": "stream",
     "text": [
      "/opt/conda/lib/python3.10/site-packages/sklearn/metrics/_classification.py:1344: UndefinedMetricWarning:\n",
      "\n",
      "Precision is ill-defined and being set to 0.0 due to no predicted samples. Use `zero_division` parameter to control this behavior.\n",
      "\n",
      "/opt/conda/lib/python3.10/site-packages/sklearn/metrics/_classification.py:1344: UndefinedMetricWarning:\n",
      "\n",
      "Precision and F-score are ill-defined and being set to 0.0 in labels with no predicted samples. Use `zero_division` parameter to control this behavior.\n",
      "\n",
      "/opt/conda/lib/python3.10/site-packages/sklearn/metrics/_classification.py:1344: UndefinedMetricWarning:\n",
      "\n",
      "Precision and F-score are ill-defined and being set to 0.0 in labels with no predicted samples. Use `zero_division` parameter to control this behavior.\n",
      "\n",
      "/opt/conda/lib/python3.10/site-packages/sklearn/metrics/_classification.py:1344: UndefinedMetricWarning:\n",
      "\n",
      "Precision and F-score are ill-defined and being set to 0.0 in labels with no predicted samples. Use `zero_division` parameter to control this behavior.\n",
      "\n",
      "/opt/conda/lib/python3.10/site-packages/sklearn/model_selection/_search.py:305: UserWarning:\n",
      "\n",
      "The total space of parameters 9 is smaller than n_iter=10. Running 9 iterations. For exhaustive searches, use GridSearchCV.\n",
      "\n"
     ]
    },
    {
     "name": "stdout",
     "output_type": "stream",
     "text": [
      "Classification Report for RandomForest:\n",
      "               precision    recall  f1-score   support\n",
      "\n",
      "           0       1.00      1.00      1.00         8\n",
      "           1       1.00      1.00      1.00         1\n",
      "\n",
      "    accuracy                           1.00         9\n",
      "   macro avg       1.00      1.00      1.00         9\n",
      "weighted avg       1.00      1.00      1.00         9\n",
      "\n",
      "Confusion Matrix for RandomForest:\n",
      " [[8 0]\n",
      " [0 1]]\n",
      "Classification Report for AdaBoost:\n",
      "               precision    recall  f1-score   support\n",
      "\n",
      "           0       1.00      1.00      1.00         8\n",
      "           1       1.00      1.00      1.00         1\n",
      "\n",
      "    accuracy                           1.00         9\n",
      "   macro avg       1.00      1.00      1.00         9\n",
      "weighted avg       1.00      1.00      1.00         9\n",
      "\n",
      "Confusion Matrix for AdaBoost:\n",
      " [[8 0]\n",
      " [0 1]]\n",
      "Classification Report for GradientBoosting:\n",
      "               precision    recall  f1-score   support\n",
      "\n",
      "           0       1.00      0.88      0.93         8\n",
      "           1       0.50      1.00      0.67         1\n",
      "\n",
      "    accuracy                           0.89         9\n",
      "   macro avg       0.75      0.94      0.80         9\n",
      "weighted avg       0.94      0.89      0.90         9\n",
      "\n",
      "Confusion Matrix for GradientBoosting:\n",
      " [[7 1]\n",
      " [0 1]]\n",
      "Classification Report for XGB:\n",
      "               precision    recall  f1-score   support\n",
      "\n",
      "           0       0.86      0.75      0.80         8\n",
      "           1       0.00      0.00      0.00         1\n",
      "\n",
      "    accuracy                           0.67         9\n",
      "   macro avg       0.43      0.38      0.40         9\n",
      "weighted avg       0.76      0.67      0.71         9\n",
      "\n",
      "Confusion Matrix for XGB:\n",
      " [[6 2]\n",
      " [1 0]]\n",
      "Classification Report for LDA:\n",
      "               precision    recall  f1-score   support\n",
      "\n",
      "           0       1.00      0.88      0.93         8\n",
      "           1       0.50      1.00      0.67         1\n",
      "\n",
      "    accuracy                           0.89         9\n",
      "   macro avg       0.75      0.94      0.80         9\n",
      "weighted avg       0.94      0.89      0.90         9\n",
      "\n",
      "Confusion Matrix for LDA:\n",
      " [[7 1]\n",
      " [0 1]]\n",
      "Classification Report for GaussianNB:\n",
      "               precision    recall  f1-score   support\n",
      "\n",
      "           0       1.00      0.88      0.93         8\n",
      "           1       0.50      1.00      0.67         1\n",
      "\n",
      "    accuracy                           0.89         9\n",
      "   macro avg       0.75      0.94      0.80         9\n",
      "weighted avg       0.94      0.89      0.90         9\n",
      "\n",
      "Confusion Matrix for GaussianNB:\n",
      " [[7 1]\n",
      " [0 1]]\n"
     ]
    }
   ],
   "source": [
    "# Training and Evaluation\n",
    "final_model_performance = []\n",
    "for name, model in models:\n",
    "    if name in param_grids:\n",
    "        rand_search = RandomizedSearchCV(model, param_grids[name], cv=cv_strategy, n_iter=10, scoring='accuracy', n_jobs=-1)\n",
    "        rand_search.fit(X_train, y_train)\n",
    "        best_model = rand_search.best_estimator_\n",
    "    else:\n",
    "        best_model = model\n",
    "        best_model.fit(X_train, y_train)\n",
    "\n",
    "    # Cross-validation scores\n",
    "    cv_scores = cross_val_score(best_model, X_train, y_train, cv=cv_strategy, scoring='accuracy')\n",
    "\n",
    "    # Predictions and evaluation on test set\n",
    "    y_pred = best_model.predict(X_test)\n",
    "    acc = accuracy_score(y_test, y_pred)\n",
    "    recall = recall_score(y_test, y_pred)\n",
    "    precision = precision_score(y_test, y_pred)\n",
    "    f1 = f1_score(y_test, y_pred)\n",
    "\n",
    "    # Storing model performance\n",
    "    final_model_performance.append({\n",
    "        'Model': name, 'Accuracy': acc, 'Recall': recall,\n",
    "        'Precision': precision, 'F1-Score': f1, 'CV Mean Accuracy': np.mean(cv_scores)\n",
    "    })\n",
    "\n",
    "    # Save the model for future use\n",
    "    joblib.dump(best_model, f'{name}_best_model.pkl')\n",
    "\n",
    "    # Display Classification Report\n",
    "    print(f\"Classification Report for {name}:\\n\", classification_report(y_test, y_pred))\n",
    "    print(f\"Confusion Matrix for {name}:\\n\", confusion_matrix(y_test, y_pred))"
   ]
  },
  {
   "cell_type": "code",
   "execution_count": 26,
   "id": "4d1623b8",
   "metadata": {
    "execution": {
     "iopub.execute_input": "2024-09-06T07:24:28.815748Z",
     "iopub.status.busy": "2024-09-06T07:24:28.815276Z",
     "iopub.status.idle": "2024-09-06T07:24:28.833100Z",
     "shell.execute_reply": "2024-09-06T07:24:28.831713Z"
    },
    "papermill": {
     "duration": 0.047545,
     "end_time": "2024-09-06T07:24:28.835876",
     "exception": false,
     "start_time": "2024-09-06T07:24:28.788331",
     "status": "completed"
    },
    "tags": []
   },
   "outputs": [
    {
     "name": "stdout",
     "output_type": "stream",
     "text": [
      "\n",
      "Final Model Performance Comparison:\n",
      "               Model  Accuracy  Recall  Precision  F1-Score  CV Mean Accuracy\n",
      "0            LogReg  1.000000     1.0        1.0  1.000000          0.716667\n",
      "1               SVC  1.000000     1.0        1.0  1.000000          0.883333\n",
      "4      RandomForest  1.000000     1.0        1.0  1.000000          0.633333\n",
      "5          AdaBoost  1.000000     1.0        1.0  1.000000          0.516667\n",
      "3      DecisionTree  0.888889     1.0        0.5  0.666667          0.783333\n",
      "6  GradientBoosting  0.888889     1.0        0.5  0.666667          0.783333\n",
      "8               LDA  0.888889     1.0        0.5  0.666667          0.733333\n",
      "9        GaussianNB  0.888889     1.0        0.5  0.666667          0.516667\n",
      "2               KNN  0.888889     0.0        0.0  0.000000          0.566667\n",
      "7               XGB  0.666667     0.0        0.0  0.000000          0.616667\n"
     ]
    }
   ],
   "source": [
    "# Performance Summary\n",
    "performance_df_final = pd.DataFrame(final_model_performance).sort_values(by=['Accuracy', 'F1-Score'], ascending=False)\n",
    "print(\"\\nFinal Model Performance Comparison:\\n\", performance_df_final)"
   ]
  },
  {
   "cell_type": "code",
   "execution_count": 27,
   "id": "793a56a5",
   "metadata": {
    "execution": {
     "iopub.execute_input": "2024-09-06T07:24:28.888658Z",
     "iopub.status.busy": "2024-09-06T07:24:28.888260Z",
     "iopub.status.idle": "2024-09-06T07:24:29.288801Z",
     "shell.execute_reply": "2024-09-06T07:24:29.287574Z"
    },
    "papermill": {
     "duration": 0.429824,
     "end_time": "2024-09-06T07:24:29.291472",
     "exception": false,
     "start_time": "2024-09-06T07:24:28.861648",
     "status": "completed"
    },
    "tags": []
   },
   "outputs": [
    {
     "data": {
      "image/png": "[encoded data removed]",
      "text/plain": [
       "<Figure size 1400x700 with 1 Axes>"
      ]
     },
     "metadata": {},
     "output_type": "display_data"
    }
   ],
   "source": [
    "# Visualizing the performance of the models\n",
    "plt.figure(figsize=(14, 7))\n",
    "sns.barplot(x='Model', y='Accuracy', data=performance_df_final, palette='coolwarm')\n",
    "plt.title('Final Model Accuracy Comparison')\n",
    "plt.xticks(rotation=45)\n",
    "plt.show()"
   ]
  },
  {
   "cell_type": "code",
   "execution_count": 28,
   "id": "bc23f79e",
   "metadata": {
    "execution": {
     "iopub.execute_input": "2024-09-06T07:24:29.343974Z",
     "iopub.status.busy": "2024-09-06T07:24:29.343556Z",
     "iopub.status.idle": "2024-09-06T07:24:29.727821Z",
     "shell.execute_reply": "2024-09-06T07:24:29.726415Z"
    },
    "papermill": {
     "duration": 0.414003,
     "end_time": "2024-09-06T07:24:29.730671",
     "exception": false,
     "start_time": "2024-09-06T07:24:29.316668",
     "status": "completed"
    },
    "tags": []
   },
   "outputs": [
    {
     "data": {
      "image/png": "[encoded data removed]",
      "text/plain": [
       "<Figure size 1400x700 with 1 Axes>"
      ]
     },
     "metadata": {},
     "output_type": "display_data"
    }
   ],
   "source": [
    "plt.figure(figsize=(14, 7))\n",
    "sns.barplot(x='Model', y='F1-Score', data=performance_df_final, palette='viridis')\n",
    "plt.title('Final Model F1-Score Comparison')\n",
    "plt.xticks(rotation=45)\n",
    "plt.show()"
   ]
  },
  {
   "cell_type": "code",
   "execution_count": 29,
   "id": "0a984caa",
   "metadata": {
    "execution": {
     "iopub.execute_input": "2024-09-06T07:24:29.787610Z",
     "iopub.status.busy": "2024-09-06T07:24:29.787188Z",
     "iopub.status.idle": "2024-09-06T07:24:29.802717Z",
     "shell.execute_reply": "2024-09-06T07:24:29.801612Z"
    },
    "papermill": {
     "duration": 0.047786,
     "end_time": "2024-09-06T07:24:29.805197",
     "exception": false,
     "start_time": "2024-09-06T07:24:29.757411",
     "status": "completed"
    },
    "tags": []
   },
   "outputs": [
    {
     "data": {
      "text/plain": [
       "['SVC_best_model_with_proba.pkl']"
      ]
     },
     "execution_count": 29,
     "metadata": {},
     "output_type": "execute_result"
    }
   ],
   "source": [
    "# Train and save the SVC model with probability=True\n",
    "svc_model = SVC(probability=True)\n",
    "svc_model.fit(X_train, y_train)\n",
    "joblib.dump(svc_model, 'SVC_best_model_with_proba.pkl')  "
   ]
  },
  {
   "cell_type": "code",
   "execution_count": 30,
   "id": "487c441f",
   "metadata": {
    "execution": {
     "iopub.execute_input": "2024-09-06T07:24:29.858922Z",
     "iopub.status.busy": "2024-09-06T07:24:29.858482Z",
     "iopub.status.idle": "2024-09-06T07:24:29.905072Z",
     "shell.execute_reply": "2024-09-06T07:24:29.904053Z"
    },
    "papermill": {
     "duration": 0.076891,
     "end_time": "2024-09-06T07:24:29.908187",
     "exception": false,
     "start_time": "2024-09-06T07:24:29.831296",
     "status": "completed"
    },
    "tags": []
   },
   "outputs": [],
   "source": [
    "# Save to a specific path\n",
    "joblib.dump(svc_model, '/kaggle/working/SVC_best_model_with_proba.pkl')\n",
    "\n",
    "# Load from the same path\n",
    "voting_clf = VotingClassifier(estimators=[\n",
    "    ('LogReg', joblib.load('/kaggle/working/LogReg_best_model.pkl')),\n",
    "    ('SVC', joblib.load('/kaggle/working/SVC_best_model_with_proba.pkl')),\n",
    "    ('GradientBoosting', joblib.load('/kaggle/working/GradientBoosting_best_model.pkl')),\n",
    "    ('RandomForest', joblib.load('/kaggle/working/RandomForest_best_model.pkl'))\n",
    "], voting='soft')"
   ]
  },
  {
   "cell_type": "code",
   "execution_count": 31,
   "id": "42c8cdb1",
   "metadata": {
    "execution": {
     "iopub.execute_input": "2024-09-06T07:24:29.961995Z",
     "iopub.status.busy": "2024-09-06T07:24:29.961613Z",
     "iopub.status.idle": "2024-09-06T07:24:30.371855Z",
     "shell.execute_reply": "2024-09-06T07:24:30.370612Z"
    },
    "papermill": {
     "duration": 0.439708,
     "end_time": "2024-09-06T07:24:30.374273",
     "exception": false,
     "start_time": "2024-09-06T07:24:29.934565",
     "status": "completed"
    },
    "tags": []
   },
   "outputs": [
    {
     "data": {
      "text/plain": [
       "['/kaggle/working/RandomForest_best_model.pkl']"
      ]
     },
     "execution_count": 31,
     "metadata": {},
     "output_type": "execute_result"
    }
   ],
   "source": [
    "# Re-train models and save them\n",
    "logreg_model = LogisticRegression()\n",
    "logreg_model.fit(X_train, y_train)\n",
    "joblib.dump(logreg_model, '/kaggle/working/LogReg_best_model.pkl')\n",
    "\n",
    "# Similarly for other models\n",
    "svc_model = SVC(probability=True)\n",
    "svc_model.fit(X_train, y_train)\n",
    "joblib.dump(svc_model, '/kaggle/working/SVC_best_model_with_proba.pkl')\n",
    "\n",
    "# GradientBoosting and RandomForest\n",
    "gb_model = GradientBoostingClassifier()\n",
    "gb_model.fit(X_train, y_train)\n",
    "joblib.dump(gb_model, '/kaggle/working/GradientBoosting_best_model.pkl')\n",
    "\n",
    "rf_model = RandomForestClassifier()\n",
    "rf_model.fit(X_train, y_train)\n",
    "joblib.dump(rf_model, '/kaggle/working/RandomForest_best_model.pkl')"
   ]
  },
  {
   "cell_type": "code",
   "execution_count": 32,
   "id": "29e8ed85",
   "metadata": {
    "execution": {
     "iopub.execute_input": "2024-09-06T07:24:30.428196Z",
     "iopub.status.busy": "2024-09-06T07:24:30.427107Z",
     "iopub.status.idle": "2024-09-06T07:24:30.610794Z",
     "shell.execute_reply": "2024-09-06T07:24:30.609850Z"
    },
    "papermill": {
     "duration": 0.213862,
     "end_time": "2024-09-06T07:24:30.613857",
     "exception": false,
     "start_time": "2024-09-06T07:24:30.399995",
     "status": "completed"
    },
    "tags": []
   },
   "outputs": [],
   "source": [
    "voting_clf.fit(X_train, y_train)\n",
    "y_pred_voting = voting_clf.predict(X_test)"
   ]
  },
  {
   "cell_type": "code",
   "execution_count": 33,
   "id": "bbab570e",
   "metadata": {
    "execution": {
     "iopub.execute_input": "2024-09-06T07:24:30.669685Z",
     "iopub.status.busy": "2024-09-06T07:24:30.668848Z",
     "iopub.status.idle": "2024-09-06T07:24:30.674900Z",
     "shell.execute_reply": "2024-09-06T07:24:30.673792Z"
    },
    "papermill": {
     "duration": 0.036446,
     "end_time": "2024-09-06T07:24:30.677473",
     "exception": false,
     "start_time": "2024-09-06T07:24:30.641027",
     "status": "completed"
    },
    "tags": []
   },
   "outputs": [
    {
     "name": "stdout",
     "output_type": "stream",
     "text": [
      "['XGB_best_model.pkl', 'KNN_best_model.pkl', '__notebook__.ipynb', 'AdaBoost_best_model.pkl', 'GradientBoosting_best_model.pkl', 'DecisionTree_best_model.pkl', 'LogReg_best_model.pkl', 'LDA_best_model.pkl', 'SVC_best_model.pkl', 'RandomForest_best_model.pkl', 'SVC_best_model_with_proba.pkl', 'GaussianNB_best_model.pkl']\n"
     ]
    }
   ],
   "source": [
    "import os\n",
    "print(os.listdir('/kaggle/working/'))"
   ]
  },
  {
   "cell_type": "code",
   "execution_count": 34,
   "id": "bb6c4ad4",
   "metadata": {
    "execution": {
     "iopub.execute_input": "2024-09-06T07:24:30.731291Z",
     "iopub.status.busy": "2024-09-06T07:24:30.730878Z",
     "iopub.status.idle": "2024-09-06T07:24:31.131305Z",
     "shell.execute_reply": "2024-09-06T07:24:31.129268Z"
    },
    "papermill": {
     "duration": 0.43058,
     "end_time": "2024-09-06T07:24:31.133966",
     "exception": false,
     "start_time": "2024-09-06T07:24:30.703386",
     "status": "completed"
    },
    "tags": []
   },
   "outputs": [
    {
     "name": "stdout",
     "output_type": "stream",
     "text": [
      "\n",
      "Voting Classifier Performance: Accuracy = 0.8888888888888888, Recall = 1.0, Precision = 0.5, F1-Score = 0.6666666666666666\n"
     ]
    }
   ],
   "source": [
    "voting_clf = VotingClassifier(estimators=[\n",
    "    ('LogReg', joblib.load('/kaggle/working/LogReg_best_model.pkl')),\n",
    "    ('SVC', joblib.load('/kaggle/working/SVC_best_model_with_proba.pkl')),\n",
    "    ('GradientBoosting', joblib.load('/kaggle/working/GradientBoosting_best_model.pkl')),\n",
    "    ('RandomForest', joblib.load('/kaggle/working/RandomForest_best_model.pkl'))\n",
    "], voting='soft')\n",
    "\n",
    "# Train the voting classifier and evaluate\n",
    "voting_clf.fit(X_train, y_train)\n",
    "y_pred_voting = voting_clf.predict(X_test)\n",
    "\n",
    "# Evaluate the voting classifier\n",
    "acc_voting = accuracy_score(y_test, y_pred_voting)\n",
    "recall_voting = recall_score(y_test, y_pred_voting)\n",
    "precision_voting = precision_score(y_test, y_pred_voting)\n",
    "f1_voting = f1_score(y_test, y_pred_voting)\n",
    "\n",
    "print(f\"\\nVoting Classifier Performance: Accuracy = {acc_voting}, Recall = {recall_voting}, Precision = {precision_voting}, F1-Score = {f1_voting}\")"
   ]
  },
  {
   "cell_type": "code",
   "execution_count": 35,
   "id": "9c15b331",
   "metadata": {
    "execution": {
     "iopub.execute_input": "2024-09-06T07:24:31.191070Z",
     "iopub.status.busy": "2024-09-06T07:24:31.190641Z",
     "iopub.status.idle": "2024-09-06T07:24:31.206535Z",
     "shell.execute_reply": "2024-09-06T07:24:31.205320Z"
    },
    "papermill": {
     "duration": 0.048568,
     "end_time": "2024-09-06T07:24:31.209347",
     "exception": false,
     "start_time": "2024-09-06T07:24:31.160779",
     "status": "completed"
    },
    "tags": []
   },
   "outputs": [],
   "source": [
    "# Voting Classifier Performance\n",
    "acc_voting = accuracy_score(y_test, y_pred_voting)\n",
    "recall_voting = recall_score(y_test, y_pred_voting)\n",
    "precision_voting = precision_score(y_test, y_pred_voting)\n",
    "f1_voting = f1_score(y_test, y_pred_voting)"
   ]
  },
  {
   "cell_type": "code",
   "execution_count": 36,
   "id": "4a703752",
   "metadata": {
    "execution": {
     "iopub.execute_input": "2024-09-06T07:24:31.263241Z",
     "iopub.status.busy": "2024-09-06T07:24:31.262822Z",
     "iopub.status.idle": "2024-09-06T07:24:31.268899Z",
     "shell.execute_reply": "2024-09-06T07:24:31.267325Z"
    },
    "papermill": {
     "duration": 0.036101,
     "end_time": "2024-09-06T07:24:31.271545",
     "exception": false,
     "start_time": "2024-09-06T07:24:31.235444",
     "status": "completed"
    },
    "tags": []
   },
   "outputs": [
    {
     "name": "stdout",
     "output_type": "stream",
     "text": [
      "\n",
      "Voting Classifier Performance: Accuracy = 0.8888888888888888, Recall = 1.0, Precision = 0.5, F1-Score = 0.6666666666666666\n"
     ]
    }
   ],
   "source": [
    "# Display Voting Classifier Results\n",
    "print(f\"\\nVoting Classifier Performance: Accuracy = {acc_voting}, Recall = {recall_voting}, Precision = {precision_voting}, F1-Score = {f1_voting}\")"
   ]
  },
  {
   "cell_type": "code",
   "execution_count": 37,
   "id": "d0d9d5b0",
   "metadata": {
    "execution": {
     "iopub.execute_input": "2024-09-06T07:24:31.326083Z",
     "iopub.status.busy": "2024-09-06T07:24:31.325669Z",
     "iopub.status.idle": "2024-09-06T07:24:31.335389Z",
     "shell.execute_reply": "2024-09-06T07:24:31.333751Z"
    },
    "papermill": {
     "duration": 0.040509,
     "end_time": "2024-09-06T07:24:31.338194",
     "exception": false,
     "start_time": "2024-09-06T07:24:31.297685",
     "status": "completed"
    },
    "tags": []
   },
   "outputs": [],
   "source": [
    "# Convert results to DataFrame for further analysis\n",
    "performance_df_final = pd.DataFrame(final_model_performance)\n",
    "performance_df_final = performance_df_final.sort_values(by=['Accuracy', 'F1-Score'], ascending=False)"
   ]
  },
  {
   "cell_type": "code",
   "execution_count": 38,
   "id": "44f894d9",
   "metadata": {
    "execution": {
     "iopub.execute_input": "2024-09-06T07:24:31.392928Z",
     "iopub.status.busy": "2024-09-06T07:24:31.392479Z",
     "iopub.status.idle": "2024-09-06T07:24:31.403908Z",
     "shell.execute_reply": "2024-09-06T07:24:31.402463Z"
    },
    "papermill": {
     "duration": 0.041528,
     "end_time": "2024-09-06T07:24:31.406385",
     "exception": false,
     "start_time": "2024-09-06T07:24:31.364857",
     "status": "completed"
    },
    "tags": []
   },
   "outputs": [
    {
     "name": "stdout",
     "output_type": "stream",
     "text": [
      "\n",
      "Final Model Performance Comparison:\n",
      "               Model  Accuracy  Recall  Precision  F1-Score  CV Mean Accuracy\n",
      "0            LogReg  1.000000     1.0        1.0  1.000000          0.716667\n",
      "1               SVC  1.000000     1.0        1.0  1.000000          0.883333\n",
      "4      RandomForest  1.000000     1.0        1.0  1.000000          0.633333\n",
      "5          AdaBoost  1.000000     1.0        1.0  1.000000          0.516667\n",
      "3      DecisionTree  0.888889     1.0        0.5  0.666667          0.783333\n",
      "6  GradientBoosting  0.888889     1.0        0.5  0.666667          0.783333\n",
      "8               LDA  0.888889     1.0        0.5  0.666667          0.733333\n",
      "9        GaussianNB  0.888889     1.0        0.5  0.666667          0.516667\n",
      "2               KNN  0.888889     0.0        0.0  0.000000          0.566667\n",
      "7               XGB  0.666667     0.0        0.0  0.000000          0.616667\n"
     ]
    }
   ],
   "source": [
    "# Display final performance\n",
    "print(\"\\nFinal Model Performance Comparison:\\n\", performance_df_final)"
   ]
  },
  {
   "cell_type": "code",
   "execution_count": 39,
   "id": "4eda7e7c",
   "metadata": {
    "execution": {
     "iopub.execute_input": "2024-09-06T07:24:31.461327Z",
     "iopub.status.busy": "2024-09-06T07:24:31.460901Z",
     "iopub.status.idle": "2024-09-06T07:24:31.842121Z",
     "shell.execute_reply": "2024-09-06T07:24:31.840869Z"
    },
    "papermill": {
     "duration": 0.411553,
     "end_time": "2024-09-06T07:24:31.844799",
     "exception": false,
     "start_time": "2024-09-06T07:24:31.433246",
     "status": "completed"
    },
    "tags": []
   },
   "outputs": [
    {
     "data": {
      "image/png": "[encoded data removed]",
      "text/plain": [
       "<Figure size 1400x700 with 1 Axes>"
      ]
     },
     "metadata": {},
     "output_type": "display_data"
    }
   ],
   "source": [
    "# Plot the model performance\n",
    "plt.figure(figsize=(14, 7))\n",
    "sns.barplot(x='Model', y='Accuracy', data=performance_df_final, palette='coolwarm')\n",
    "plt.title('Final Model Accuracy Comparison')\n",
    "plt.xticks(rotation=45)\n",
    "plt.show()"
   ]
  },
  {
   "cell_type": "code",
   "execution_count": 40,
   "id": "1d253519",
   "metadata": {
    "execution": {
     "iopub.execute_input": "2024-09-06T07:24:31.901247Z",
     "iopub.status.busy": "2024-09-06T07:24:31.900817Z",
     "iopub.status.idle": "2024-09-06T07:24:32.431308Z",
     "shell.execute_reply": "2024-09-06T07:24:32.429765Z"
    },
    "papermill": {
     "duration": 0.561855,
     "end_time": "2024-09-06T07:24:32.434074",
     "exception": false,
     "start_time": "2024-09-06T07:24:31.872219",
     "status": "completed"
    },
    "tags": []
   },
   "outputs": [
    {
     "data": {
      "image/png": "[encoded data removed]",
      "text/plain": [
       "<Figure size 1400x700 with 1 Axes>"
      ]
     },
     "metadata": {},
     "output_type": "display_data"
    }
   ],
   "source": [
    "plt.figure(figsize=(14, 7))\n",
    "sns.barplot(x='Model', y='F1-Score', data=performance_df_final, palette='viridis')\n",
    "plt.title('Final Model F1-Score Comparison')\n",
    "plt.xticks(rotation=45)\n",
    "plt.show()"
   ]
  },
  {
   "cell_type": "code",
   "execution_count": 41,
   "id": "0700f574",
   "metadata": {
    "execution": {
     "iopub.execute_input": "2024-09-06T07:24:32.492144Z",
     "iopub.status.busy": "2024-09-06T07:24:32.490950Z",
     "iopub.status.idle": "2024-09-06T07:24:32.505839Z",
     "shell.execute_reply": "2024-09-06T07:24:32.504684Z"
    },
    "papermill": {
     "duration": 0.046693,
     "end_time": "2024-09-06T07:24:32.508438",
     "exception": false,
     "start_time": "2024-09-06T07:24:32.461745",
     "status": "completed"
    },
    "tags": []
   },
   "outputs": [
    {
     "data": {
      "text/plain": [
       "['SVC_best_model_with_proba.pkl']"
      ]
     },
     "execution_count": 41,
     "metadata": {},
     "output_type": "execute_result"
    }
   ],
   "source": [
    "# Update SVC with probability=True\n",
    "svc_model = SVC(probability=True)\n",
    "svc_model.fit(X_train, y_train)\n",
    "\n",
    "# Save the SVC model with probability=True\n",
    "joblib.dump(svc_model, 'SVC_best_model_with_proba.pkl')"
   ]
  },
  {
   "cell_type": "code",
   "execution_count": 42,
   "id": "6f7163b5",
   "metadata": {
    "execution": {
     "iopub.execute_input": "2024-09-06T07:24:32.571162Z",
     "iopub.status.busy": "2024-09-06T07:24:32.570688Z",
     "iopub.status.idle": "2024-09-06T07:24:32.642924Z",
     "shell.execute_reply": "2024-09-06T07:24:32.641817Z"
    },
    "papermill": {
     "duration": 0.109277,
     "end_time": "2024-09-06T07:24:32.645660",
     "exception": false,
     "start_time": "2024-09-06T07:24:32.536383",
     "status": "completed"
    },
    "tags": []
   },
   "outputs": [],
   "source": [
    "# Load the saved models, including the SVC model with probability=True\n",
    "voting_clf = VotingClassifier(estimators=[\n",
    "    ('LogReg', joblib.load('LogReg_best_model.pkl')),\n",
    "    ('SVC', joblib.load('SVC_best_model_with_proba.pkl')),  # Loading the retrained SVC model\n",
    "    ('GradientBoosting', joblib.load('GradientBoosting_best_model.pkl')),\n",
    "    ('RandomForest', joblib.load('RandomForest_best_model.pkl'))\n",
    "], voting='soft')"
   ]
  },
  {
   "cell_type": "code",
   "execution_count": 43,
   "id": "37d21107",
   "metadata": {
    "execution": {
     "iopub.execute_input": "2024-09-06T07:24:32.703713Z",
     "iopub.status.busy": "2024-09-06T07:24:32.703293Z",
     "iopub.status.idle": "2024-09-06T07:24:33.064917Z",
     "shell.execute_reply": "2024-09-06T07:24:33.063779Z"
    },
    "papermill": {
     "duration": 0.394217,
     "end_time": "2024-09-06T07:24:33.067918",
     "exception": false,
     "start_time": "2024-09-06T07:24:32.673701",
     "status": "completed"
    },
    "tags": []
   },
   "outputs": [],
   "source": [
    "# Train the voting classifier and evaluate\n",
    "voting_clf.fit(X_train, y_train)\n",
    "y_pred_voting = voting_clf.predict(X_test)"
   ]
  },
  {
   "cell_type": "code",
   "execution_count": 44,
   "id": "781682f5",
   "metadata": {
    "execution": {
     "iopub.execute_input": "2024-09-06T07:24:33.129095Z",
     "iopub.status.busy": "2024-09-06T07:24:33.128623Z",
     "iopub.status.idle": "2024-09-06T07:24:33.146289Z",
     "shell.execute_reply": "2024-09-06T07:24:33.145181Z"
    },
    "papermill": {
     "duration": 0.052459,
     "end_time": "2024-09-06T07:24:33.149212",
     "exception": false,
     "start_time": "2024-09-06T07:24:33.096753",
     "status": "completed"
    },
    "tags": []
   },
   "outputs": [],
   "source": [
    "# Voting classifier performance\n",
    "acc_voting = accuracy_score(y_test, y_pred_voting)\n",
    "recall_voting = recall_score(y_test, y_pred_voting)\n",
    "precision_voting = precision_score(y_test, y_pred_voting)\n",
    "f1_voting = f1_score(y_test, y_pred_voting)"
   ]
  },
  {
   "cell_type": "code",
   "execution_count": 45,
   "id": "20ee1e98",
   "metadata": {
    "execution": {
     "iopub.execute_input": "2024-09-06T07:24:33.207672Z",
     "iopub.status.busy": "2024-09-06T07:24:33.207253Z",
     "iopub.status.idle": "2024-09-06T07:24:33.213177Z",
     "shell.execute_reply": "2024-09-06T07:24:33.212098Z"
    },
    "papermill": {
     "duration": 0.03906,
     "end_time": "2024-09-06T07:24:33.216261",
     "exception": false,
     "start_time": "2024-09-06T07:24:33.177201",
     "status": "completed"
    },
    "tags": []
   },
   "outputs": [
    {
     "name": "stdout",
     "output_type": "stream",
     "text": [
      "\n",
      "Voting Classifier Performance: Accuracy = 0.8888888888888888, Recall = 1.0, Precision = 0.5, F1-Score = 0.6666666666666666\n"
     ]
    }
   ],
   "source": [
    "# Display the performance of the voting classifier\n",
    "print(f\"\\nVoting Classifier Performance: Accuracy = {acc_voting}, Recall = {recall_voting}, Precision = {precision_voting}, F1-Score = {f1_voting}\")"
   ]
  },
  {
   "cell_type": "code",
   "execution_count": 46,
   "id": "3b256e1e",
   "metadata": {
    "execution": {
     "iopub.execute_input": "2024-09-06T07:24:33.296210Z",
     "iopub.status.busy": "2024-09-06T07:24:33.295800Z",
     "iopub.status.idle": "2024-09-06T07:24:33.302080Z",
     "shell.execute_reply": "2024-09-06T07:24:33.300979Z"
    },
    "papermill": {
     "duration": 0.053315,
     "end_time": "2024-09-06T07:24:33.304449",
     "exception": false,
     "start_time": "2024-09-06T07:24:33.251134",
     "status": "completed"
    },
    "tags": []
   },
   "outputs": [],
   "source": [
    "# Function to check for overfitting by comparing train and test accuracy\n",
    "def check_overfitting(model, X_train, y_train, X_test, y_test):\n",
    "    train_accuracy = model.score(X_train, y_train)\n",
    "    test_accuracy = model.score(X_test, y_test)\n",
    "    print(f\"{model.__class__.__name__} - Train Accuracy: {train_accuracy}, Test Accuracy: {test_accuracy}\")\n",
    "    return train_accuracy, test_accuracy"
   ]
  },
  {
   "cell_type": "code",
   "execution_count": 47,
   "id": "02692c41",
   "metadata": {
    "execution": {
     "iopub.execute_input": "2024-09-06T07:24:33.364249Z",
     "iopub.status.busy": "2024-09-06T07:24:33.363836Z",
     "iopub.status.idle": "2024-09-06T07:24:58.588745Z",
     "shell.execute_reply": "2024-09-06T07:24:58.587288Z"
    },
    "papermill": {
     "duration": 25.258288,
     "end_time": "2024-09-06T07:24:58.591685",
     "exception": false,
     "start_time": "2024-09-06T07:24:33.333397",
     "status": "completed"
    },
    "tags": []
   },
   "outputs": [
    {
     "name": "stdout",
     "output_type": "stream",
     "text": [
      "LogReg - Train Accuracy: 0.8888888888888888, Test Accuracy: 1.0\n",
      "LogisticRegression - Train Accuracy: 0.8888888888888888, Test Accuracy: 1.0\n",
      "SVC - Train Accuracy: 0.8888888888888888, Test Accuracy: 1.0\n",
      "SVC - Train Accuracy: 0.8888888888888888, Test Accuracy: 1.0\n",
      "KNN - Train Accuracy: 0.7777777777777778, Test Accuracy: 0.8888888888888888\n",
      "KNeighborsClassifier - Train Accuracy: 0.7777777777777778, Test Accuracy: 0.8888888888888888\n",
      "DecisionTree - Train Accuracy: 1.0, Test Accuracy: 0.8888888888888888\n",
      "DecisionTreeClassifier - Train Accuracy: 1.0, Test Accuracy: 0.8888888888888888\n",
      "RandomForest - Train Accuracy: 1.0, Test Accuracy: 0.8888888888888888\n",
      "RandomForestClassifier - Train Accuracy: 1.0, Test Accuracy: 0.8888888888888888\n",
      "AdaBoost - Train Accuracy: 1.0, Test Accuracy: 1.0\n",
      "AdaBoostClassifier - Train Accuracy: 1.0, Test Accuracy: 1.0\n",
      "GradientBoosting - Train Accuracy: 0.8888888888888888, Test Accuracy: 1.0\n",
      "GradientBoostingClassifier - Train Accuracy: 0.8888888888888888, Test Accuracy: 1.0\n",
      "XGB - Train Accuracy: 0.6666666666666666, Test Accuracy: 0.6666666666666666\n",
      "XGBClassifier - Train Accuracy: 0.6666666666666666, Test Accuracy: 0.6666666666666666\n",
      "LDA - Train Accuracy: 0.9444444444444444, Test Accuracy: 0.8888888888888888\n",
      "LinearDiscriminantAnalysis - Train Accuracy: 0.9444444444444444, Test Accuracy: 0.8888888888888888\n",
      "GaussianNB - Train Accuracy: 0.8333333333333334, Test Accuracy: 0.8888888888888888\n",
      "GaussianNB - Train Accuracy: 0.8333333333333334, Test Accuracy: 0.8888888888888888\n"
     ]
    }
   ],
   "source": [
    "# Train and evaluate models with train-test comparison\n",
    "for name, model in models:\n",
    "    if name in param_grids:\n",
    "        grid_search = GridSearchCV(model, param_grids[name], cv=5, scoring='accuracy')\n",
    "        grid_search.fit(X_train, y_train)\n",
    "        best_model = grid_search.best_estimator_\n",
    "    else:\n",
    "        best_model = model\n",
    "        best_model.fit(X_train, y_train)\n",
    "\n",
    "    # Evaluate train and test performance\n",
    "    train_acc = best_model.score(X_train, y_train)\n",
    "    test_acc = best_model.score(X_test, y_test)\n",
    "    \n",
    "    print(f\"{name} - Train Accuracy: {train_acc}, Test Accuracy: {test_acc}\")\n",
    "    \n",
    "    # Overfitting check\n",
    "    train_accuracy, test_accuracy = check_overfitting(best_model, X_train, y_train, X_test, y_test)"
   ]
  },
  {
   "cell_type": "code",
   "execution_count": 48,
   "id": "792c2dd4",
   "metadata": {
    "execution": {
     "iopub.execute_input": "2024-09-06T07:24:58.654550Z",
     "iopub.status.busy": "2024-09-06T07:24:58.654121Z",
     "iopub.status.idle": "2024-09-06T07:25:24.184845Z",
     "shell.execute_reply": "2024-09-06T07:25:24.182685Z"
    },
    "papermill": {
     "duration": 25.564797,
     "end_time": "2024-09-06T07:25:24.187613",
     "exception": false,
     "start_time": "2024-09-06T07:24:58.622816",
     "status": "completed"
    },
    "tags": []
   },
   "outputs": [
    {
     "name": "stdout",
     "output_type": "stream",
     "text": [
      "LogisticRegression - Train Accuracy: 0.8888888888888888, Test Accuracy: 1.0\n",
      "SVC - Train Accuracy: 0.8888888888888888, Test Accuracy: 1.0\n",
      "KNeighborsClassifier - Train Accuracy: 0.7777777777777778, Test Accuracy: 0.8888888888888888\n",
      "DecisionTreeClassifier - Train Accuracy: 1.0, Test Accuracy: 0.8888888888888888\n",
      "RandomForestClassifier - Train Accuracy: 1.0, Test Accuracy: 0.7777777777777778\n",
      "AdaBoostClassifier - Train Accuracy: 1.0, Test Accuracy: 1.0\n",
      "GradientBoostingClassifier - Train Accuracy: 0.8888888888888888, Test Accuracy: 1.0\n",
      "XGBClassifier - Train Accuracy: 0.6666666666666666, Test Accuracy: 0.6666666666666666\n",
      "LinearDiscriminantAnalysis - Train Accuracy: 0.9444444444444444, Test Accuracy: 0.8888888888888888\n",
      "GaussianNB - Train Accuracy: 0.8333333333333334, Test Accuracy: 0.8888888888888888\n",
      "\n",
      "Overfitting Results:\n",
      "               Model  Train Accuracy  Test Accuracy  Overfitting\n",
      "0            LogReg        0.888889       1.000000    -0.111111\n",
      "1               SVC        0.888889       1.000000    -0.111111\n",
      "6  GradientBoosting        0.888889       1.000000    -0.111111\n",
      "2               KNN        0.777778       0.888889    -0.111111\n",
      "9        GaussianNB        0.833333       0.888889    -0.055556\n",
      "5          AdaBoost        1.000000       1.000000     0.000000\n",
      "7               XGB        0.666667       0.666667     0.000000\n",
      "8               LDA        0.944444       0.888889     0.055556\n",
      "3      DecisionTree        1.000000       0.888889     0.111111\n",
      "4      RandomForest        1.000000       0.777778     0.222222\n"
     ]
    }
   ],
   "source": [
    "# Function to check for overfitting by comparing train and test accuracy\n",
    "def check_overfitting(model, X_train, y_train, X_test, y_test):\n",
    "    train_accuracy = model.score(X_train, y_train)\n",
    "    test_accuracy = model.score(X_test, y_test)\n",
    "    print(f\"{model.__class__.__name__} - Train Accuracy: {train_accuracy}, Test Accuracy: {test_accuracy}\")\n",
    "    return train_accuracy, test_accuracy\n",
    "\n",
    "# List to store overfitting results\n",
    "overfitting_results = []\n",
    "\n",
    "# Train and evaluate models with train-test comparison\n",
    "for name, model in models:\n",
    "    if name in param_grids:\n",
    "        grid_search = GridSearchCV(model, param_grids[name], cv=5, scoring='accuracy')\n",
    "        grid_search.fit(X_train, y_train)\n",
    "        best_model = grid_search.best_estimator_\n",
    "    else:\n",
    "        best_model = model\n",
    "        best_model.fit(X_train, y_train)\n",
    "    \n",
    "    # Evaluate train and test performance\n",
    "    train_acc = best_model.score(X_train, y_train)\n",
    "    test_acc = best_model.score(X_test, y_test)\n",
    "    \n",
    "    # Overfitting check\n",
    "    train_accuracy, test_accuracy = check_overfitting(best_model, X_train, y_train, X_test, y_test)\n",
    "    \n",
    "    # Store the overfitting results\n",
    "    overfitting_results.append({\n",
    "        'Model': name,\n",
    "        'Train Accuracy': train_accuracy,\n",
    "        'Test Accuracy': test_accuracy,\n",
    "        'Overfitting': train_accuracy - test_accuracy  # Higher values indicate overfitting\n",
    "    })\n",
    "\n",
    "# Convert results to DataFrame for easier viewing\n",
    "overfitting_df = pd.DataFrame(overfitting_results).sort_values(by='Overfitting', ascending=True)\n",
    "print(\"\\nOverfitting Results:\\n\", overfitting_df)"
   ]
  },
  {
   "cell_type": "markdown",
   "id": "ae5569b9",
   "metadata": {
    "papermill": {
     "duration": 0.029537,
     "end_time": "2024-09-06T07:25:24.246292",
     "exception": false,
     "start_time": "2024-09-06T07:25:24.216755",
     "status": "completed"
    },
    "tags": []
   },
   "source": [
    "# THE BEST MODEL IS: \n",
    "### AdaBoost - Train Accuracy: 1.0, Test Accuracy: 1.0\n",
    "\n",
    "##### AdaBoostClassifier is the best model in this scenario since it has a perfect Train Accuracy (1.0) and Test Accuracy (1.0), indicating excellent performance without overfitting.**\n",
    "\n",
    "---------------------------------------------------------------------------------------------------------\n",
    "\n",
    "**LogisticRegression, SVC, and GradientBoostingClassifier show good generalization with 100% Test Accuracy and slightly lower Train Accuracy, which is typically a good sign that they are not overfitting.**\n",
    "\n",
    "**Models like DecisionTree and RandomForest may be overfitting since they have perfect Train Accuracy but slightly lower Test Accuracy.**"
   ]
  },
  {
   "cell_type": "markdown",
   "id": "249db63f",
   "metadata": {
    "papermill": {
     "duration": 0.030006,
     "end_time": "2024-09-06T07:25:24.307388",
     "exception": false,
     "start_time": "2024-09-06T07:25:24.277382",
     "status": "completed"
    },
    "tags": []
   },
   "source": [
    "### AdaBoost achieves perfect accuracy on both training and test sets, meaning no overfitting.\n",
    "### This is an ideal case where the model performs equally well on both training and test data, making it the best model."
   ]
  },
  {
   "cell_type": "markdown",
   "id": "b46b1071",
   "metadata": {
    "papermill": {
     "duration": 0.034623,
     "end_time": "2024-09-06T07:25:24.376434",
     "exception": false,
     "start_time": "2024-09-06T07:25:24.341811",
     "status": "completed"
    },
    "tags": []
   },
   "source": [
    "![](http://miro.medium.com/v2/resize:fit:828/format:webp/0*eohJMQXGUYR9mJQQ.png)"
   ]
  },
  {
   "cell_type": "markdown",
   "id": "123de869",
   "metadata": {
    "papermill": {
     "duration": 0.030223,
     "end_time": "2024-09-06T07:25:24.436624",
     "exception": false,
     "start_time": "2024-09-06T07:25:24.406401",
     "status": "completed"
    },
    "tags": []
   },
   "source": [
    "# What is AdaBoost?\n",
    "AdaBoost is a supervised learning algorithm that is used for classification purposes. The algorithm is a meta-learner that is often used as a base learning algorithm to build more complex models.\n",
    "\n",
    "The AdaBoost algorithm, which stands for Adaptive Boosting, is a boosting strategy that is applied in machine learning as part of an Ensemble Method. It is given the name “Adaptive Boosting” because of the fact that the weights are reallocated to each instance, with higher weights being applied to instances that were mistakenly categorized. Boosting is an approach to supervised learning that can reduce bias while also reducing variance.\n",
    "\n"
   ]
  },
  {
   "cell_type": "markdown",
   "id": "43753fa1",
   "metadata": {
    "papermill": {
     "duration": 0.029438,
     "end_time": "2024-09-06T07:25:24.495648",
     "exception": false,
     "start_time": "2024-09-06T07:25:24.466210",
     "status": "completed"
    },
    "tags": []
   },
   "source": [
    "![](http://ars.els-cdn.com/content/image/3-s2.0-B9780128177365000090-f09-18-9780128177365.jpg)"
   ]
  },
  {
   "cell_type": "code",
   "execution_count": null,
   "id": "51f46e14",
   "metadata": {
    "papermill": {
     "duration": 0.029369,
     "end_time": "2024-09-06T07:25:24.555341",
     "exception": false,
     "start_time": "2024-09-06T07:25:24.525972",
     "status": "completed"
    },
    "tags": []
   },
   "outputs": [],
   "source": []
  }
 ],
 "metadata": {
  "kaggle": {
   "accelerator": "none",
   "dataSources": [
    {
     "datasetId": 5053005,
     "sourceId": 8473696,
     "sourceType": "datasetVersion"
    }
   ],
   "dockerImageVersionId": 30698,
   "isGpuEnabled": false,
   "isInternetEnabled": true,
   "language": "python",
   "sourceType": "notebook"
  },
  "kernelspec": {
   "display_name": "Python 3",
   "language": "python",
   "name": "python3"
  },
  "language_info": {
   "codemirror_mode": {
    "name": "ipython",
    "version": 3
   },
   "file_extension": ".py",
   "mimetype": "text/x-python",
   "name": "python",
   "nbconvert_exporter": "python",
   "pygments_lexer": "ipython3",
   "version": "3.10.13"
  },
  "papermill": {
   "default_parameters": {},
   "duration": 101.259891,
   "end_time": "2024-09-06T07:25:27.209312",
   "environment_variables": {},
   "exception": null,
   "input_path": "__notebook__.ipynb",
   "output_path": "__notebook__.ipynb",
   "parameters": {},
   "start_time": "2024-09-06T07:23:45.949421",
   "version": "2.5.0"
  }
 },
 "nbformat": 4,
 "nbformat_minor": 5
}
